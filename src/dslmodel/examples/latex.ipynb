{
 "cells": [
  {
   "cell_type": "code",
   "id": "initial_id",
   "metadata": {
    "collapsed": true,
    "ExecuteTime": {
     "end_time": "2024-10-27T00:32:03.222604Z",
     "start_time": "2024-10-27T00:32:00.857664Z"
    }
   },
   "source": [
    "from typing import List, Optional, Literal\n",
    "from pydantic import BaseModel, Field\n",
    "from dslmodel import DSLModel\n",
    "from enum import Enum\n",
    "\n",
    "\n",
    "class LaTeXComponentType(str, Enum):\n",
    "    SECTION = \"section\"\n",
    "    SUBSECTION = \"subsection\"\n",
    "    EQUATION = \"equation\"\n",
    "    FIGURE = \"figure\"\n",
    "    TABLE = \"table\"\n",
    "    REFERENCE = \"reference\"\n",
    "\n",
    "\n",
    "class LaTeXComponent(DSLModel):\n",
    "    \"\"\"Base class for all LaTeX components.\"\"\"\n",
    "    type_: LaTeXComponentType = Field(..., alias=\"type\", description=\"Type of the LaTeX component.\")\n",
    "    content: Optional[str] = Field(None, description=\"Content of the LaTeX component.\")\n",
    "    label: Optional[str] = Field(None, description=\"Label for referencing.\")\n",
    "    \n",
    "    def to_latex(self) -> str:\n",
    "        \"\"\"Convert component to LaTeX format.\"\"\"\n",
    "        return self.content or \"\"\n",
    "\n",
    "\n",
    "class Section(LaTeXComponent):\n",
    "    \"\"\"Represents a section in LaTeX.\"\"\"\n",
    "    type_: Literal[LaTeXComponentType.SECTION] = Field(LaTeXComponentType.SECTION, alias=\"type\", description=\"Type of the LaTeX component.\")\n",
    "    title: str = Field(..., description=\"Title of the section.\")\n",
    "    content: List[LaTeXComponent] = Field(default_factory=list, description=\"Content of the section, which may include subsections, equations, etc.\")\n",
    "\n",
    "    def to_latex(self) -> str:\n",
    "        \"\"\"Render the section as LaTeX code.\"\"\"\n",
    "        latex_content = f\"\\\\section{{{self.title}}}\\n\"\n",
    "        for item in self.content:\n",
    "            latex_content += item.to_latex()\n",
    "        return latex_content\n",
    "\n",
    "\n",
    "class Subsection(LaTeXComponent):\n",
    "    \"\"\"Represents a subsection in LaTeX.\"\"\"\n",
    "    type_: Literal[LaTeXComponentType.SUBSECTION] = Field(LaTeXComponentType.SUBSECTION, alias=\"type\", description=\"Type of the LaTeX component.\")\n",
    "    title: str = Field(..., description=\"Title of the subsection.\")\n",
    "    content: List[LaTeXComponent] = Field(default_factory=list, description=\"Content of the subsection.\")\n",
    "\n",
    "    def to_latex(self) -> str:\n",
    "        \"\"\"Render the subsection as LaTeX code.\"\"\"\n",
    "        latex_content = f\"\\\\subsection{{{self.title}}}\\n\"\n",
    "        for item in self.content:\n",
    "            latex_content += item.to_latex()\n",
    "        return latex_content\n",
    "\n",
    "\n",
    "class Equation(LaTeXComponent):\n",
    "    \"\"\"Represents an equation in LaTeX.\"\"\"\n",
    "    type_: Literal[LaTeXComponentType.EQUATION] = Field(LaTeXComponentType.EQUATION, alias=\"type\", description=\"Type of the LaTeX component.\")\n",
    "    equation: str = Field(..., description=\"Equation content in LaTeX format.\")\n",
    "    label: Optional[str] = Field(None, description=\"Label for referencing the equation.\")\n",
    "\n",
    "    def to_latex(self) -> str:\n",
    "        \"\"\"Render the equation as LaTeX code.\"\"\"\n",
    "        if self.label:\n",
    "            return f\"\\\\begin{{equation}}\\\\label{{{self.label}}}\\n{self.equation}\\n\\\\end{{equation}}\\n\"\n",
    "        else:\n",
    "            return f\"\\\\begin{{equation}}\\n{self.equation}\\n\\\\end{{equation}}\\n\"\n",
    "\n",
    "\n",
    "class Figure(LaTeXComponent):\n",
    "    \"\"\"Represents a figure in LaTeX.\"\"\"\n",
    "    type_: Literal[LaTeXComponentType.FIGURE] = Field(LaTeXComponentType.FIGURE, alias=\"type\", description=\"Type of the LaTeX component.\")\n",
    "    image_path: str = Field(..., description=\"Path to the image file.\")\n",
    "    caption: str = Field(..., description=\"Caption for the figure.\")\n",
    "    label: Optional[str] = Field(None, description=\"Label for referencing the figure.\")\n",
    "\n",
    "    def to_latex(self) -> str:\n",
    "        \"\"\"Render the figure as LaTeX code.\"\"\"\n",
    "        latex_content = f\"\\\\begin{{figure}}[h!]\\n\\\\centering\\n\\\\includegraphics[width=0.8\\\\textwidth]{{{self.image_path}}}\\n\\\\caption{{{self.caption}}}\\n\"\n",
    "        if self.label:\n",
    "            latex_content += f\"\\\\label{{{self.label}}}\\n\"\n",
    "        latex_content += \"\\\\end{figure}\\n\"\n",
    "        return latex_content\n",
    "\n",
    "\n",
    "class Table(LaTeXComponent):\n",
    "    \"\"\"Represents a table in LaTeX.\"\"\"\n",
    "    type_: Literal[LaTeXComponentType.TABLE] = Field(LaTeXComponentType.TABLE, alias=\"type\", description=\"Type of the LaTeX component.\")\n",
    "    rows: List[List[str]] = Field(..., description=\"Rows of the table.\")\n",
    "    caption: Optional[str] = Field(None, description=\"Caption for the table.\")\n",
    "    label: Optional[str] = Field(None, description=\"Label for referencing the table.\")\n",
    "\n",
    "    def to_latex(self) -> str:\n",
    "        \"\"\"Render the table as LaTeX code.\"\"\"\n",
    "        latex_content = \"\\\\begin{table}[h!]\\n\\\\centering\\n\\\\begin{tabular}{| \" + \" | \".join(\"c\" for _ in self.rows[0]) + \" |}\\n\\\\hline\\n\"\n",
    "        for row in self.rows:\n",
    "            latex_content += \" & \".join(row) + \" \\\\\\\\\\n\\\\hline\\n\"\n",
    "        latex_content += \"\\\\end{tabular}\\n\"\n",
    "        if self.caption:\n",
    "            latex_content += f\"\\\\caption{{{self.caption}}}\\n\"\n",
    "        if self.label:\n",
    "            latex_content += f\"\\\\label{{{self.label}}}\\n\"\n",
    "        latex_content += \"\\\\end{table}\\n\"\n",
    "        return latex_content\n",
    "\n",
    "\n",
    "class Reference(LaTeXComponent):\n",
    "    \"\"\"Represents a reference in LaTeX.\"\"\"\n",
    "    type_: Literal[LaTeXComponentType.REFERENCE] = Field(LaTeXComponentType.REFERENCE, alias=\"type\", description=\"Type of the LaTeX component.\")\n",
    "    label: str = Field(..., description=\"Label for the reference.\")\n",
    "    description: Optional[str] = Field(None, description=\"Description or citation text.\")\n",
    "\n",
    "    def to_latex(self) -> str:\n",
    "        \"\"\"Render the reference as LaTeX code.\"\"\"\n",
    "        return f\"\\\\ref{{{self.label}}} {self.description or ''}\"\n",
    "\n",
    "\n",
    "class LaTeXDocument(DSLModel):\n",
    "    \"\"\"Represents a complete LaTeX document.\"\"\"\n",
    "    title: str = Field(..., description=\"Title of the document.\")\n",
    "    author: Optional[str] = Field(None, description=\"Author of the document.\")\n",
    "    sections: List[Section] = Field(default_factory=list, description=\"List of sections in the document.\")\n",
    "\n",
    "    def render(self) -> str:\n",
    "        \"\"\"Render the document as LaTeX code.\"\"\"\n",
    "        latex_output = f\"\\\\title{{{self.title}}}\\n\\\\author{{{self.author}}}\\n\\\\begin{{document}}\\n\\\\maketitle\\n\"\n",
    "        for section in self.sections:\n",
    "            latex_output += section.to_latex()\n",
    "        latex_output += \"\\\\end{document}\"\n",
    "        return latex_output\n"
   ],
   "outputs": [],
   "execution_count": 2
  },
  {
   "metadata": {
    "ExecuteTime": {
     "end_time": "2024-10-27T00:32:03.225849Z",
     "start_time": "2024-10-27T00:32:03.223367Z"
    }
   },
   "cell_type": "code",
   "source": [
    "# Create components\n",
    "equation = Equation(equation=\"E = mc^2\", label=\"eq:energy\")\n",
    "figure = Figure(image_path=\"images/diagram.png\", caption=\"A sample diagram.\", label=\"fig:diagram\")\n",
    "table = Table(rows=[[\"Header 1\", \"Header 2\"], [\"Row 1 Col 1\", \"Row 1 Col 2\"]], caption=\"Sample Table\", label=\"tab:sample\")\n",
    "\n",
    "# Define sections and subsections\n",
    "subsec = Subsection(title=\"Key Concepts\", content=[equation, figure, table])\n",
    "section = Section(title=\"Introduction\", content=[subsec])\n",
    "\n",
    "# Create document\n",
    "doc = LaTeXDocument(\n",
    "    title=\"Sample Document\",\n",
    "    author=\"John Doe\",\n",
    "    sections=[section]\n",
    ")\n",
    "\n",
    "# Render LaTeX code\n",
    "print(doc.render())\n"
   ],
   "id": "4c1347107659c153",
   "outputs": [
    {
     "name": "stdout",
     "output_type": "stream",
     "text": [
      "\\title{Sample Document}\n",
      "\\author{John Doe}\n",
      "\\begin{document}\n",
      "\\maketitle\n",
      "\\section{Introduction}\n",
      "\\subsection{Key Concepts}\n",
      "\\begin{equation}\\label{eq:energy}\n",
      "E = mc^2\n",
      "\\end{equation}\n",
      "\\begin{figure}[h!]\n",
      "\\centering\n",
      "\\includegraphics[width=0.8\\textwidth]{images/diagram.png}\n",
      "\\caption{A sample diagram.}\n",
      "\\label{fig:diagram}\n",
      "\\end{figure}\n",
      "\\begin{table}[h!]\n",
      "\\centering\n",
      "\\begin{tabular}{| c | c |}\n",
      "\\hline\n",
      "Header 1 & Header 2 \\\\\n",
      "\\hline\n",
      "Row 1 Col 1 & Row 1 Col 2 \\\\\n",
      "\\hline\n",
      "\\end{tabular}\n",
      "\\caption{Sample Table}\n",
      "\\label{tab:sample}\n",
      "\\end{table}\n",
      "\\end{document}\n"
     ]
    }
   ],
   "execution_count": 3
  },
  {
   "metadata": {
    "ExecuteTime": {
     "end_time": "2024-10-27T00:32:30.151028Z",
     "start_time": "2024-10-27T00:32:30.148844Z"
    }
   },
   "cell_type": "code",
   "source": "LaTeXComponent.__repr_name__",
   "id": "c442a0698a55a1e1",
   "outputs": [
    {
     "data": {
      "text/plain": [
       "<function pydantic._internal._repr.Representation.__repr_name__(self) -> 'str'>"
      ]
     },
     "execution_count": 5,
     "metadata": {},
     "output_type": "execute_result"
    }
   ],
   "execution_count": 5
  },
  {
   "metadata": {
    "ExecuteTime": {
     "end_time": "2024-10-27T00:32:03.231010Z",
     "start_time": "2024-10-27T00:32:03.229875Z"
    }
   },
   "cell_type": "code",
   "source": "",
   "id": "693d26e144fa295d",
   "outputs": [],
   "execution_count": 4
  }
 ],
 "metadata": {
  "kernelspec": {
   "display_name": "Python 3",
   "language": "python",
   "name": "python3"
  },
  "language_info": {
   "codemirror_mode": {
    "name": "ipython",
    "version": 2
   },
   "file_extension": ".py",
   "mimetype": "text/x-python",
   "name": "python",
   "nbconvert_exporter": "python",
   "pygments_lexer": "ipython2",
   "version": "2.7.6"
  }
 },
 "nbformat": 4,
 "nbformat_minor": 5
}
