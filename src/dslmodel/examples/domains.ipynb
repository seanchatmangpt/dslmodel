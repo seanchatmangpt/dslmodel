{
 "cells": [
  {
   "metadata": {
    "ExecuteTime": {
     "end_time": "2024-11-10T23:32:16.703523Z",
     "start_time": "2024-11-10T23:32:16.701976Z"
    }
   },
   "cell_type": "code",
   "source": "",
   "id": "706a56b8fa89a54",
   "outputs": [],
   "execution_count": null
  },
  {
   "metadata": {},
   "cell_type": "code",
   "outputs": [],
   "execution_count": null,
   "source": [
    "from dslmodel.utils.file_tools import data_dir\n",
    "from dslmodel.spreadsheet import DSLSpreadsheet\n",
    "from pydantic import Field\n",
    "from dslmodel import DSLModel\n",
    "\n",
    "\n",
    "class Domain(DSLModel):\n",
    "    name: str = Field(..., alias=\"Domain Name\")\n",
    "\n",
    "\n",
    "class Domains(DSLModel):\n",
    "    domains: list[Domain]\n",
    "\n",
    "\n",
    "sheet = DSLSpreadsheet(data_dir(\"domain_list.csv\"), dsl_model=Domain)\n",
    "sheet"
   ],
   "id": "907a4cc6c03f89dc"
  },
  {
   "metadata": {
    "ExecuteTime": {
     "end_time": "2024-11-10T23:32:21.548039Z",
     "start_time": "2024-11-10T23:32:21.545817Z"
    }
   },
   "cell_type": "code",
   "source": "domains = Domains(domains=sheet.results)",
   "id": "4f6d89518c97b4c1",
   "outputs": [],
   "execution_count": 5
  },
  {
   "metadata": {
    "ExecuteTime": {
     "end_time": "2024-11-10T23:32:21.744809Z",
     "start_time": "2024-11-10T23:32:21.723211Z"
    }
   },
   "cell_type": "code",
   "source": [
    "import pyperclip\n",
    "\n",
    "pyperclip.copy(domains.to_yaml(\"domains.yaml\"))\n"
   ],
   "id": "2329e16b2cc0eaec",
   "outputs": [],
   "execution_count": 6
  },
  {
   "metadata": {
    "ExecuteTime": {
     "end_time": "2024-11-10T23:32:17.934646Z",
     "start_time": "2024-11-10T23:32:17.933127Z"
    }
   },
   "cell_type": "code",
   "source": "",
   "id": "bb135088f32c0f00",
   "outputs": [],
   "execution_count": 3
  }
 ],
 "metadata": {
  "kernelspec": {
   "display_name": "Python 3",
   "language": "python",
   "name": "python3"
  },
  "language_info": {
   "codemirror_mode": {
    "name": "ipython",
    "version": 2
   },
   "file_extension": ".py",
   "mimetype": "text/x-python",
   "name": "python",
   "nbconvert_exporter": "python",
   "pygments_lexer": "ipython2",
   "version": "2.7.6"
  }
 },
 "nbformat": 4,
 "nbformat_minor": 5
}
