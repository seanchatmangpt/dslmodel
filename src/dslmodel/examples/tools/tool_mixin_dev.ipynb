{
 "cells": [
  {
   "cell_type": "code",
   "execution_count": 9,
   "id": "initial_id",
   "metadata": {
    "ExecuteTime": {
     "end_time": "2024-10-08T19:29:04.697750Z",
     "start_time": "2024-10-08T19:29:04.692121Z"
    },
    "collapsed": true
   },
   "outputs": [],
   "source": [
    "import inspect\n",
    "import json\n",
    "from typing import Any, Callable, Dict, List, Optional, Type\n",
    "from dslmodel import DSLModel\n",
    "\n",
    "\n",
    "\n",
    "def get_parameters_schema(func: Callable) -> Dict[str, Any]:\n",
    "    sig = inspect.signature(func)\n",
    "    properties = {}\n",
    "    required = []\n",
    "    for name, param in sig.parameters.items():\n",
    "        annotation = param.annotation\n",
    "        if annotation is inspect.Parameter.empty:\n",
    "            param_type = 'string'\n",
    "        else:\n",
    "            param_type = get_json_schema_type(annotation)\n",
    "        properties[name] = {\n",
    "            'type': param_type,\n",
    "            'description': '',  # Optionally, add parameter descriptions\n",
    "        }\n",
    "        if param.default is inspect.Parameter.empty:\n",
    "            required.append(name)\n",
    "    schema = {\n",
    "        'type': 'object',\n",
    "        'properties': properties,\n",
    "        'required': required,\n",
    "        'additionalProperties': False,\n",
    "    }\n",
    "    return schema\n",
    "\n",
    "def get_json_schema_type(py_type: Type) -> str:\n",
    "    # Map Python types to JSON Schema types\n",
    "    if py_type == str:\n",
    "        return 'string'\n",
    "    elif py_type == int:\n",
    "        return 'integer'\n",
    "    elif py_type == float:\n",
    "        return 'number'\n",
    "    elif py_type == bool:\n",
    "        return 'boolean'\n",
    "    elif py_type == dict:\n",
    "        return 'object'\n",
    "    elif py_type == list:\n",
    "        return 'array'\n",
    "    else:\n",
    "        return 'string'  # Default to string if type is unknown"
   ]
  },
  {
   "cell_type": "code",
   "execution_count": 8,
   "id": "e4be4cd3ec15e283",
   "metadata": {
    "ExecuteTime": {
     "end_time": "2024-10-08T19:28:10.826364Z",
     "start_time": "2024-10-08T19:28:10.820778Z"
    }
   },
   "outputs": [],
   "source": [
    "\n",
    "\n",
    "class ToolMixin:\n",
    "    def __init__(self):\n",
    "        self._tools: List[Callable] = []\n",
    "        self.collect_tools()\n",
    "\n",
    "    def collect_tools(self):\n",
    "        # Collect methods decorated with @tool\n",
    "        self._tools = []\n",
    "        for name, method in inspect.getmembers(self, predicate=inspect.ismethod):\n",
    "            if hasattr(method, '_tool_data'):\n",
    "                self._tools.append(method)\n",
    "\n",
    "    def get_tool_definitions(self) -> List[Dict[str, Any]]:\n",
    "        # Generate tool definitions for the OpenAI API\n",
    "        tool_definitions = []\n",
    "        for method in self._tools:\n",
    "            tool_data = method._tool_data\n",
    "            tool_definitions.append({\n",
    "                'type': 'function',\n",
    "                'function': {\n",
    "                    'name': tool_data['name'],\n",
    "                    'description': tool_data['description'],\n",
    "                    'parameters': tool_data['parameters'],\n",
    "                }\n",
    "            })\n",
    "        return tool_definitions\n",
    "\n",
    "    def get_tool_method(self, function_name: str) -> Optional[Callable]:\n",
    "        # Find the method corresponding to the function name\n",
    "        for method in self._tools:\n",
    "            if method._tool_data['name'] == function_name:\n",
    "                return method\n",
    "        return None\n",
    "\n",
    "    def process_response(self, response: Dict[str, Any]) -> List[Dict[str, Any]]:\n",
    "        # Process the response from the OpenAI API\n",
    "        results = []\n",
    "        choices = response.get('choices', [])\n",
    "        for choice in choices:\n",
    "            message = choice.get('message', {})\n",
    "            tool_calls = message.get('tool_calls', [])\n",
    "            for tool_call in tool_calls:\n",
    "                function_name = tool_call['function']['name']\n",
    "                arguments_str = tool_call['function']['arguments']\n",
    "                try:\n",
    "                    arguments = json.loads(arguments_str)\n",
    "                except json.JSONDecodeError:\n",
    "                    # Handle JSON parsing error\n",
    "                    continue\n",
    "                method = self.get_tool_method(function_name)\n",
    "                if method:\n",
    "                    try:\n",
    "                        result = method(**arguments)\n",
    "                        # Prepare the message to send the result back to the model\n",
    "                        result_message = {\n",
    "                            \"role\": \"tool\",\n",
    "                            \"content\": json.dumps(result),\n",
    "                            \"tool_call_id\": tool_call['id']\n",
    "                        }\n",
    "                        results.append(result_message)\n",
    "                    except Exception as e:\n",
    "                        # Handle execution errors\n",
    "                        error_message = {\n",
    "                            \"role\": \"tool\",\n",
    "                            \"content\": json.dumps({\"error\": str(e)}),\n",
    "                            \"tool_call_id\": tool_call['id']\n",
    "                        }\n",
    "                        results.append(error_message)\n",
    "                else:\n",
    "                    # Handle unknown function\n",
    "                    error_message = {\n",
    "                        \"role\": \"tool\",\n",
    "                        \"content\": json.dumps({\"error\": f\"Function {function_name} not found.\"}),\n",
    "                        \"tool_call_id\": tool_call['id']\n",
    "                    }\n",
    "                    results.append(error_message)\n",
    "        return results\n",
    "\n"
   ]
  },
  {
   "cell_type": "code",
   "execution_count": 3,
   "id": "6b5f4e6091997a00",
   "metadata": {
    "ExecuteTime": {
     "end_time": "2024-10-08T19:24:16.801318Z",
     "start_time": "2024-10-08T19:24:15.795058Z"
    }
   },
   "outputs": [],
   "source": [
    "import httpx\n",
    "from typing import List, Dict, Any, Optional\n",
    "\n",
    "from dslmodel import DSLModel, init_instant, init_text\n",
    "\n",
    "\n",
    "class Cat(DSLModel):\n",
    "    id: str\n",
    "    name: Optional[str] = None\n",
    "    url: str\n",
    "    width: int\n",
    "    height: int\n",
    "    \n",
    "class CatBreed(DSLModel):\n",
    "    name: str\n",
    "    description: str\n",
    "\n",
    "# Define the base URL for The Cat API\n",
    "CAT_API_URL = \"https://api.thecatapi.com/v1\"\n",
    "\n",
    "# Tool to fetch a random cat image\n",
    "@tool(name=\"fetch_random_cat_image\", description=\"Fetch a random cat image\")\n",
    "def fetch_random_cat_image() -> Cat:\n",
    "    with httpx.Client() as client:\n",
    "        response = client.get(f\"{CAT_API_URL}/images/search\")\n",
    "        return Cat(**response.json()[0])\n",
    "\n",
    "# Tool to fetch cat breeds information\n",
    "@tool(name=\"fetch_cat_breeds\", description=\"Fetch information about cat breeds\")\n",
    "def fetch_cat_breeds(limit: Optional[int] = 5) -> List[Dict[str, Any]]:\n",
    "    with httpx.Client() as client:\n",
    "        response = client.get(f\"{CAT_API_URL}/breeds\")\n",
    "        if response.status_code == 200:\n",
    "            breeds = response.json()[:limit]  # Limit the number of breeds\n",
    "            breed_info = [CatBreed(name=breed[\"name\"], description=breed[\"description\"]) for breed in breeds]\n",
    "            return breed_info\n",
    "        else:\n",
    "            raise Exception(f\"Failed to fetch cat breeds. Status code: {response.status_code}\")"
   ]
  },
  {
   "cell_type": "code",
   "execution_count": 4,
   "id": "70b797e2c6cc9f09",
   "metadata": {
    "ExecuteTime": {
     "end_time": "2024-10-08T19:24:17.380088Z",
     "start_time": "2024-10-08T19:24:16.801915Z"
    }
   },
   "outputs": [
    {
     "name": "stdout",
     "output_type": "stream",
     "text": [
      "id='DbwiefiaY' name=None url='https://cdn2.thecatapi.com/images/DbwiefiaY.png' width=1200 height=627\n",
      "id='DbwiefiaY' name='Cali' url='https://cdn2.thecatapi.com/images/DbwiefiaY.png' width=1200 height=627\n"
     ]
    }
   ],
   "source": [
    "init_instant()\n",
    "\n",
    "cat = fetch_random_cat_image()\n",
    "print(cat)\n",
    "cat2 = Cat.from_prompt(f\"{cat} change name to Cali. Change the output\")\n",
    "print(cat2)"
   ]
  },
  {
   "cell_type": "code",
   "execution_count": 5,
   "id": "a77037f3bdf17734",
   "metadata": {
    "ExecuteTime": {
     "end_time": "2024-10-08T19:24:17.568451Z",
     "start_time": "2024-10-08T19:24:17.382628Z"
    }
   },
   "outputs": [
    {
     "data": {
      "text/plain": [
       "[CatBreed(name='Abyssinian', description='The Abyssinian is easy to care for, and a joy to have in your home. They’re affectionate cats and love both people and other animals.'),\n",
       " CatBreed(name='Aegean', description='Native to the Greek islands known as the Cyclades in the Aegean Sea, these are natural cats, meaning they developed without humans getting involved in their breeding. As a breed, Aegean Cats are rare, although they are numerous on their home islands. They are generally friendly toward people and can be excellent cats for families with children.'),\n",
       " CatBreed(name='American Bobtail', description='American Bobtails are loving and incredibly intelligent cats possessing a distinctive wild appearance. They are extremely interactive cats that bond with their human family with great devotion.'),\n",
       " CatBreed(name='American Curl', description='Distinguished by truly unique ears that curl back in a graceful arc, offering an alert, perky, happily surprised expression, they cause people to break out into a big smile when viewing their first Curl. Curls are very people-oriented, faithful, affectionate soulmates, adjusting remarkably fast to other pets, children, and new situations.'),\n",
       " CatBreed(name='American Shorthair', description='The American Shorthair is known for its longevity, robust health, good looks, sweet personality, and amiability with children, dogs, and other pets.')]"
      ]
     },
     "execution_count": 5,
     "metadata": {},
     "output_type": "execute_result"
    }
   ],
   "source": [
    "fetch_cat_breeds()"
   ]
  },
  {
   "cell_type": "code",
   "execution_count": 7,
   "id": "c3c7b97c063c5de0",
   "metadata": {
    "ExecuteTime": {
     "end_time": "2024-10-08T19:27:43.182383Z",
     "start_time": "2024-10-08T19:27:43.176902Z"
    }
   },
   "outputs": [
    {
     "data": {
      "text/plain": [
       "[{'type': 'function',\n",
       "  'function': {'name': 'fetch_cat_breeds',\n",
       "   'description': 'Fetch information about cat breeds',\n",
       "   'parameters': {'type': 'object',\n",
       "    'properties': {'self': {'type': 'string', 'description': ''},\n",
       "     'limit': {'type': 'string', 'description': ''}},\n",
       "    'required': ['self'],\n",
       "    'additionalProperties': False}}},\n",
       " {'type': 'function',\n",
       "  'function': {'name': 'fetch_random_cat_image',\n",
       "   'description': 'Fetch a random cat image',\n",
       "   'parameters': {'type': 'object',\n",
       "    'properties': {'self': {'type': 'string', 'description': ''}},\n",
       "    'required': ['self'],\n",
       "    'additionalProperties': False}}}]"
      ]
     },
     "execution_count": 7,
     "metadata": {},
     "output_type": "execute_result"
    }
   ],
   "source": [
    "class CatTools(ToolMixin):\n",
    "    # Tool to fetch a random cat image\n",
    "    @tool(name=\"fetch_random_cat_image\", description=\"Fetch a random cat image\")\n",
    "    def fetch_random_cat_image(self) -> Cat:\n",
    "        with httpx.Client() as client:\n",
    "            response = client.get(f\"{CAT_API_URL}/images/search\")\n",
    "            return Cat(**response.json()[0])\n",
    "\n",
    "    # Tool to fetch cat breeds information\n",
    "    @tool(name=\"fetch_cat_breeds\", description=\"Fetch information about cat breeds\")\n",
    "    def fetch_cat_breeds(self, limit: Optional[int] = 5) -> List[Dict[str, Any]]:\n",
    "        with httpx.Client() as client:\n",
    "            response = client.get(f\"{CAT_API_URL}/breeds\")\n",
    "            if response.status_code == 200:\n",
    "                breeds = response.json()[:limit]  # Limit the number of breeds\n",
    "                breed_info = [CatBreed(name=breed[\"name\"], description=breed[\"description\"]) for breed in breeds]\n",
    "                return breed_info\n",
    "            else:\n",
    "                raise Exception(f\"Failed to fetch cat breeds. Status code: {response.status_code}\")\n",
    "            \n",
    "\n",
    "tools = CatTools()\n",
    "tools.get_tool_definitions()"
   ]
  },
  {
   "cell_type": "code",
   "execution_count": 24,
   "id": "257d0c49f75a7a3e",
   "metadata": {
    "ExecuteTime": {
     "end_time": "2024-10-08T19:57:58.697478Z",
     "start_time": "2024-10-08T19:56:48.777889Z"
    }
   },
   "outputs": [
    {
     "ename": "KeyboardInterrupt",
     "evalue": "",
     "output_type": "error",
     "traceback": [
      "\u001B[0;31m---------------------------------------------------------------------------\u001B[0m",
      "\u001B[0;31mKeyboardInterrupt\u001B[0m                         Traceback (most recent call last)",
      "Cell \u001B[0;32mIn[24], line 36\u001B[0m\n\u001B[1;32m     32\u001B[0m         chose \u001B[38;5;241m=\u001B[39m ChosenTool\u001B[38;5;241m.\u001B[39mfrom_prompt(\u001B[38;5;124mf\u001B[39m\u001B[38;5;124m\"\u001B[39m\u001B[38;5;132;01m{\u001B[39;00m\u001B[38;5;28mself\u001B[39m\u001B[38;5;132;01m}\u001B[39;00m\u001B[38;5;130;01m\\n\u001B[39;00m\u001B[38;5;132;01m{\u001B[39;00mprompt\u001B[38;5;132;01m}\u001B[39;00m\u001B[38;5;124m\"\u001B[39m)\n\u001B[1;32m     33\u001B[0m         \u001B[38;5;28;01mreturn\u001B[39;00m chose\n\u001B[0;32m---> 36\u001B[0m tools \u001B[38;5;241m=\u001B[39m \u001B[43mCatTools\u001B[49m\u001B[43m(\u001B[49m\u001B[43m)\u001B[49m\u001B[38;5;241;43m.\u001B[39;49m\u001B[43mfrom_call\u001B[49m\u001B[43m(\u001B[49m\u001B[38;5;124;43m\"\u001B[39;49m\u001B[38;5;124;43mGet me 10 cat breeds\u001B[39;49m\u001B[38;5;124;43m\"\u001B[39;49m\u001B[43m)\u001B[49m\n\u001B[1;32m     37\u001B[0m \u001B[38;5;28mprint\u001B[39m(tools)\n",
      "Cell \u001B[0;32mIn[24], line 33\u001B[0m, in \u001B[0;36mCatTools.from_call\u001B[0;34m(self, prompt)\u001B[0m\n\u001B[1;32m     31\u001B[0m \u001B[38;5;28;01mdef\u001B[39;00m \u001B[38;5;21mfrom_call\u001B[39m(\u001B[38;5;28mself\u001B[39m, prompt: \u001B[38;5;28mstr\u001B[39m) \u001B[38;5;241m-\u001B[39m\u001B[38;5;241m>\u001B[39m \u001B[38;5;124m'\u001B[39m\u001B[38;5;124mCatTools\u001B[39m\u001B[38;5;124m'\u001B[39m: \n\u001B[1;32m     32\u001B[0m     chose \u001B[38;5;241m=\u001B[39m ChosenTool\u001B[38;5;241m.\u001B[39mfrom_prompt(\u001B[38;5;124mf\u001B[39m\u001B[38;5;124m\"\u001B[39m\u001B[38;5;132;01m{\u001B[39;00m\u001B[38;5;28mself\u001B[39m\u001B[38;5;132;01m}\u001B[39;00m\u001B[38;5;130;01m\\n\u001B[39;00m\u001B[38;5;132;01m{\u001B[39;00mprompt\u001B[38;5;132;01m}\u001B[39;00m\u001B[38;5;124m\"\u001B[39m)\n\u001B[0;32m---> 33\u001B[0m     \u001B[38;5;28;01mreturn\u001B[39;00m \u001B[43mchose\u001B[49m\n",
      "File \u001B[0;32m_pydevd_bundle/pydevd_cython_darwin_312_64.pyx:1187\u001B[0m, in \u001B[0;36m_pydevd_bundle.pydevd_cython_darwin_312_64.SafeCallWrapper.__call__\u001B[0;34m()\u001B[0m\n",
      "File \u001B[0;32m_pydevd_bundle/pydevd_cython_darwin_312_64.pyx:627\u001B[0m, in \u001B[0;36m_pydevd_bundle.pydevd_cython_darwin_312_64.PyDBFrame.trace_dispatch\u001B[0;34m()\u001B[0m\n",
      "File \u001B[0;32m_pydevd_bundle/pydevd_cython_darwin_312_64.pyx:937\u001B[0m, in \u001B[0;36m_pydevd_bundle.pydevd_cython_darwin_312_64.PyDBFrame.trace_dispatch\u001B[0;34m()\u001B[0m\n",
      "File \u001B[0;32m_pydevd_bundle/pydevd_cython_darwin_312_64.pyx:928\u001B[0m, in \u001B[0;36m_pydevd_bundle.pydevd_cython_darwin_312_64.PyDBFrame.trace_dispatch\u001B[0;34m()\u001B[0m\n",
      "File \u001B[0;32m_pydevd_bundle/pydevd_cython_darwin_312_64.pyx:585\u001B[0m, in \u001B[0;36m_pydevd_bundle.pydevd_cython_darwin_312_64.PyDBFrame.do_wait_suspend\u001B[0;34m()\u001B[0m\n",
      "File \u001B[0;32m/Applications/PyCharm.app/Contents/plugins/python/helpers/pydev/pydevd.py:1185\u001B[0m, in \u001B[0;36mPyDB.do_wait_suspend\u001B[0;34m(self, thread, frame, event, arg, send_suspend_message, is_unhandled_exception)\u001B[0m\n\u001B[1;32m   1182\u001B[0m         from_this_thread\u001B[38;5;241m.\u001B[39mappend(frame_id)\n\u001B[1;32m   1184\u001B[0m \u001B[38;5;28;01mwith\u001B[39;00m \u001B[38;5;28mself\u001B[39m\u001B[38;5;241m.\u001B[39m_threads_suspended_single_notification\u001B[38;5;241m.\u001B[39mnotify_thread_suspended(thread_id, stop_reason):\n\u001B[0;32m-> 1185\u001B[0m     \u001B[38;5;28;43mself\u001B[39;49m\u001B[38;5;241;43m.\u001B[39;49m\u001B[43m_do_wait_suspend\u001B[49m\u001B[43m(\u001B[49m\u001B[43mthread\u001B[49m\u001B[43m,\u001B[49m\u001B[43m \u001B[49m\u001B[43mframe\u001B[49m\u001B[43m,\u001B[49m\u001B[43m \u001B[49m\u001B[43mevent\u001B[49m\u001B[43m,\u001B[49m\u001B[43m \u001B[49m\u001B[43marg\u001B[49m\u001B[43m,\u001B[49m\u001B[43m \u001B[49m\u001B[43msuspend_type\u001B[49m\u001B[43m,\u001B[49m\u001B[43m \u001B[49m\u001B[43mfrom_this_thread\u001B[49m\u001B[43m)\u001B[49m\n",
      "File \u001B[0;32m/Applications/PyCharm.app/Contents/plugins/python/helpers/pydev/pydevd.py:1200\u001B[0m, in \u001B[0;36mPyDB._do_wait_suspend\u001B[0;34m(self, thread, frame, event, arg, suspend_type, from_this_thread)\u001B[0m\n\u001B[1;32m   1197\u001B[0m             \u001B[38;5;28mself\u001B[39m\u001B[38;5;241m.\u001B[39m_call_mpl_hook()\n\u001B[1;32m   1199\u001B[0m         \u001B[38;5;28mself\u001B[39m\u001B[38;5;241m.\u001B[39mprocess_internal_commands()\n\u001B[0;32m-> 1200\u001B[0m         \u001B[43mtime\u001B[49m\u001B[38;5;241;43m.\u001B[39;49m\u001B[43msleep\u001B[49m\u001B[43m(\u001B[49m\u001B[38;5;241;43m0.01\u001B[39;49m\u001B[43m)\u001B[49m\n\u001B[1;32m   1202\u001B[0m \u001B[38;5;28mself\u001B[39m\u001B[38;5;241m.\u001B[39mcancel_async_evaluation(get_current_thread_id(thread), \u001B[38;5;28mstr\u001B[39m(\u001B[38;5;28mid\u001B[39m(frame)))\n\u001B[1;32m   1204\u001B[0m \u001B[38;5;66;03m# process any stepping instructions\u001B[39;00m\n",
      "\u001B[0;31mKeyboardInterrupt\u001B[0m: "
     ]
    }
   ],
   "source": [
    "from pydantic import Field\n",
    "\n",
    "class Tool(DSLModel):\n",
    "    name: str\n",
    "    description: Optional[str] = None\n",
    "    method: Callable = None\n",
    "    \n",
    "    \n",
    "class ChosenTool(DSLModel):\n",
    "    \"\"\"Name of the def to call\"\"\"\n",
    "    name: str = Field(..., description=\"Name of the function to call\")\n",
    "    kwargs: dict = Field(default={}, description=\"Keyword arguments to pass to the function\")\n",
    "\n",
    "\n",
    "class CatTools:\n",
    "    current_cat: Cat = Field(default=None)\n",
    "    current_breeds: list[CatBreed] = Field(default=[])\n",
    "\n",
    "    \n",
    "    \n",
    "    def fetch_random_cat_image(self, **kwargs) -> Cat:\n",
    "        with httpx.Client() as client:\n",
    "            response = client.get(f\"{CAT_API_URL}/images/search\", **kwargs)\n",
    "            return Cat(**response.json()[0])\n",
    "    \n",
    "    def fetch_cat_breeds(self, limit: Optional[int] = 5, **kwargs) -> List[Dict[str, Any]]:\n",
    "        with httpx.Client() as client:\n",
    "            response = client.get(f\"{CAT_API_URL}/breeds\", **kwargs )\n",
    "            breeds = response.json()[:limit]  # Limit the number of breeds\n",
    "            breed_info = [CatBreed(name=breed[\"name\"], description=breed[\"description\"]) for breed in breeds]\n",
    "            return breed_info\n",
    "       \n",
    "    def from_call(self, prompt: str) -> 'CatTools': \n",
    "        chose = ChosenTool.from_prompt(f\"{self}\\n{prompt}\")\n",
    "        return chose\n",
    "            \n",
    "\n",
    "tools = CatTools().from_call(\"Get me 10 cat breeds\")\n",
    "print(tools)"
   ]
  },
  {
   "cell_type": "code",
   "execution_count": null,
   "id": "a24b08d2",
   "metadata": {},
   "outputs": [],
   "source": []
  }
 ],
 "metadata": {
  "kernelspec": {
   "display_name": "Python 3",
   "language": "python",
   "name": "python3"
  },
  "language_info": {
   "codemirror_mode": {
    "name": "ipython",
    "version": 2
   },
   "file_extension": ".py",
   "mimetype": "text/x-python",
   "name": "python",
   "nbconvert_exporter": "python",
   "pygments_lexer": "ipython2",
   "version": "3.12.5"
  }
 },
 "nbformat": 4,
 "nbformat_minor": 5
}
