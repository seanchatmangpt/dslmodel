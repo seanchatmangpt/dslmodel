{
 "cells": [
  {
   "cell_type": "code",
   "execution_count": 1,
   "id": "initial_id",
   "metadata": {
    "ExecuteTime": {
     "end_time": "2024-10-04T03:43:43.200486Z",
     "start_time": "2024-10-04T03:43:42.329310Z"
    },
    "collapsed": true
   },
   "outputs": [],
   "source": [
    "from datetime import datetime\n",
    "from pydantic import Field\n",
    "\n",
    "from dslmodel import DSLModel"
   ]
  },
  {
   "cell_type": "code",
   "id": "8dc14465d93f28b",
   "metadata": {
    "ExecuteTime": {
     "end_time": "2024-10-04T03:49:10.302479Z",
     "start_time": "2024-10-04T03:49:10.297287Z"
    }
   },
   "source": [
    "class Task(DSLModel):\n",
    "    name: str = Field(description=\"The name of the task\")\n",
    "    description: str = Field(description=\"The description of the task\")\n",
    "    due_date: datetime = Field(default=datetime.now(), description=\"The due date of the task\")\n",
    "    done: bool = Field(default=False, description=\"Whether the task is done\")\n",
    "\n",
    "\n",
    "class Runner(DSLModel):\n",
    "    tasks: list[Task]\n",
    "\n",
    "    def forward(self):\n",
    "        print(f\"Starting to run tasks at {datetime.now()}\")\n",
    "        for task in self.tasks:\n",
    "            print(f\"Running task: {task.name}\\n{task.description}\")\n",
    "            task.done = True\n",
    "            print(f\"Task {task.name} done: {task.done}\")\n",
    "        print(f\"Finished running tasks at {datetime.now()}\")"
   ],
   "outputs": [],
   "execution_count": 16
  },
  {
   "cell_type": "code",
   "id": "a31b9548e59e547f",
   "metadata": {
    "ExecuteTime": {
     "end_time": "2024-10-04T03:49:15.034607Z",
     "start_time": "2024-10-04T03:49:15.031093Z"
    }
   },
   "source": [
    "runner = Runner(tasks=[\n",
    "  Task(name=\"Say Hello World!\", \n",
    "       description=\"Hello World is a simple greeting to represent the start of a new project\", \n",
    "       due_date=datetime.now())])\n",
    "\n",
    "print(runner.to_yaml())"
   ],
   "outputs": [
    {
     "name": "stdout",
     "output_type": "stream",
     "text": [
      "tasks:\n",
      "- description: Hello World is a simple greeting to represent the start of a new project\n",
      "  done: false\n",
      "  due_date: 2024-10-03 20:49:15.032314\n",
      "  name: Say Hello World!\n",
      "\n"
     ]
    }
   ],
   "execution_count": 17
  },
  {
   "cell_type": "code",
   "id": "8f757f76ec18739b",
   "metadata": {
    "ExecuteTime": {
     "end_time": "2024-10-04T03:49:20.930224Z",
     "start_time": "2024-10-04T03:49:20.926797Z"
    }
   },
   "source": [
    "task1 = Task(name=\"Task 1\", description=\"Open the door\", due_date=datetime.now())\n",
    "task2 = Task(name=\"Task 2\", description=\"Get the mail\", due_date=datetime.now())\n",
    "task3 = Task(name=\"Task 3\", description=\"Water the plants\", due_date=datetime.now())\n",
    "\n",
    "runner = Runner(tasks=[task1, task2, task3])\n",
    "runner.forward()"
   ],
   "outputs": [
    {
     "name": "stdout",
     "output_type": "stream",
     "text": [
      "Starting to run tasks at 2024-10-03 20:49:20.928302\n",
      "Running task: Task 1\n",
      "Open the door\n",
      "Task Task 1 done: True\n",
      "Running task: Task 2\n",
      "Get the mail\n",
      "Task Task 2 done: True\n",
      "Running task: Task 3\n",
      "Water the plants\n",
      "Task Task 3 done: True\n",
      "Finished running tasks at 2024-10-03 20:49:20.928413\n"
     ]
    }
   ],
   "execution_count": 18
  },
  {
   "cell_type": "code",
   "id": "7ae749a4ae7ba389",
   "metadata": {
    "ExecuteTime": {
     "end_time": "2024-10-04T03:49:23.034310Z",
     "start_time": "2024-10-04T03:49:23.030402Z"
    }
   },
   "source": [
    "tasks_yaml = \"\"\"tasks:\n",
    "- description: Open the door\n",
    "  done: true\n",
    "  due_date: 2024-10-03 20:45:19.952384\n",
    "  name: Task 1\n",
    "- description: Get the mail\n",
    "  done: true\n",
    "  due_date: 2024-10-03 20:45:19.952508\n",
    "  name: Task 2\n",
    "- description: Water the plants\n",
    "  done: true\n",
    "  due_date: 2024-10-03 20:45:19.952541\n",
    "  name: Task 3\n",
    "\"\"\"\n",
    "runner = Runner.from_yaml(tasks_yaml)\n",
    "runner.forward()"
   ],
   "outputs": [
    {
     "name": "stdout",
     "output_type": "stream",
     "text": [
      "Starting to run tasks at 2024-10-03 20:49:23.032351\n",
      "Running task: Task 1\n",
      "Open the door\n",
      "Task Task 1 done: True\n",
      "Running task: Task 2\n",
      "Get the mail\n",
      "Task Task 2 done: True\n",
      "Running task: Task 3\n",
      "Water the plants\n",
      "Task Task 3 done: True\n",
      "Finished running tasks at 2024-10-03 20:49:23.032518\n"
     ]
    }
   ],
   "execution_count": 19
  },
  {
   "cell_type": "code",
   "id": "5998a5133cdcd13e",
   "metadata": {
    "ExecuteTime": {
     "end_time": "2024-10-04T03:49:48.473242Z",
     "start_time": "2024-10-04T03:49:48.469947Z"
    }
   },
   "source": "runner.to_json()",
   "outputs": [
    {
     "data": {
      "text/plain": [
       "'{\"tasks\":[{\"name\":\"Task 1\",\"description\":\"Open the door\",\"due_date\":\"2024-10-03T20:45:19.952384\",\"done\":true},{\"name\":\"Task 2\",\"description\":\"Get the mail\",\"due_date\":\"2024-10-03T20:45:19.952508\",\"done\":true},{\"name\":\"Task 3\",\"description\":\"Water the plants\",\"due_date\":\"2024-10-03T20:45:19.952541\",\"done\":true}]}'"
      ]
     },
     "execution_count": 21,
     "metadata": {},
     "output_type": "execute_result"
    }
   ],
   "execution_count": 21
  },
  {
   "metadata": {
    "ExecuteTime": {
     "end_time": "2024-10-04T03:49:53.840076Z",
     "start_time": "2024-10-04T03:49:53.837700Z"
    }
   },
   "cell_type": "code",
   "source": "runner.to_toml()",
   "id": "833797d6f6ecb108",
   "outputs": [
    {
     "data": {
      "text/plain": [
       "'[[tasks]]\\nname = \"Task 1\"\\ndescription = \"Open the door\"\\ndue_date = 2024-10-03T20:45:19.952384\\ndone = true\\n\\n[[tasks]]\\nname = \"Task 2\"\\ndescription = \"Get the mail\"\\ndue_date = 2024-10-03T20:45:19.952508\\ndone = true\\n\\n[[tasks]]\\nname = \"Task 3\"\\ndescription = \"Water the plants\"\\ndue_date = 2024-10-03T20:45:19.952541\\ndone = true\\n\\n'"
      ]
     },
     "execution_count": 22,
     "metadata": {},
     "output_type": "execute_result"
    }
   ],
   "execution_count": 22
  },
  {
   "metadata": {},
   "cell_type": "code",
   "outputs": [],
   "execution_count": null,
   "source": "",
   "id": "7b019b64b5b1bd76"
  }
 ],
 "metadata": {
  "kernelspec": {
   "display_name": "Python 3",
   "language": "python",
   "name": "python3"
  },
  "language_info": {
   "codemirror_mode": {
    "name": "ipython",
    "version": 2
   },
   "file_extension": ".py",
   "mimetype": "text/x-python",
   "name": "python",
   "nbconvert_exporter": "python",
   "pygments_lexer": "ipython2",
   "version": "3.12.5"
  }
 },
 "nbformat": 4,
 "nbformat_minor": 5
}
