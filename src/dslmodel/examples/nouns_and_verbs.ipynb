{
 "cells": [
  {
   "cell_type": "code",
   "id": "initial_id",
   "metadata": {
    "collapsed": true,
    "ExecuteTime": {
     "end_time": "2024-10-05T01:39:47.468870Z",
     "start_time": "2024-10-05T01:39:45.709101Z"
    }
   },
   "source": [
    "from datetime import datetime\n",
    "from pydantic import Field\n",
    "\n",
    "from dslmodel import DSLModel"
   ],
   "outputs": [],
   "execution_count": 1
  },
  {
   "cell_type": "code",
   "id": "8dc14465d93f28b",
   "metadata": {
    "ExecuteTime": {
     "end_time": "2024-10-05T01:39:53.421200Z",
     "start_time": "2024-10-05T01:39:53.413354Z"
    }
   },
   "source": [
    "class Task(DSLModel):\n",
    "    name: str = Field(description=\"The name of the task\")\n",
    "    description: str = Field(description=\"The description of the task\")\n",
    "    due_date: datetime = Field(default=datetime.now(), description=\"The due date of the task\")\n",
    "    done: bool = Field(default=False, description=\"Whether the task is done\")\n",
    "\n",
    "\n",
    "class Runner(DSLModel):\n",
    "    tasks: list[Task]\n",
    "\n",
    "    def forward(self):\n",
    "        print(f\"Starting to run tasks at {datetime.now()}\")\n",
    "        for task in self.tasks:\n",
    "            print(f\"Running task: {task.name}\\n{task.description}\")\n",
    "            task.done = True\n",
    "            print(f\"Task {task.name} done: {task.done}\")\n",
    "        print(f\"Finished running tasks at {datetime.now()}\")"
   ],
   "outputs": [],
   "execution_count": 2
  },
  {
   "cell_type": "code",
   "id": "a31b9548e59e547f",
   "metadata": {
    "ExecuteTime": {
     "end_time": "2024-10-05T01:40:04.500077Z",
     "start_time": "2024-10-05T01:40:04.495456Z"
    }
   },
   "source": [
    "runner = Runner(tasks=[\n",
    "  Task(name=\"Say Hello World!\", \n",
    "       description=\"Hello World is a simple greeting to represent the start of a new project\", \n",
    "       due_date=datetime.now())])\n",
    "\n",
    "print(runner.to_yaml())"
   ],
   "outputs": [
    {
     "name": "stdout",
     "output_type": "stream",
     "text": [
      "tasks:\n",
      "- description: Hello World is a simple greeting to represent the start of a new project\n",
      "  done: false\n",
      "  due_date: 2024-10-04 18:40:04.496703\n",
      "  name: Say Hello World!\n",
      "\n"
     ]
    }
   ],
   "execution_count": 3
  },
  {
   "cell_type": "code",
   "id": "8f757f76ec18739b",
   "metadata": {
    "ExecuteTime": {
     "end_time": "2024-10-05T01:41:30.479345Z",
     "start_time": "2024-10-05T01:41:30.477202Z"
    }
   },
   "source": [
    "task1 = Task(name=\"Task 1\", description=\"Open the door\", due_date=datetime.now())\n",
    "task2 = Task(name=\"Task 2\", description=\"Get the mail\", due_date=datetime.now())\n",
    "task3 = Task(name=\"Task 3\", description=\"Water the plants\", due_date=datetime.now())\n",
    "\n",
    "runner = Runner(tasks=[task1, task2, task3])\n",
    "runner.forward()"
   ],
   "outputs": [
    {
     "name": "stdout",
     "output_type": "stream",
     "text": [
      "Starting to run tasks at 2024-10-04 18:41:30.478025\n",
      "Running task: Task 1\n",
      "Open the door\n",
      "Task Task 1 done: True\n",
      "Running task: Task 2\n",
      "Get the mail\n",
      "Task Task 2 done: True\n",
      "Running task: Task 3\n",
      "Water the plants\n",
      "Task Task 3 done: True\n",
      "Finished running tasks at 2024-10-04 18:41:30.478077\n"
     ]
    }
   ],
   "execution_count": 8
  },
  {
   "cell_type": "code",
   "id": "7ae749a4ae7ba389",
   "metadata": {
    "ExecuteTime": {
     "end_time": "2024-10-05T01:42:41.235186Z",
     "start_time": "2024-10-05T01:42:41.230811Z"
    }
   },
   "source": [
    "tasks_yaml = \"\"\"tasks:\n",
    "- description: Open the fridge\n",
    "  done: false\n",
    "  due_date: 2024-10-03 20:45:19.952384\n",
    "  name: Task 1\n",
    "- description: Get the dog food\n",
    "  done: false\n",
    "  due_date: 2024-10-03 20:45:19.952508\n",
    "  name: Task 2\n",
    "- description: Feed the dog\n",
    "  done: false\n",
    "  due_date: 2024-10-03 20:45:19.952541\n",
    "  name: Task 3\n",
    "\"\"\"\n",
    "runner = Runner.from_yaml(tasks_yaml)\n",
    "runner.forward()\n",
    "print(runner.to_yaml())"
   ],
   "outputs": [
    {
     "name": "stdout",
     "output_type": "stream",
     "text": [
      "Starting to run tasks at 2024-10-04 18:42:41.232762\n",
      "Running task: Task 1\n",
      "Open the fridge\n",
      "Task Task 1 done: True\n",
      "Running task: Task 2\n",
      "Get the dog food\n",
      "Task Task 2 done: True\n",
      "Running task: Task 3\n",
      "Feed the dog\n",
      "Task Task 3 done: True\n",
      "Finished running tasks at 2024-10-04 18:42:41.232853\n",
      "tasks:\n",
      "- description: Open the fridge\n",
      "  done: true\n",
      "  due_date: 2024-10-03 20:45:19.952384\n",
      "  name: Task 1\n",
      "- description: Get the dog food\n",
      "  done: true\n",
      "  due_date: 2024-10-03 20:45:19.952508\n",
      "  name: Task 2\n",
      "- description: Feed the dog\n",
      "  done: true\n",
      "  due_date: 2024-10-03 20:45:19.952541\n",
      "  name: Task 3\n",
      "\n"
     ]
    }
   ],
   "execution_count": 12
  },
  {
   "cell_type": "code",
   "id": "5998a5133cdcd13e",
   "metadata": {},
   "source": "runner.to_json()",
   "outputs": [],
   "execution_count": null
  },
  {
   "metadata": {},
   "cell_type": "code",
   "source": "runner.to_toml()",
   "id": "833797d6f6ecb108",
   "outputs": [],
   "execution_count": null
  },
  {
   "metadata": {},
   "cell_type": "code",
   "source": "",
   "id": "7b019b64b5b1bd76",
   "outputs": [],
   "execution_count": null
  }
 ],
 "metadata": {
  "kernelspec": {
   "display_name": "Python 3",
   "language": "python",
   "name": "python3"
  },
  "language_info": {
   "codemirror_mode": {
    "name": "ipython",
    "version": 2
   },
   "file_extension": ".py",
   "mimetype": "text/x-python",
   "name": "python",
   "nbconvert_exporter": "python",
   "pygments_lexer": "ipython2",
   "version": "3.12.5"
  }
 },
 "nbformat": 4,
 "nbformat_minor": 5
}
