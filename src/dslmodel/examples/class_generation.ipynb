{
 "cells": [
  {
   "cell_type": "code",
   "execution_count": 8,
   "id": "initial_id",
   "metadata": {
    "ExecuteTime": {
     "end_time": "2024-10-04T21:37:28.758553Z",
     "start_time": "2024-10-04T21:37:28.755012Z"
    },
    "collapsed": true,
    "jupyter": {
     "outputs_hidden": true
    }
   },
   "outputs": [],
   "source": [
    "# Import necessary utilities and functions\n",
    "from dslmodel.utils.dspy_tools import init_instant\n",
    "from dslmodel.generators import gen_list\n",
    "from dslmodel.utils.model_tools import run_dsls\n",
    "from dslmodel.generators.gen_dslmodel_class import DSLModelClassTemplateSpecificationModel, FieldTemplateSpecificationModel, class_template_str, write_pydantic_class_to_file\n",
    "from dslmodel.template import render\n",
    "from dslmodel.utils.str_tools import pythonic_str"
   ]
  },
  {
   "cell_type": "code",
   "execution_count": 3,
   "id": "754fd1717da6dc85",
   "metadata": {
    "ExecuteTime": {
     "end_time": "2024-10-04T21:35:20.988680Z",
     "start_time": "2024-10-04T21:35:20.984028Z"
    }
   },
   "outputs": [
    {
     "name": "stdout",
     "output_type": "stream",
     "text": [
      "['id', 'name', 'email', 'phone_number', 'address', 'social_media_handles', 'friend_status', 'relationship_type', 'mutual_friend_count', 'friend_since', 'last_contact', 'contact_method', 'contact_frequency', 'friend_type', 'friend_group', 'friend_network', 'social_media_platforms', 'profile_links', 'contact_notes', 'update_status']\n"
     ]
    }
   ],
   "source": [
    "# Initialize the necessary environments\n",
    "init_instant()\n",
    "\n",
    "# Set the model prompt\n",
    "model_prompt = (\"I need a verbose contact model named ContactModel from the friend of a friend ontology with 20 fields\")\n",
    "\n",
    "# Step 1: Generate field list from the prompt\n",
    "fields = gen_list(f\"{model_prompt}\\nOnly list the field names.\")\n",
    "print(fields)"
   ]
  },
  {
   "cell_type": "code",
   "execution_count": 5,
   "id": "69f84ef30ad20091",
   "metadata": {
    "ExecuteTime": {
     "end_time": "2024-10-04T21:35:41.020762Z",
     "start_time": "2024-10-04T21:35:39.772325Z"
    }
   },
   "outputs": [
    {
     "name": "stdout",
     "output_type": "stream",
     "text": [
      "[FieldTemplateSpecificationModel(field_name='id', field_type='str', default_value='None', description='Unique identifier for the object.'), FieldTemplateSpecificationModel(field_name='name', field_type='str', default_value='None', description='A useful description for the name field'), FieldTemplateSpecificationModel(field_name='email', field_type='EmailStr', default_value='None', description='Email address for user authentication'), FieldTemplateSpecificationModel(field_name='phone_number', field_type='str', default_value=None, description='A phone number for contact purposes.'), FieldTemplateSpecificationModel(field_name='address', field_type='str', default_value='None', description='The physical address of the location.'), FieldTemplateSpecificationModel(field_name='social_media_handles', field_type='str', default_value='None', description='A list of social media handles for the user.'), FieldTemplateSpecificationModel(field_name='friend_status', field_type='str', default_value='None', description='The status of a friend, e.g., active, inactive, pending.'), FieldTemplateSpecificationModel(field_name='relationship_type', field_type='str', default_value='None', description='The type of relationship between entities.'), FieldTemplateSpecificationModel(field_name='mutual_friend_count', field_type='int', default_value='0', description='The number of mutual friends between two users.'), FieldTemplateSpecificationModel(field_name='friend_since', field_type='str', default_value='None', description='The date since when the person is considered a friend.'), FieldTemplateSpecificationModel(field_name='last_contact', field_type='str', default_value='None', description='The date of the last contact with the customer.'), FieldTemplateSpecificationModel(field_name='contact_method', field_type='str', default_value='None', description='A method of contact, e.g., phone, email, or in-person.'), FieldTemplateSpecificationModel(field_name='contact_frequency', field_type='str', default_value='None', description='The frequency at which to contact the customer, e.g., daily, weekly, monthly.'), FieldTemplateSpecificationModel(field_name='friend_type', field_type='str', default_value='None', description='A type of friend, e.g., close friend, acquaintance, or family member.'), FieldTemplateSpecificationModel(field_name='friend_group', field_type='str', default_value=None, description='A group of friends.'), FieldTemplateSpecificationModel(field_name='friend_network', field_type='str', default_value='None', description='A network of friends.'), FieldTemplateSpecificationModel(field_name='social_media_platforms', field_type='str', default_value='None', description='A list of social media platforms the user is active on.'), FieldTemplateSpecificationModel(field_name='profile_links', field_type='str', default_value='None', description=\"A list of links to the user's social media profiles.\"), FieldTemplateSpecificationModel(field_name='contact_notes', field_type='str', default_value='None', description='Notes about the contact'), FieldTemplateSpecificationModel(field_name='update_status', field_type='str', default_value='None', description='A status update for the field.')]\n"
     ]
    }
   ],
   "source": [
    "# %%python\n",
    "# Step 2: Generate field descriptions using run_dsls\n",
    "tasks = [\n",
    "    (FieldTemplateSpecificationModel, f\"Generate a field named {field} with a useful description\")\n",
    "    for field in fields\n",
    "]\n",
    "results = run_dsls(tasks, 10)\n",
    "print(results)"
   ]
  },
  {
   "cell_type": "code",
   "execution_count": 6,
   "id": "24237c2761c69624",
   "metadata": {
    "ExecuteTime": {
     "end_time": "2024-10-04T21:36:26.644070Z",
     "start_time": "2024-10-04T21:36:26.589411Z"
    }
   },
   "outputs": [
    {
     "name": "stdout",
     "output_type": "stream",
     "text": [
      "Prompt: I need a verbose contact model named ContactModel from the friend of a friend ontology with 20 fields\n",
      "from pydantic import Field, validator, root_validator, EmailStr, UrlStr\n",
      "from typing import List, Optional\n",
      "from datetime import datetime\n",
      "from dslmodel import DSLModel\n",
      "\n",
      "\n",
      "class ContactModel(DSLModel):\n",
      "    \"\"\"Verbose contact model from the friend of a friend ontology with 20 fields\"\"\"\n",
      "    id: str = Field(default=None, title=\"\", description=\"Unique identifier for the object.\")\n",
      "    name: str = Field(default=None, title=\"\", description=\"A useful description for the name field\")\n",
      "    email: EmailStr = Field(default=None, title=\"\", description=\"Email address for user authentication\")\n",
      "    phone_number: str = Field(default=None, title=\"\", description=\"A phone number for contact purposes.\")\n",
      "    address: str = Field(default=None, title=\"\", description=\"The physical address of the location.\")\n",
      "    social_media_handles: str = Field(default=None, title=\"\", description=\"A list of social media handles for the user.\")\n",
      "    friend_status: str = Field(default=None, title=\"\", description=\"The status of a friend, e.g., active, inactive, pending.\")\n",
      "    relationship_type: str = Field(default=None, title=\"\", description=\"The type of relationship between entities.\")\n",
      "    mutual_friend_count: int = Field(default=0, title=\"\", description=\"The number of mutual friends between two users.\")\n",
      "    friend_since: str = Field(default=None, title=\"\", description=\"The date since when the person is considered a friend.\")\n",
      "    last_contact: str = Field(default=None, title=\"\", description=\"The date of the last contact with the customer.\")\n",
      "    contact_method: str = Field(default=None, title=\"\", description=\"A method of contact, e.g., phone, email, or in-person.\")\n",
      "    contact_frequency: str = Field(default=None, title=\"\", description=\"The frequency at which to contact the customer, e.g., daily, weekly, monthly.\")\n",
      "    friend_type: str = Field(default=None, title=\"\", description=\"A type of friend, e.g., close friend, acquaintance, or family member.\")\n",
      "    friend_group: str = Field(default=None, title=\"\", description=\"A group of friends.\")\n",
      "    friend_network: str = Field(default=None, title=\"\", description=\"A network of friends.\")\n",
      "    social_media_platforms: str = Field(default=None, title=\"\", description=\"A list of social media platforms the user is active on.\")\n",
      "    profile_links: str = Field(default=None, title=\"\", description=\"A list of links to the user's social media profiles.\")\n",
      "    contact_notes: str = Field(default=None, title=\"\", description=\"Notes about the contact\")\n",
      "    update_status: str = Field(default=None, title=\"\", description=\"A status update for the field.\")\n",
      "\n",
      "\n"
     ]
    }
   ],
   "source": [
    "# Step 3: Instantiate DSLModelClassTemplateSpecificationModel from the prompt\n",
    "model_inst = DSLModelClassTemplateSpecificationModel.from_prompt(model_prompt, True)\n",
    "\n",
    "# Step 4: Prepare the template data\n",
    "template_data = {**model_inst.model_dump(), \"fields\": results}\n",
    "\n",
    "# Step 5: Render the Pydantic class from the specification template\n",
    "rendered_class_str = render(class_template_str, model=template_data)\n",
    "print(rendered_class_str)"
   ]
  },
  {
   "cell_type": "code",
   "execution_count": null,
   "id": "4a906a828ca97d5",
   "metadata": {
    "ExecuteTime": {
     "end_time": "2024-10-04T21:42:13.467720Z",
     "start_time": "2024-10-04T21:42:13.464439Z"
    }
   },
   "outputs": [],
   "source": [
    "# Step 6: Write the rendered class to a Python file\n",
    "filename = f\"{pythonic_str(model_inst.class_name)}.py\"\n",
    "write_pydantic_class_to_file(rendered_class_str, filename)\n",
    "print(filename)"
   ]
  },
  {
   "cell_type": "code",
   "execution_count": 12,
   "id": "9941e9c144531cb3",
   "metadata": {
    "ExecuteTime": {
     "end_time": "2024-10-04T21:45:51.527128Z",
     "start_time": "2024-10-04T21:45:51.523890Z"
    }
   },
   "outputs": [
    {
     "name": "stdout",
     "output_type": "stream",
     "text": [
      "# togaf-context.md Specification for Fortune 10 Enterprises\n",
      "\n",
      "---\n",
      "\n",
      "module-name: Fortune 10 Global TOGAF Specification\n",
      "version: 3.0.0\n",
      "description: |\n",
      "  This .togafcontext file defines a flexible and scalable enterprise architecture for Fortune 10-level companies.\n",
      "  It aligns with TOGAF’s ADM (Architecture Development Method) framework, covering the business, data, application, technology, and security layers.\n",
      "  The specification is designed to persist through evolving technologies by focusing on core capabilities, governance, and compliance,\n",
      "  ensuring that the architecture can adapt to new tools, platforms, and innovations while maintaining operational excellence.\n",
      "related-modules:\n",
      "  - name: Enterprise Business Architecture\n",
      "    path: ./enterprise_business_architecture/context.md\n",
      "  - name: Data Management and Governance\n",
      "    path: ./data_management/governance_context.md\n",
      "  - name: Global Compliance and Regulatory Framework\n",
      "    path: ./global_compliance/regulation_context.md\n",
      "  - name: Application Integration and Services\n",
      "    path: ./application_architecture/integration_context.md\n",
      "  - name: Technology Architecture and Operations\n",
      "    path: ./technology_architecture/operations_context.md\n",
      "principles:\n",
      "  - Flexibility and Agility: The architecture must support rapid changes in technology, markets, and global regulatory requirements.\n",
      "  - Scalability: The system must handle billions of transactions, users, and data points globally with near-zero downtime.\n",
      "  - Resilience: Ensure high availability across geographies with robust disaster recovery.\n",
      "  - Security by Design: Implement a Zero Trust security model and ensure compliance with global regulations (GDPR, SOX, HIPAA).\n",
      "  - Data-Driven: The architecture must prioritize data governance, ensuring that data is available, compliant, and secure.\n",
      "capabilities:\n",
      "  - Business Process Automation: Enable automation of key business processes across departments, markets, and regions.\n",
      "  - Real-Time Decision Making: Leverage predictive and real-time analytics for financial, operational, and risk management decisions.\n",
      "  - Multi-Cloud Interoperability: Ensure that cloud platforms, whether public, private, or hybrid, are interoperable, with seamless failover between them.\n",
      "  - AI Integration: Incorporate AI to automate business processes, enhance decision-making, and improve operational efficiency.\n",
      "  - Compliance Management: Provide automated compliance reporting and auditing to meet global regulatory requirements.\n",
      "directives:\n",
      "  - Use TOGAF’s ADM to continuously align the architecture with business goals and emerging technologies.\n",
      "  - Implement a capability-based approach that prioritizes business outcomes over technology specifics.\n",
      "  - Ensure that all services and components are modular, loosely coupled, and replaceable.\n",
      "  - Governance should ensure compliance with global standards while allowing for technological flexibility.\n",
      "  - Apply enterprise-wide monitoring for performance, compliance, and security.\n",
      "diagrams:\n",
      "  - name: Global Business Architecture\n",
      "    path: ./diagrams/global_business_architecture.mmd\n",
      "  - name: Compliance Data Flow\n",
      "    path: ./diagrams/compliance_data_flow.mmd\n",
      "  - name: AI-Driven Risk Management Model\n",
      "    path: ./diagrams/ai_risk_management_model.mmd\n",
      "architecture:\n",
      "  style: Federated Architecture with Event-Driven and Modular Capabilities\n",
      "  components:\n",
      "    - Global Business Process Integration (Business Process Automation)\n",
      "    - Data Management and Governance Framework (Distributed Data Architecture)\n",
      "    - Application Integration and Service Layer (Modular, Service-Oriented)\n",
      "    - Technology Infrastructure (Resilient, Scalable Multi-Cloud and Hybrid)\n",
      "    - Security and Compliance Layer (Zero Trust, Global Regulations)\n",
      "data-flow:\n",
      "  - Business Process -> Data Capture -> AI-Driven Analysis -> Global Compliance Check -> Process Outcome (Auditable)\n",
      "development:\n",
      "  setup-steps:\n",
      "    - Implement global data governance policies for real-time compliance and data processing.\n",
      "    - Develop real-time and predictive analytics capabilities to inform decision-making.\n",
      "    - Establish cross-cloud interoperability and automation for deployment, scaling, and disaster recovery.\n",
      "  guidelines:\n",
      "    - Follow TOGAF ADM phases to iteratively improve architecture.\n",
      "    - Establish governance structures for business agility, security, and compliance.\n",
      "    - Ensure the system can scale as new business capabilities emerge.\n",
      "  review-process:\n",
      "    - Quarterly architecture review to adapt to emerging business needs and technological changes.\n",
      "    - Annual audit of architecture effectiveness, compliance, and security posture.\n",
      "business-requirements:\n",
      "  key-features:\n",
      "    - Support compliance with global regulations (GDPR, SOX, HIPAA, IFRS, etc.).\n",
      "    - Enable continuous integration and deployment of new services.\n",
      "    - Provide automated AI-driven financial and operational decision-making.\n",
      "    - Implement continuous monitoring for real-time risk management and compliance.\n",
      "  target-audience: C-level Executives, Solution Architects, Compliance Officers, Operations Managers\n",
      "  success-metrics:\n",
      "    - 99.99% system uptime across all geographies and regions.\n",
      "    - 100% regulatory compliance in all global regions.\n",
      "    - Integration of AI and real-time analytics in all business-critical processes.\n",
      "    - Full scalability to accommodate business growth and regional expansion.\n",
      "quality-assurance:\n",
      "  testing-frameworks:\n",
      "    - Automated Testing Frameworks for Business Processes\n",
      "    - Chaos Engineering for Disaster Recovery and Resilience\n",
      "    - Continuous Penetration Testing for Security Posture Validation\n",
      "    - Performance Testing for Global Transaction and Data Processing Scalability\n",
      "  coverage-threshold: 100% auditability and traceability across all business processes and regulatory compliance.\n",
      "  performance-benchmarks:\n",
      "    - Real-time transaction processing with sub-second latency across global regions.\n",
      "    - AI-driven predictions with >99% accuracy in risk and financial forecasting.\n",
      "    - Automated recovery from disaster scenarios in <30 seconds.\n",
      "deployment:\n",
      "  platform: Multi-Cloud Interoperability (Public, Private, and Hybrid)\n",
      "  cicd-pipeline: Infrastructure as Code (IaC), DevSecOps, and Policy as Code integrated into CI/CD pipelines\n",
      "  staging-environment: Global Geo-Distributed Staging Environments\n",
      "  production-environment: Multi-Cloud with Global Redundancy and Automated Failover\n",
      "\n",
      "---\n",
      "\n",
      "### **Key Concepts for Long-Term Technology Flexibility**\n",
      "\n",
      "#### 1. **Principles Over Technologies**\n",
      "Instead of referencing current technologies (like Kubernetes, AWS, or specific AI frameworks), this specification centers on **capabilities and principles**. For example:\n",
      "- **Business Process Automation** can be implemented using any orchestration or RPA tool.\n",
      "- **Real-Time Decision Making** is not tied to any specific AI or machine learning framework but requires tools that provide real-time insights.\n",
      "- **Multi-Cloud Interoperability** emphasizes that cloud platforms must be integrated, but does not specify which clouds or how they must be integrated, allowing for future innovation.\n",
      "\n",
      "#### 2. **Capability-Driven Architecture**\n",
      "By focusing on **capabilities** such as **data governance, business process automation, and AI integration**, the architecture can evolve without the need to redefine its core components when new technologies arise. The architecture ensures modularity and loose coupling, so components (e.g., cloud platforms, AI engines, or security protocols) can be swapped or upgraded without significant system re-engineering.\n",
      "\n",
      "#### 3. **Compliance and Global Standards**\n",
      "The specification is agnostic about how compliance is achieved, focusing on **auditability, real-time data governance**, and **automated reporting**. This ensures that whether the regulation is **GDPR** or a future privacy law, the core capabilities of **traceability**, **governance**, and **security** remain the same.\n",
      "\n",
      "#### 4. **Modularity and Replaceability**\n",
      "The architecture emphasizes that services and components should be **modular** and **loosely coupled**. This means that **any technology stack** that fulfills the requirements can be used and later replaced if a more advanced solution emerges.\n",
      "\n",
      "#### 5. **Business Goals Over Tooling**\n",
      "Instead of focusing on specific tools, the specification addresses the overarching business needs of **Fortune 10 companies**:\n",
      "- **Global Compliance**: Achieved through traceability and governance, not a particular technology.\n",
      "- **AI-Driven Insights**: Implemented through decision-making frameworks, which could be done by any current or future AI tool.\n",
      "- **Resilience and Scalability**: Managed through multi-cloud redundancy and global observability, agnostic of specific cloud providers.\n",
      "\n",
      "---\n",
      "\n",
      "### **Conclusion**\n",
      "\n",
      "By defining the **.togafcontext specification** for **Fortune 10 companies** in terms of **capabilities, modularity, governance, and compliance**, the architecture remains **timeless and adaptable**. This approach ensures that the architecture evolves seamlessly with technological innovations, enabling global-scale operations while maintaining strict adherence to regulatory frameworks and business goals.\n",
      "\n",
      "This specification avoids tying the architecture to specific tools like AWS, Azure, or Kubernetes, ensuring that future shifts in technology landscapes won’t require re-architecting but simply integrating new tools within an established, scalable, and flexible framework.\n"
     ]
    }
   ],
   "source": [
    "from pathlib import Path\n",
    "togaf_context = Path(\"togaf-context.md\").read_text()\n",
    "print(togaf_context)"
   ]
  },
  {
   "cell_type": "code",
   "execution_count": 13,
   "id": "3ab208142f0cb9",
   "metadata": {
    "ExecuteTime": {
     "end_time": "2024-10-04T21:45:58.707338Z",
     "start_time": "2024-10-04T21:45:56.760693Z"
    }
   },
   "outputs": [
    {
     "name": "stderr",
     "output_type": "stream",
     "text": [
      "\u001B[92m14:45:56 - LiteLLM:INFO\u001B[0m: utils.py:2983 - \n",
      "LiteLLM completion() model= llama-3.1-8b-instant; provider = groq\n",
      "INFO:LiteLLM:\n",
      "LiteLLM completion() model= llama-3.1-8b-instant; provider = groq\n",
      "INFO:httpx:HTTP Request: POST https://api.groq.com/openai/v1/chat/completions \"HTTP/1.1 200 OK\"\n",
      "\u001B[92m14:45:58 - LiteLLM:INFO\u001B[0m: utils.py:999 - Wrapper: Completed Call, calling success_handler\n",
      "INFO:LiteLLM:Wrapper: Completed Call, calling success_handler\n"
     ]
    },
    {
     "name": "stdout",
     "output_type": "stream",
     "text": [
      "['Architecture', 'BusinessProcess', 'Capability', 'Component', 'Compliance', 'DataFlow', 'DataManagement', 'DataGovernance', 'Directive', 'Diagrams', 'EventDriven', 'FederatedArchitecture', 'Governance', 'Modularity', 'Principle', 'Security', 'ServiceLayer', 'TechnologyInfrastructure', 'TOGAF', 'ArchitectureDevelopmentMethod', 'BusinessProcessAutomation', 'RealTimeDecisionMaking', 'MultiCloudInteroperability', 'AIIntegration', 'ComplianceManagement', 'CapabilityBasedApproach', 'ModularCapabilities', 'LooselyCoupledComponents', 'EnterpriseBusinessArchitecture', 'DataManagementAndGovernance', 'GlobalComplianceAndRegulatoryFramework', 'ApplicationIntegrationAndServices', 'TechnologyArchitectureAndOperations', 'GlobalBusinessArchitecture', 'ComplianceDataFlow', 'AIDrivenRiskManagementModel', 'GlobalBusinessProcessIntegration', 'DataManagementAndGovernanceFramework', 'ApplicationIntegrationAndServiceLayer', 'TechnologyInfrastructure', 'SecurityAndComplianceLayer', 'BusinessProcess', 'DataCapture', 'AIDrivenAnalysis', 'GlobalComplianceCheck', 'ProcessOutcome', 'Auditable', 'RealTimeTransactionProcessing', 'AIDrivenPredictions', 'AutomatedRecovery', 'DisasterScenarios', 'MultiCloudInteroperability', 'PublicPrivateHybridCloud', 'InfrastructureAsCode', 'DevSecOps', 'PolicyAsCode', 'GlobalGeoDistributedStagingEnvironments', 'MultiCloudWithGlobalRedundancy', 'AutomatedFailover', 'PrinciplesOverTechnologies', 'CapabilityDrivenArchitecture', 'ComplianceAndGlobalStandards', 'ModularityAndReplaceability', 'BusinessGoalsOverTooling', 'GlobalCompliance', 'AIDrivenInsights', 'ResilienceAndScalability', 'TimelessAndAdaptableArchitecture', 'TOGAFContextSpecification', 'Fortune10Companies', 'Capabilities', 'Modularity', 'Governance', 'Compliance', 'TimelessArchitecture', 'AdaptableArchitecture', 'GlobalScaleOperations', 'RegulatoryFrameworks', 'BusinessGoals']\n"
     ]
    }
   ],
   "source": [
    "classes = gen_list(f\"{togaf_context}\\n\\nCreate a list of all classes required\")\n",
    "print(classes)"
   ]
  },
  {
   "cell_type": "code",
   "execution_count": 15,
   "id": "b330abd233acaa0c",
   "metadata": {
    "ExecuteTime": {
     "end_time": "2024-10-04T21:50:10.886862Z",
     "start_time": "2024-10-04T21:50:10.109300Z"
    }
   },
   "outputs": [
    {
     "name": "stderr",
     "output_type": "stream",
     "text": [
      "\u001B[92m14:50:10 - LiteLLM:INFO\u001B[0m: utils.py:2983 - \n",
      "LiteLLM completion() model= llama-3.1-8b-instant; provider = groq\n",
      "INFO:LiteLLM:\n",
      "LiteLLM completion() model= llama-3.1-8b-instant; provider = groq\n",
      "INFO:httpx:HTTP Request: POST https://api.groq.com/openai/v1/chat/completions \"HTTP/1.1 200 OK\"\n",
      "\u001B[92m14:50:10 - LiteLLM:INFO\u001B[0m: utils.py:999 - Wrapper: Completed Call, calling success_handler\n",
      "INFO:LiteLLM:Wrapper: Completed Call, calling success_handler\n"
     ]
    },
    {
     "name": "stdout",
     "output_type": "stream",
     "text": [
      "This TOGAF specification outlines a flexible and scalable enterprise architecture for Fortune 10-level companies, aligning with TOGAF's ADM framework and covering business, data, application, technology, and security layers. It focuses on core capabilities, governance, and compliance, ensuring adaptability to new technologies while maintaining operational excellence. The architecture emphasizes modularity, loose coupling, and replaceability, allowing for seamless integration of new tools and technologies. It prioritizes business goals over tooling, ensuring that the architecture remains timeless and adaptable to future technological innovations.\n"
     ]
    }
   ],
   "source": [
    "import dspy\n",
    "togaf_summary = dspy.Predict(\"togaf -> togaf_summary\")(togaf=togaf_context).togaf_summary\n",
    "print(togaf_summary)"
   ]
  },
  {
   "cell_type": "code",
   "execution_count": 16,
   "id": "11e2b9aa8030b709",
   "metadata": {
    "ExecuteTime": {
     "end_time": "2024-10-04T21:50:49.340860Z",
     "start_time": "2024-10-04T21:50:48.688613Z"
    }
   },
   "outputs": [
    {
     "name": "stderr",
     "output_type": "stream",
     "text": [
      "\u001B[92m14:50:48 - LiteLLM:INFO\u001B[0m: utils.py:2983 - \n",
      "LiteLLM completion() model= llama-3.1-8b-instant; provider = groq\n",
      "INFO:LiteLLM:\n",
      "LiteLLM completion() model= llama-3.1-8b-instant; provider = groq\n",
      "INFO:httpx:HTTP Request: POST https://api.groq.com/openai/v1/chat/completions \"HTTP/1.1 200 OK\"\n",
      "\u001B[92m14:50:49 - LiteLLM:INFO\u001B[0m: utils.py:999 - Wrapper: Completed Call, calling success_handler\n",
      "INFO:LiteLLM:Wrapper: Completed Call, calling success_handler\n"
     ]
    },
    {
     "name": "stdout",
     "output_type": "stream",
     "text": [
      "['business_layer', 'data_layer', 'application_layer', 'technology_layer', 'security_layer', 'core_capabilities', 'governance', 'compliance', 'modularity', 'loose_coupling', 'replaceability']\n"
     ]
    }
   ],
   "source": [
    "curr_class = classes[0]\n",
    "fields = gen_list(f\"{togaf_summary}\\nOnly list the field names for the {curr_class} of the TOGAF Python Framework\")\n",
    "print(fields)"
   ]
  },
  {
   "cell_type": "code",
   "execution_count": 17,
   "id": "507aef2aa22bc5a4",
   "metadata": {
    "ExecuteTime": {
     "end_time": "2024-10-04T21:51:28.487756Z",
     "start_time": "2024-10-04T21:51:26.387516Z"
    }
   },
   "outputs": [
    {
     "name": "stderr",
     "output_type": "stream",
     "text": [
      "\u001B[92m14:51:27 - LiteLLM:INFO\u001B[0m: utils.py:2983 - \n",
      "LiteLLM completion() model= llama-3.1-8b-instant; provider = groq\n",
      "INFO:LiteLLM:\n",
      "LiteLLM completion() model= llama-3.1-8b-instant; provider = groq\n",
      "\u001B[92m14:51:27 - LiteLLM:INFO\u001B[0m: utils.py:2983 - \n",
      "LiteLLM completion() model= llama-3.1-8b-instant; provider = groq\n",
      "INFO:LiteLLM:\n",
      "LiteLLM completion() model= llama-3.1-8b-instant; provider = groq\n",
      "\u001B[92m14:51:27 - LiteLLM:INFO\u001B[0m: utils.py:2983 - \n",
      "LiteLLM completion() model= llama-3.1-8b-instant; provider = groq\n",
      "INFO:LiteLLM:\n",
      "LiteLLM completion() model= llama-3.1-8b-instant; provider = groq\n",
      "\u001B[92m14:51:27 - LiteLLM:INFO\u001B[0m: utils.py:2983 - \n",
      "LiteLLM completion() model= llama-3.1-8b-instant; provider = groq\n",
      "INFO:LiteLLM:\n",
      "LiteLLM completion() model= llama-3.1-8b-instant; provider = groq\n",
      "\u001B[92m14:51:27 - LiteLLM:INFO\u001B[0m: utils.py:2983 - \n",
      "LiteLLM completion() model= llama-3.1-8b-instant; provider = groq\n",
      "INFO:LiteLLM:\n",
      "LiteLLM completion() model= llama-3.1-8b-instant; provider = groq\n",
      "\u001B[92m14:51:27 - LiteLLM:INFO\u001B[0m: utils.py:2983 - \n",
      "LiteLLM completion() model= llama-3.1-8b-instant; provider = groq\n",
      "INFO:LiteLLM:\n",
      "LiteLLM completion() model= llama-3.1-8b-instant; provider = groq\n",
      "\u001B[92m14:51:27 - LiteLLM:INFO\u001B[0m: utils.py:2983 - \n",
      "LiteLLM completion() model= llama-3.1-8b-instant; provider = groq\n",
      "INFO:LiteLLM:\n",
      "LiteLLM completion() model= llama-3.1-8b-instant; provider = groq\n",
      "\u001B[92m14:51:27 - LiteLLM:INFO\u001B[0m: utils.py:2983 - \n",
      "LiteLLM completion() model= llama-3.1-8b-instant; provider = groq\n",
      "INFO:LiteLLM:\n",
      "LiteLLM completion() model= llama-3.1-8b-instant; provider = groq\n",
      "\u001B[92m14:51:27 - LiteLLM:INFO\u001B[0m: utils.py:2983 - \n",
      "LiteLLM completion() model= llama-3.1-8b-instant; provider = groq\n",
      "INFO:LiteLLM:\n",
      "LiteLLM completion() model= llama-3.1-8b-instant; provider = groq\n",
      "\u001B[92m14:51:27 - LiteLLM:INFO\u001B[0m: utils.py:2983 - \n",
      "LiteLLM completion() model= llama-3.1-8b-instant; provider = groq\n",
      "INFO:LiteLLM:\n",
      "LiteLLM completion() model= llama-3.1-8b-instant; provider = groq\n",
      "INFO:httpx:HTTP Request: POST https://api.groq.com/openai/v1/chat/completions \"HTTP/1.1 200 OK\"\n",
      "\u001B[92m14:51:27 - LiteLLM:INFO\u001B[0m: utils.py:999 - Wrapper: Completed Call, calling success_handler\n",
      "INFO:LiteLLM:Wrapper: Completed Call, calling success_handler\n",
      "INFO:httpx:HTTP Request: POST https://api.groq.com/openai/v1/chat/completions \"HTTP/1.1 200 OK\"\n",
      "\u001B[92m14:51:27 - LiteLLM:INFO\u001B[0m: utils.py:999 - Wrapper: Completed Call, calling success_handler\n",
      "INFO:LiteLLM:Wrapper: Completed Call, calling success_handler\n",
      "\u001B[92m14:51:27 - LiteLLM:INFO\u001B[0m: utils.py:2983 - \n",
      "LiteLLM completion() model= llama-3.1-8b-instant; provider = groq\n",
      "INFO:LiteLLM:\n",
      "LiteLLM completion() model= llama-3.1-8b-instant; provider = groq\n",
      "INFO:httpx:HTTP Request: POST https://api.groq.com/openai/v1/chat/completions \"HTTP/1.1 200 OK\"\n",
      "\u001B[92m14:51:27 - LiteLLM:INFO\u001B[0m: utils.py:999 - Wrapper: Completed Call, calling success_handler\n",
      "INFO:LiteLLM:Wrapper: Completed Call, calling success_handler\n",
      "INFO:httpx:HTTP Request: POST https://api.groq.com/openai/v1/chat/completions \"HTTP/1.1 200 OK\"\n",
      "\u001B[92m14:51:27 - LiteLLM:INFO\u001B[0m: utils.py:999 - Wrapper: Completed Call, calling success_handler\n",
      "INFO:LiteLLM:Wrapper: Completed Call, calling success_handler\n",
      "INFO:httpx:HTTP Request: POST https://api.groq.com/openai/v1/chat/completions \"HTTP/1.1 200 OK\"\n",
      "\u001B[92m14:51:27 - LiteLLM:INFO\u001B[0m: utils.py:999 - Wrapper: Completed Call, calling success_handler\n",
      "INFO:LiteLLM:Wrapper: Completed Call, calling success_handler\n",
      "INFO:httpx:HTTP Request: POST https://api.groq.com/openai/v1/chat/completions \"HTTP/1.1 200 OK\"\n",
      "\u001B[92m14:51:28 - LiteLLM:INFO\u001B[0m: utils.py:999 - Wrapper: Completed Call, calling success_handler\n",
      "INFO:LiteLLM:Wrapper: Completed Call, calling success_handler\n",
      "INFO:httpx:HTTP Request: POST https://api.groq.com/openai/v1/chat/completions \"HTTP/1.1 200 OK\"\n",
      "\u001B[92m14:51:28 - LiteLLM:INFO\u001B[0m: utils.py:999 - Wrapper: Completed Call, calling success_handler\n",
      "INFO:LiteLLM:Wrapper: Completed Call, calling success_handler\n",
      "INFO:httpx:HTTP Request: POST https://api.groq.com/openai/v1/chat/completions \"HTTP/1.1 200 OK\"\n",
      "INFO:httpx:HTTP Request: POST https://api.groq.com/openai/v1/chat/completions \"HTTP/1.1 200 OK\"\n",
      "\u001B[92m14:51:28 - LiteLLM:INFO\u001B[0m: utils.py:999 - Wrapper: Completed Call, calling success_handler\n",
      "INFO:LiteLLM:Wrapper: Completed Call, calling success_handler\n",
      "\u001B[92m14:51:28 - LiteLLM:INFO\u001B[0m: utils.py:999 - Wrapper: Completed Call, calling success_handler\n",
      "INFO:LiteLLM:Wrapper: Completed Call, calling success_handler\n",
      "INFO:httpx:HTTP Request: POST https://api.groq.com/openai/v1/chat/completions \"HTTP/1.1 200 OK\"\n",
      "\u001B[92m14:51:28 - LiteLLM:INFO\u001B[0m: utils.py:999 - Wrapper: Completed Call, calling success_handler\n",
      "INFO:LiteLLM:Wrapper: Completed Call, calling success_handler\n",
      "INFO:httpx:HTTP Request: POST https://api.groq.com/openai/v1/chat/completions \"HTTP/1.1 200 OK\"\n",
      "\u001B[92m14:51:28 - LiteLLM:INFO\u001B[0m: utils.py:999 - Wrapper: Completed Call, calling success_handler\n",
      "INFO:LiteLLM:Wrapper: Completed Call, calling success_handler\n"
     ]
    },
    {
     "name": "stdout",
     "output_type": "stream",
     "text": [
      "[FieldTemplateSpecificationModel(field_name='business_layer', field_type='str', default_value='None', description='A layer that handles business logic and operations.'), FieldTemplateSpecificationModel(field_name='data_layer', field_type='str', default_value=None, description='A layer of data that stores information.'), FieldTemplateSpecificationModel(field_name='application_layer', field_type='str', default_value='None', description='A field used to specify the application layer.'), FieldTemplateSpecificationModel(field_name='technology_layer', field_type='str', default_value='None', description='The technology layer used in the system.'), FieldTemplateSpecificationModel(field_name='security_layer', field_type='str', default_value=None, description='A security layer to ensure data integrity and security.'), FieldTemplateSpecificationModel(field_name='core_capabilities', field_type='str', default_value=None, description='Core capabilities of the system, including features and functionalities.'), FieldTemplateSpecificationModel(field_name='governance', field_type='str', default_value=None, description='A description of the governance field.'), FieldTemplateSpecificationModel(field_name='compliance', field_type='str', default_value='None', description='A description of the compliance field.'), FieldTemplateSpecificationModel(field_name='modularity', field_type='str', default_value=None, description='A measure of how easily a system can be modified or extended without affecting other parts of the system.'), FieldTemplateSpecificationModel(field_name='loose_coupling', field_type='str', default_value='None', description='A concept in software design that refers to the independence of components or modules from each other, making it easier to modify or replace them without affecting other parts of the system.'), FieldTemplateSpecificationModel(field_name='replaceability', field_type='str', default_value=None, description='The ability to replace the field with a new value.')]\n"
     ]
    }
   ],
   "source": [
    "# Step 2: Generate field descriptions using run_dsls\n",
    "tasks = [\n",
    "    (FieldTemplateSpecificationModel, f\"Generate a field named {field} with a useful description\")\n",
    "    for field in fields\n",
    "]\n",
    "results = run_dsls(tasks, 10)\n",
    "print(results)"
   ]
  },
  {
   "cell_type": "code",
   "execution_count": 20,
   "id": "cd5851048a047cf",
   "metadata": {
    "ExecuteTime": {
     "end_time": "2024-10-04T21:53:21.360254Z",
     "start_time": "2024-10-04T21:53:20.665342Z"
    }
   },
   "outputs": [
    {
     "name": "stderr",
     "output_type": "stream",
     "text": [
      "\u001B[92m14:53:20 - LiteLLM:INFO\u001B[0m: utils.py:2983 - \n",
      "LiteLLM completion() model= llama-3.1-8b-instant; provider = groq\n",
      "INFO:LiteLLM:\n",
      "LiteLLM completion() model= llama-3.1-8b-instant; provider = groq\n"
     ]
    },
    {
     "name": "stdout",
     "output_type": "stream",
     "text": [
      "Prompt: This TOGAF specification outlines a flexible and scalable enterprise architecture for Fortune 10-level companies, aligning with TOGAF's ADM framework and covering business, data, application, technology, and security layers. It focuses on core capabilities, governance, and compliance, ensuring adaptability to new technologies while maintaining operational excellence. The architecture emphasizes modularity, loose coupling, and replaceability, allowing for seamless integration of new tools and technologies. It prioritizes business goals over tooling, ensuring that the architecture remains timeless and adaptable to future technological innovations.\n"
     ]
    },
    {
     "name": "stderr",
     "output_type": "stream",
     "text": [
      "INFO:httpx:HTTP Request: POST https://api.groq.com/openai/v1/chat/completions \"HTTP/1.1 200 OK\"\n",
      "\u001B[92m14:53:21 - LiteLLM:INFO\u001B[0m: utils.py:999 - Wrapper: Completed Call, calling success_handler\n",
      "INFO:LiteLLM:Wrapper: Completed Call, calling success_handler\n"
     ]
    },
    {
     "name": "stdout",
     "output_type": "stream",
     "text": [
      "from pydantic import Field, validator, root_validator, EmailStr, UrlStr\n",
      "from typing import List, Optional\n",
      "from datetime import datetime\n",
      "from dslmodel import DSLModel\n",
      "\n",
      "\n",
      "class EnterpriseArchitectureModel(DSLModel):\n",
      "    \"\"\"A flexible and scalable enterprise architecture for Fortune 10-level companies, aligning with TOGAF's ADM framework and covering business, data, application, technology, and security layers.\"\"\"\n",
      "    business_layer: str = Field(default=None, title=\"\", description=\"A layer that handles business logic and operations.\")\n",
      "    data_layer: str = Field(default=None, title=\"\", description=\"A layer of data that stores information.\")\n",
      "    application_layer: str = Field(default=None, title=\"\", description=\"A field used to specify the application layer.\")\n",
      "    technology_layer: str = Field(default=None, title=\"\", description=\"The technology layer used in the system.\")\n",
      "    security_layer: str = Field(default=None, title=\"\", description=\"A security layer to ensure data integrity and security.\")\n",
      "    core_capabilities: str = Field(default=None, title=\"\", description=\"Core capabilities of the system, including features and functionalities.\")\n",
      "    governance: str = Field(default=None, title=\"\", description=\"A description of the governance field.\")\n",
      "    compliance: str = Field(default=None, title=\"\", description=\"A description of the compliance field.\")\n",
      "    modularity: str = Field(default=None, title=\"\", description=\"A measure of how easily a system can be modified or extended without affecting other parts of the system.\")\n",
      "    loose_coupling: str = Field(default=None, title=\"\", description=\"A concept in software design that refers to the independence of components or modules from each other, making it easier to modify or replace them without affecting other parts of the system.\")\n",
      "    replaceability: str = Field(default=None, title=\"\", description=\"The ability to replace the field with a new value.\")\n",
      "\n",
      "\n"
     ]
    }
   ],
   "source": [
    "# Step 3: Instantiate DSLModelClassTemplateSpecificationModel from the prompt\n",
    "model_inst = DSLModelClassTemplateSpecificationModel.from_prompt(togaf_summary, True)\n",
    "\n",
    "# Step 4: Prepare the template data\n",
    "template_data = {**model_inst.model_dump(), \"fields\": results}\n",
    "\n",
    "# Step 5: Render the Pydantic class from the specification template\n",
    "rendered_class_str = render(class_template_str, model=template_data)\n",
    "print(rendered_class_str)"
   ]
  },
  {
   "cell_type": "code",
   "execution_count": 21,
   "id": "468418100dbaf78c",
   "metadata": {
    "ExecuteTime": {
     "end_time": "2024-10-04T21:53:26.030170Z",
     "start_time": "2024-10-04T21:53:26.026919Z"
    }
   },
   "outputs": [
    {
     "name": "stdout",
     "output_type": "stream",
     "text": [
      "togaf/enterprise_architecture_model.py\n"
     ]
    }
   ],
   "source": [
    "# Step 6: Write the rendered class to a Python file\n",
    "filename = f\"togaf/{pythonic_str(model_inst.class_name)}.py\"\n",
    "write_pydantic_class_to_file(rendered_class_str, filename)\n",
    "print(filename)"
   ]
  }
 ],
 "metadata": {
  "kernelspec": {
   "display_name": "Python 3 (ipykernel)",
   "language": "python",
   "name": "python3"
  },
  "language_info": {
   "codemirror_mode": {
    "name": "ipython",
    "version": 3
   },
   "file_extension": ".py",
   "mimetype": "text/x-python",
   "name": "python",
   "nbconvert_exporter": "python",
   "pygments_lexer": "ipython3",
   "version": "3.12.5"
  }
 },
 "nbformat": 4,
 "nbformat_minor": 5
}
