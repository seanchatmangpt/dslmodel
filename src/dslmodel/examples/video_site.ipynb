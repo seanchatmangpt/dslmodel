{
 "cells": [
  {
   "cell_type": "code",
   "execution_count": null,
   "id": "initial_id",
   "metadata": {
    "collapsed": true
   },
   "source": [
    ""
   ],
   "outputs": []
  },
  {
   "metadata": {
    "ExecuteTime": {
     "end_time": "2024-10-21T03:19:00.007633Z",
     "start_time": "2024-10-21T03:18:57.955829Z"
    }
   },
   "cell_type": "code",
   "source": [
    "from typing import List, Optional\n",
    "from pydantic import Field\n",
    "from dslmodel import DSLModel\n",
    "\n",
    "class SubscriptionPlan(DSLModel):\n",
    "    \"\"\"Represents a subscription plan for users.\"\"\"\n",
    "    id: str = Field(..., description=\"Unique identifier for the subscription plan.\")\n",
    "    name: str = Field(..., description=\"Name of the subscription plan.\")\n",
    "    price: float = Field(..., description=\"Monthly price of the subscription plan.\")\n",
    "    interval: str = Field(..., description=\"Billing interval (e.g., 'month', 'year').\")\n",
    "    features: List[str] = Field(..., description=\"List of features included in the subscription plan.\")\n",
    "\n"
   ],
   "id": "613871b76c8241bf",
   "execution_count": 1,
   "outputs": []
  },
  {
   "metadata": {
    "ExecuteTime": {
     "end_time": "2024-10-21T03:19:43.379393Z",
     "start_time": "2024-10-21T03:19:42.653819Z"
    }
   },
   "cell_type": "code",
   "source": [
    "from dslmodel import init_instant\n",
    "\n",
    "init_instant()\n",
    "\n",
    "SubscriptionPlan.from_prompt(\"Paid video AI\")"
   ],
   "id": "e0f23dbd72a18c3b",
   "execution_count": 3,
   "outputs": []
  },
  {
   "metadata": {
    "ExecuteTime": {
     "end_time": "2024-10-21T03:23:47.263252Z",
     "start_time": "2024-10-21T03:23:47.256854Z"
    }
   },
   "cell_type": "code",
   "source": [
    "class PayPerViewContent(DSLModel):\n",
    "    \"\"\"Represents content available for Pay-Per-View purchase.\"\"\"\n",
    "    id: str = Field(..., description=\"Unique identifier for the Pay-Per-View content.\")\n",
    "    title: str = Field(..., description=\"Title of the content.\")\n",
    "    description: str = Field(..., description=\"Description of the content.\")\n",
    "    price: float = Field(..., description=\"Price for accessing the content.\")\n",
    "    video_url: str = Field(..., description=\"URL of the video content.\")\n",
    "    cover_image: str = Field(..., description=\"Cover image URL for the content.\")\n",
    "\n",
    "\n",
    "ppvc = PayPerViewContent.from_prompt(\"I am a programmer that does AI frameworks\")\n",
    "ppvc"
   ],
   "id": "9bea9203ec110017",
   "execution_count": 7,
   "outputs": []
  },
  {
   "metadata": {
    "ExecuteTime": {
     "end_time": "2024-10-21T03:24:19.094914Z",
     "start_time": "2024-10-21T03:24:19.089766Z"
    }
   },
   "cell_type": "code",
   "source": [
    "from dslmodel.template import render\n",
    "\n",
    "page = \"\"\"import React from 'react';\n",
    "import PropTypes from 'prop-types';\n",
    "import { useParams } from 'react-router-dom';\n",
    "import './PayPerViewContent.css'; // Optional CSS for styling\n",
    "\n",
    "const PayPerViewContentPage = ({ content }) => {\n",
    "    const { id } = useParams(); // Assuming we're using React Router\n",
    "\n",
    "    // Find the specific content by ID\n",
    "    const payPerViewContent = content.find(item => item.id === id);\n",
    "\n",
    "    if (!payPerViewContent) {\n",
    "        return <div>Content not found.</div>;\n",
    "    }\n",
    "\n",
    "    const { title, description, price, video_url, cover_image } = payPerViewContent;\n",
    "\n",
    "    return (\n",
    "        <div className=\"pay-per-view-content\">\n",
    "            <div className=\"content-header\">\n",
    "                <img src=\"{{ cover_image }}\" alt=\"{{ title }} Cover\" className=\"cover-image\" />\n",
    "                <h1>{title}</h1>\n",
    "                <p className=\"description\">{description}</p>\n",
    "                <p className=\"price\">Price: ${price.toFixed(2)}</p>\n",
    "            </div>\n",
    "            <div className=\"content-video\">\n",
    "                <video controls className=\"video-player\">\n",
    "                    <source src=\"{{ video_url }}\" type=\"video/mp4\" />\n",
    "                    Your browser does not support the video tag.\n",
    "                </video>\n",
    "            </div>\n",
    "            <button className=\"buy-button\">Buy Now</button>\n",
    "        </div>\n",
    "    );\n",
    "};\"\"\"\n",
    "\n",
    "render(page, **ppvc.model_dump())\n"
   ],
   "id": "824cf078b3284fce",
   "execution_count": 8,
   "outputs": []
  },
  {
   "metadata": {
    "ExecuteTime": {
     "end_time": "2024-10-21T04:53:24.119924Z",
     "start_time": "2024-10-21T04:53:24.116297Z"
    }
   },
   "cell_type": "code",
   "source": [
    "class SalesPitch(DSLModel):\n",
    "    b2b_sales_pitch: str = Field(...)\n",
    "    \n",
    "target = \"\"\"Papanii is the Executive Vice President of Product Engineering at Rocket Companies, bringing over two decades of experience in the tech industry. Prior to joining Rocket, he served as the Chief Technology Officer of Venmo and held leadership roles as CTO and VP of Engineering for PayPal’s Branded Checkout and PayPal Giving domains, establishing himself as a leader in the fintech space. His career is marked by numerous contributions to startups and executive roles at PayPal and Venmo, where he drove initiatives that elevated both business operations and customer experiences.\n",
    "\n",
    "A seasoned software engineer, Papanii is known for delivering innovative solutions that enhance user experiences. His global perspective, shaped by living and working across Africa, Europe, and the United States, continues to influence his work. He holds multiple degrees in Computer Science and Internet Engineering from the University of San Francisco.\n",
    "\n",
    "Beyond his professional life, Papanii is passionate about mentorship, committed to fostering the next generation of tech talent. He also enjoys exploring different cultures through food, learning new languages, and immersing himself in Japanese anime. Papanii is driven by a desire to learn, lead, and inspire both his teams and the industry at large.\n",
    "\n",
    "Focus: Consumer experiences, Payments, Technology, Software Architecture, Distributed Systems, Mentorship, Financial Services, Technical leadership\"\"\"\n",
    "\n",
    "# SalesPitch.from_prompt(f\"{target}. Sales pitch to sell video platform \")"
   ],
   "id": "f48a867cfbb36fec",
   "execution_count": 18,
   "outputs": []
  },
  {
   "metadata": {
    "ExecuteTime": {
     "end_time": "2024-10-21T04:53:26.592162Z",
     "start_time": "2024-10-21T04:53:26.582514Z"
    }
   },
   "cell_type": "code",
   "source": [
    "from dslmodel import init_text\n",
    "\n",
    "init_text()\n",
    "\n",
    "pitch = SalesPitch.from_prompt(f\"{target}. Sales pitch to sell video platform \")"
   ],
   "id": "699d846664810af8",
   "execution_count": 19,
   "outputs": []
  },
  {
   "metadata": {
    "ExecuteTime": {
     "end_time": "2024-10-21T04:55:14.227497Z",
     "start_time": "2024-10-21T04:55:13.469774Z"
    }
   },
   "cell_type": "code",
   "source": [
    "class Contract(DSLModel):\n",
    "    terms: str = Field(\"{{ fake_bs() }}\", description=\"These are the terms for the system being sold. Make sure to use best practices.\")\n",
    "    payment: float = Field(5000)\n",
    "    \n",
    "    \n",
    "Contract.from_prompt(f\"Salesperson:\\n{pitch.to_yaml()}\\nRandom product\")\n"
   ],
   "id": "9d1498260a655d03",
   "execution_count": 23,
   "outputs": []
  },
  {
   "metadata": {},
   "cell_type": "code",
   "execution_count": null,
   "source": "",
   "id": "d47f843c45526e5",
   "outputs": []
  }
 ],
 "metadata": {
  "kernelspec": {
   "display_name": "Python 3",
   "language": "python",
   "name": "python3"
  },
  "language_info": {
   "codemirror_mode": {
    "name": "ipython",
    "version": 2
   },
   "file_extension": ".py",
   "mimetype": "text/x-python",
   "name": "python",
   "nbconvert_exporter": "python",
   "pygments_lexer": "ipython2",
   "version": "2.7.6"
  }
 },
 "nbformat": 4,
 "nbformat_minor": 5
}
