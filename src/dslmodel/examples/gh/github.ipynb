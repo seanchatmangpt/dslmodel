{
 "cells": [
  {
   "cell_type": "code",
   "execution_count": 8,
   "id": "initial_id",
   "metadata": {
    "ExecuteTime": {
     "end_time": "2024-10-10T22:56:09.125820Z",
     "start_time": "2024-10-10T22:56:09.119314Z"
    },
    "collapsed": true
   },
   "outputs": [],
   "source": [
    "from dslmodel.mixins.tools import ToolMixin\n",
    "# Cell 1: Setup - Initialize GitHub client and required imports\n",
    "from github import Github, Issue\n",
    "import netrc\n",
    "\n",
    "# Read credentials from .netrc\n",
    "netrc_auth = netrc.netrc()\n",
    "auth_data = netrc_auth.authenticators('api.github.com')\n",
    "\n",
    "DEFAULT_REPO = \"seanchatmangpt/dslmodel\"\n",
    "\n",
    "global gh\n",
    "gh = None\n",
    "\n",
    "if auth_data:\n",
    "    login, _, password = auth_data\n",
    "    gh = Github(login, password)\n",
    "else:\n",
    "    raise Exception(\"No authentication information found in ~/.netrc for api.github.com\")\n",
    "\n",
    "\n",
    "class GitHubIssueTool(ToolMixin):\n",
    "    \"\"\"Class to manage GitHub Issues\"\"\"\n",
    "    def __init__(self, repository=None):\n",
    "        super().__init__()\n",
    "        self.repository = repository or DEFAULT_REPO\n",
    "        if gh is None:\n",
    "            raise ValueError(\"GitHub client not initialized. Please set github_client.\")\n",
    "\n",
    "    def create(self, title: str, body: str):\n",
    "        \"\"\"Creates a GitHub Issue\"\"\"\n",
    "        repo = gh.get_repo(self.repository)\n",
    "        return repo.create_issue(title=title, body=body)\n",
    "      \n",
    "    def get(self, number: int):\n",
    "        \"\"\"Retrieves a GitHub Issue by number\"\"\"\n",
    "        repo = gh.get_repo(self.repository)\n",
    "        return repo.get_issue(number)\n",
    "\n",
    "    def update(self, number: int, **kwargs):\n",
    "        \"\"\"Updates a GitHub Issue by number\"\"\"\n",
    "        repo = gh.get_repo(self.repository)\n",
    "        issue = repo.get_issue(number)\n",
    "        return issue.edit(**kwargs)\n",
    "\n",
    "    def close(self, number: int):\n",
    "        \"\"\"Closes a GitHub Issue by number\"\"\"\n",
    "        repo = gh.get_repo(self.repository)\n",
    "        issue = repo.get_issue(number)\n",
    "        return issue.edit(state='closed')\n",
    "\n",
    "\n",
    "class GitHubIssueCommentTool:\n",
    "    \"\"\"Class to manage GitHub Issue Comments\"\"\"\n",
    "    def __init__(self, issue: Issue = None, issue_id: int = -1):\n",
    "        if issue is None and issue_id == -1:\n",
    "            raise ValueError(\"Either issue or issue_id must be provided\")\n",
    "        \n",
    "        if issue is None:\n",
    "            self.issue = gh.get_repo(DEFAULT_REPO).get_issue(issue_id)\n",
    "        else:\n",
    "            self.issue = issue\n",
    "        \n",
    "        if gh is None:\n",
    "            raise ValueError(\"GitHub client not initialized. Please set github_client.\")\n",
    "\n",
    "    def add(self, body: str):\n",
    "        \"\"\"Adds a comment to a GitHub Issue\"\"\"\n",
    "        return self.issue.create_comment(body)\n",
    "    \n",
    "    def get(self, comment_id: int):\n",
    "        \"\"\"Gets a comment from a GitHub Issue\"\"\"\n",
    "        return self.issue.get_comment(comment_id)\n",
    "\n",
    "    def update(self, comment_id: int, body: str):\n",
    "        \"\"\"Updates a comment on a GitHub Issue\"\"\"\n",
    "        return self.issue.edit_comment(comment_id, body)\n",
    "    \n",
    "    def delete(self, comment_id: int):\n",
    "        \"\"\"Deletes a comment from a GitHub Issue\"\"\"\n",
    "        return self.issue.delete_comment(comment_id)\n",
    "    \n",
    "    \n",
    "    \n",
    "issue_tool = GitHubIssueTool()\n"
   ]
  },
  {
   "cell_type": "code",
   "execution_count": 12,
   "id": "15d3b0841d27593e",
   "metadata": {
    "ExecuteTime": {
     "end_time": "2024-10-10T22:30:11.988138Z",
     "start_time": "2024-10-10T22:30:09.029298Z"
    }
   },
   "outputs": [
    {
     "name": "stdout",
     "output_type": "stream",
     "text": [
      "Issue created: Test Issue (ID: 4)\n",
      "Comment created: This is a test comment for the issue (ID: 2406152104)\n"
     ]
    }
   ],
   "source": [
    "# Cell 2: Create - Create a new GitHub Issue and Comment\n",
    "new_issue = issue_tool.create(\"Test Issue\", \"This is a test issue created from the notebook\")\n",
    "print(f\"Issue created: {new_issue.title} (ID: {new_issue.number})\")\n",
    "\n",
    "new_comment = comment_tool.add(new_issue.number, \"This is a test comment for the issue\")\n",
    "print(f\"Comment created: {new_comment.body} (ID: {new_comment.id})\")\n"
   ]
  },
  {
   "cell_type": "code",
   "execution_count": 2,
   "id": "585112eb2d2b6e20",
   "metadata": {
    "ExecuteTime": {
     "end_time": "2024-10-10T22:48:46.662337Z",
     "start_time": "2024-10-10T22:48:45.969371Z"
    }
   },
   "outputs": [
    {
     "name": "stdout",
     "output_type": "stream",
     "text": [
      "Retrieved Issue: Test Issue (Number: 4)\n"
     ]
    }
   ],
   "source": [
    "# Cell 3: Read - Retrieve the created issue and comment\n",
    "retrieved_issue = issue_tool.get(4)\n",
    "print(f\"Retrieved Issue: {retrieved_issue.title} (Number: {retrieved_issue.number})\")\n"
   ]
  },
  {
   "cell_type": "code",
   "execution_count": 4,
   "id": "dabf16a10378fce8",
   "metadata": {
    "ExecuteTime": {
     "end_time": "2024-10-10T22:49:06.301976Z",
     "start_time": "2024-10-10T22:49:04.382974Z"
    }
   },
   "outputs": [
    {
     "name": "stdout",
     "output_type": "stream",
     "text": [
      "reasoning='close issue 4' def_name='close' kwargs={'number': 4}\n"
     ]
    }
   ],
   "source": [
    "from dslmodel import init_instant\n",
    "\n",
    "init_instant()\n",
    "\n",
    "issue_tool(\"close issue 4\")"
   ]
  },
  {
   "cell_type": "code",
   "execution_count": 9,
   "id": "e59fddf810f69ecd",
   "metadata": {
    "ExecuteTime": {
     "end_time": "2024-10-10T22:56:15.503722Z",
     "start_time": "2024-10-10T22:56:14.344111Z"
    }
   },
   "outputs": [
    {
     "data": {
      "text/plain": [
       "IssueComment(user=NamedUser(login=\"seanchatmangpt\"), id=2406145435)"
      ]
     },
     "execution_count": 9,
     "metadata": {},
     "output_type": "execute_result"
    }
   ],
   "source": [
    "issue = issue_tool.get(4)\n",
    "comment_tool = GitHubIssueCommentTool(issue)\n",
    "comment_tool.get(2406145435)"
   ]
  },
  {
   "cell_type": "code",
   "execution_count": null,
   "id": "ba341bd0946580f9",
   "metadata": {},
   "outputs": [],
   "source": []
  }
 ],
 "metadata": {
  "kernelspec": {
   "display_name": "Python 3",
   "language": "python",
   "name": "python3"
  },
  "language_info": {
   "codemirror_mode": {
    "name": "ipython",
    "version": 2
   },
   "file_extension": ".py",
   "mimetype": "text/x-python",
   "name": "python",
   "nbconvert_exporter": "python",
   "pygments_lexer": "ipython2",
   "version": "2.7.6"
  }
 },
 "nbformat": 4,
 "nbformat_minor": 5
}
