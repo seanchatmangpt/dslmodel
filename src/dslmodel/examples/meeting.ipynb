{
 "cells": [
  {
   "cell_type": "code",
   "id": "initial_id",
   "metadata": {
    "collapsed": true,
    "ExecuteTime": {
     "end_time": "2024-10-11T01:27:03.511649Z",
     "start_time": "2024-10-11T01:27:03.506912Z"
    }
   },
   "source": [
    "from typing import List\n",
    "from pydantic import Field\n",
    "from dslmodel import DSLModel\n",
    "\n",
    "\n",
    "class Participant(DSLModel):\n",
    "    \"\"\"Represents a participant in a meeting.\"\"\"\n",
    "    name: str = Field(\"{{ fake_name() }}\", description=\"Name of the participant.\")\n",
    "    role: str = Field(\"{{ fake_job() }}\", description=\"Role of the participant.\")\n",
    "    company: str = Field(\"{{ fake_bs() }}\")\n",
    "\n",
    "class Meeting(DSLModel):\n",
    "    \"\"\"Represents a meeting and its participants.\"\"\"\n",
    "    name: str = Field(..., description=\"Name of the meeting.\")\n",
    "    participants: List[Participant] = Field(..., description=\"List of participants.\")"
   ],
   "outputs": [],
   "execution_count": 4
  },
  {
   "metadata": {
    "ExecuteTime": {
     "end_time": "2024-10-11T01:27:04.010883Z",
     "start_time": "2024-10-11T01:27:03.972492Z"
    }
   },
   "cell_type": "code",
   "source": "person = Participant()",
   "id": "3557db30b135eb8c",
   "outputs": [],
   "execution_count": 5
  },
  {
   "metadata": {
    "ExecuteTime": {
     "end_time": "2024-10-11T01:27:04.468632Z",
     "start_time": "2024-10-11T01:27:04.466435Z"
    }
   },
   "cell_type": "code",
   "source": "person.to_yaml()",
   "id": "3fe8474c7e57c758",
   "outputs": [
    {
     "data": {
      "text/plain": [
       "'company: repurpose mission-critical partnerships\\nname: Jessica Miller\\nrole: Financial trader\\n'"
      ]
     },
     "execution_count": 6,
     "metadata": {},
     "output_type": "execute_result"
    }
   ],
   "execution_count": 6
  },
  {
   "metadata": {
    "ExecuteTime": {
     "end_time": "2024-10-11T01:28:48.963405Z",
     "start_time": "2024-10-11T01:28:48.491550Z"
    }
   },
   "cell_type": "code",
   "source": [
    "from dslmodel import init_instant\n",
    "\n",
    "init_instant()\n",
    "\n",
    "mtg = Meeting.from_prompt(\"Example meeting\")"
   ],
   "id": "eadad25321c9d23f",
   "outputs": [
    {
     "name": "stdout",
     "output_type": "stream",
     "text": [
      "name='Example meeting' participants=[Participant(name='John Doe', role='Software Engineer', company='ABC Corporation'), Participant(name='Jane Doe', role='Data Scientist', company='XYZ Inc.')]\n"
     ]
    }
   ],
   "execution_count": 10
  },
  {
   "metadata": {
    "ExecuteTime": {
     "end_time": "2024-10-11T01:29:03.231206Z",
     "start_time": "2024-10-11T01:29:03.228151Z"
    }
   },
   "cell_type": "code",
   "source": "mtg.to_toml()",
   "id": "e82dec9aacdc4975",
   "outputs": [
    {
     "data": {
      "text/plain": [
       "'name = \"Example meeting\"\\n[[participants]]\\nname = \"John Doe\"\\nrole = \"Software Engineer\"\\ncompany = \"ABC Corporation\"\\n\\n[[participants]]\\nname = \"Jane Doe\"\\nrole = \"Data Scientist\"\\ncompany = \"XYZ Inc.\"\\n\\n'"
      ]
     },
     "execution_count": 11,
     "metadata": {},
     "output_type": "execute_result"
    }
   ],
   "execution_count": 11
  },
  {
   "metadata": {
    "ExecuteTime": {
     "end_time": "2024-10-11T01:30:26.705403Z",
     "start_time": "2024-10-11T01:30:26.700032Z"
    }
   },
   "cell_type": "code",
   "source": "mtg.save(file_format=\"toml\")",
   "id": "2eafb79bdf7c17d3",
   "outputs": [
    {
     "data": {
      "text/plain": [
       "'Example_meeting.toml'"
      ]
     },
     "execution_count": 14,
     "metadata": {},
     "output_type": "execute_result"
    }
   ],
   "execution_count": 14
  },
  {
   "metadata": {
    "ExecuteTime": {
     "end_time": "2024-10-11T01:30:46.113579Z",
     "start_time": "2024-10-11T01:30:46.089703Z"
    }
   },
   "cell_type": "code",
   "source": [
    "mtg2 = Meeting.load(\"Example_meeting.toml\")\n",
    "mtg2"
   ],
   "id": "37e8244138a66a89",
   "outputs": [
    {
     "ename": "ValueError",
     "evalue": "Validation error while creating Meeting instance: 1 validation error for Meeting\n  Input should be a valid dictionary or instance of Meeting [type=model_type, input_value='name = \"Example meeting\"...t\" company = \"XYZ Inc.\"', input_type=str]\n    For further information visit https://errors.pydantic.dev/2.9/v/model_type",
     "output_type": "error",
     "traceback": [
      "\u001B[0;31m---------------------------------------------------------------------------\u001B[0m",
      "\u001B[0;31mValidationError\u001B[0m                           Traceback (most recent call last)",
      "File \u001B[0;32m~/dev/dslmodel/src/dslmodel/mixins/to_from_dsl_mixin.py:27\u001B[0m, in \u001B[0;36mToFromDSLMixin.from_dict\u001B[0;34m(cls, data)\u001B[0m\n\u001B[1;32m     26\u001B[0m \u001B[38;5;28;01mtry\u001B[39;00m:\n\u001B[0;32m---> 27\u001B[0m     instance \u001B[38;5;241m=\u001B[39m \u001B[38;5;28;43mcls\u001B[39;49m\u001B[38;5;241;43m.\u001B[39;49m\u001B[43mmodel_validate\u001B[49m\u001B[43m(\u001B[49m\u001B[43mdata\u001B[49m\u001B[43m)\u001B[49m\n\u001B[1;32m     28\u001B[0m     \u001B[38;5;28;01mreturn\u001B[39;00m instance\n",
      "File \u001B[0;32m~/Library/Caches/pypoetry/virtualenvs/dslmodel-7JxCLhmn-py3.12/lib/python3.12/site-packages/pydantic/main.py:596\u001B[0m, in \u001B[0;36mBaseModel.model_validate\u001B[0;34m(cls, obj, strict, from_attributes, context)\u001B[0m\n\u001B[1;32m    595\u001B[0m __tracebackhide__ \u001B[38;5;241m=\u001B[39m \u001B[38;5;28;01mTrue\u001B[39;00m\n\u001B[0;32m--> 596\u001B[0m \u001B[38;5;28;01mreturn\u001B[39;00m \u001B[38;5;28;43mcls\u001B[39;49m\u001B[38;5;241;43m.\u001B[39;49m\u001B[43m__pydantic_validator__\u001B[49m\u001B[38;5;241;43m.\u001B[39;49m\u001B[43mvalidate_python\u001B[49m\u001B[43m(\u001B[49m\n\u001B[1;32m    597\u001B[0m \u001B[43m    \u001B[49m\u001B[43mobj\u001B[49m\u001B[43m,\u001B[49m\u001B[43m \u001B[49m\u001B[43mstrict\u001B[49m\u001B[38;5;241;43m=\u001B[39;49m\u001B[43mstrict\u001B[49m\u001B[43m,\u001B[49m\u001B[43m \u001B[49m\u001B[43mfrom_attributes\u001B[49m\u001B[38;5;241;43m=\u001B[39;49m\u001B[43mfrom_attributes\u001B[49m\u001B[43m,\u001B[49m\u001B[43m \u001B[49m\u001B[43mcontext\u001B[49m\u001B[38;5;241;43m=\u001B[39;49m\u001B[43mcontext\u001B[49m\n\u001B[1;32m    598\u001B[0m \u001B[43m\u001B[49m\u001B[43m)\u001B[49m\n",
      "\u001B[0;31mValidationError\u001B[0m: 1 validation error for Meeting\n  Input should be a valid dictionary or instance of Meeting [type=model_type, input_value='name = \"Example meeting\"...t\" company = \"XYZ Inc.\"', input_type=str]\n    For further information visit https://errors.pydantic.dev/2.9/v/model_type",
      "\nDuring handling of the above exception, another exception occurred:\n",
      "\u001B[0;31mValueError\u001B[0m                                Traceback (most recent call last)",
      "Cell \u001B[0;32mIn[15], line 1\u001B[0m\n\u001B[0;32m----> 1\u001B[0m mtg2 \u001B[38;5;241m=\u001B[39m \u001B[43mMeeting\u001B[49m\u001B[38;5;241;43m.\u001B[39;49m\u001B[43mload\u001B[49m\u001B[43m(\u001B[49m\u001B[38;5;124;43m\"\u001B[39;49m\u001B[38;5;124;43mExample_meeting.toml\u001B[39;49m\u001B[38;5;124;43m\"\u001B[39;49m\u001B[43m)\u001B[49m\n\u001B[1;32m      2\u001B[0m mtg2\n",
      "File \u001B[0;32m~/dev/dslmodel/src/dslmodel/mixins/file_handler_dsl_mixin.py:67\u001B[0m, in \u001B[0;36mFileHandlerDSLMixin.load\u001B[0;34m(cls, file_path, file_format)\u001B[0m\n\u001B[1;32m     64\u001B[0m     content \u001B[38;5;241m=\u001B[39m file\u001B[38;5;241m.\u001B[39mread()\n\u001B[1;32m     66\u001B[0m \u001B[38;5;28;01mif\u001B[39;00m file_format \u001B[38;5;241m==\u001B[39m \u001B[38;5;124m\"\u001B[39m\u001B[38;5;124myaml\u001B[39m\u001B[38;5;124m\"\u001B[39m:\n\u001B[0;32m---> 67\u001B[0m     \u001B[38;5;28;01mreturn\u001B[39;00m \u001B[38;5;28;43mcls\u001B[39;49m\u001B[38;5;241;43m.\u001B[39;49m\u001B[43mfrom_yaml\u001B[49m\u001B[43m(\u001B[49m\u001B[43mcontent\u001B[49m\u001B[43m)\u001B[49m\n\u001B[1;32m     68\u001B[0m \u001B[38;5;28;01mif\u001B[39;00m file_format \u001B[38;5;241m==\u001B[39m \u001B[38;5;124m\"\u001B[39m\u001B[38;5;124mjson\u001B[39m\u001B[38;5;124m\"\u001B[39m:\n\u001B[1;32m     69\u001B[0m     \u001B[38;5;28;01mreturn\u001B[39;00m \u001B[38;5;28mcls\u001B[39m\u001B[38;5;241m.\u001B[39mfrom_json(content)\n",
      "File \u001B[0;32m~/dev/dslmodel/src/dslmodel/mixins/to_from_dsl_mixin.py:43\u001B[0m, in \u001B[0;36mToFromDSLMixin.from_yaml\u001B[0;34m(cls, content)\u001B[0m\n\u001B[1;32m     41\u001B[0m \u001B[38;5;28;01mtry\u001B[39;00m:\n\u001B[1;32m     42\u001B[0m     data \u001B[38;5;241m=\u001B[39m yaml\u001B[38;5;241m.\u001B[39msafe_load(content)\n\u001B[0;32m---> 43\u001B[0m     \u001B[38;5;28;01mreturn\u001B[39;00m \u001B[38;5;28;43mcls\u001B[39;49m\u001B[38;5;241;43m.\u001B[39;49m\u001B[43mfrom_dict\u001B[49m\u001B[43m(\u001B[49m\u001B[43mdata\u001B[49m\u001B[43m)\u001B[49m\n\u001B[1;32m     44\u001B[0m \u001B[38;5;28;01mexcept\u001B[39;00m yaml\u001B[38;5;241m.\u001B[39mYAMLError \u001B[38;5;28;01mas\u001B[39;00m e:\n\u001B[1;32m     45\u001B[0m     \u001B[38;5;28;01mraise\u001B[39;00m \u001B[38;5;167;01mValueError\u001B[39;00m(\u001B[38;5;124mf\u001B[39m\u001B[38;5;124m\"\u001B[39m\u001B[38;5;124mError parsing YAML content: \u001B[39m\u001B[38;5;132;01m{\u001B[39;00me\u001B[38;5;132;01m}\u001B[39;00m\u001B[38;5;124m\"\u001B[39m)\n",
      "File \u001B[0;32m~/dev/dslmodel/src/dslmodel/mixins/to_from_dsl_mixin.py:30\u001B[0m, in \u001B[0;36mToFromDSLMixin.from_dict\u001B[0;34m(cls, data)\u001B[0m\n\u001B[1;32m     28\u001B[0m     \u001B[38;5;28;01mreturn\u001B[39;00m instance\n\u001B[1;32m     29\u001B[0m \u001B[38;5;28;01mexcept\u001B[39;00m ValidationError \u001B[38;5;28;01mas\u001B[39;00m ve:\n\u001B[0;32m---> 30\u001B[0m     \u001B[38;5;28;01mraise\u001B[39;00m \u001B[38;5;167;01mValueError\u001B[39;00m(\u001B[38;5;124mf\u001B[39m\u001B[38;5;124m\"\u001B[39m\u001B[38;5;124mValidation error while creating \u001B[39m\u001B[38;5;132;01m{\u001B[39;00m\u001B[38;5;28mcls\u001B[39m\u001B[38;5;241m.\u001B[39m\u001B[38;5;18m__name__\u001B[39m\u001B[38;5;132;01m}\u001B[39;00m\u001B[38;5;124m instance: \u001B[39m\u001B[38;5;132;01m{\u001B[39;00mve\u001B[38;5;132;01m}\u001B[39;00m\u001B[38;5;124m\"\u001B[39m)\n",
      "\u001B[0;31mValueError\u001B[0m: Validation error while creating Meeting instance: 1 validation error for Meeting\n  Input should be a valid dictionary or instance of Meeting [type=model_type, input_value='name = \"Example meeting\"...t\" company = \"XYZ Inc.\"', input_type=str]\n    For further information visit https://errors.pydantic.dev/2.9/v/model_type"
     ]
    }
   ],
   "execution_count": 15
  },
  {
   "metadata": {},
   "cell_type": "code",
   "outputs": [],
   "execution_count": null,
   "source": "",
   "id": "66810ff8c9cb7da0"
  }
 ],
 "metadata": {
  "kernelspec": {
   "display_name": "Python 3",
   "language": "python",
   "name": "python3"
  },
  "language_info": {
   "codemirror_mode": {
    "name": "ipython",
    "version": 2
   },
   "file_extension": ".py",
   "mimetype": "text/x-python",
   "name": "python",
   "nbconvert_exporter": "python",
   "pygments_lexer": "ipython2",
   "version": "2.7.6"
  }
 },
 "nbformat": 4,
 "nbformat_minor": 5
}
