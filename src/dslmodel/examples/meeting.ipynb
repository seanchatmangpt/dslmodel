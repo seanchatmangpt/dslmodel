{
 "cells": [
  {
   "cell_type": "code",
   "id": "initial_id",
   "metadata": {
    "collapsed": true,
    "ExecuteTime": {
     "end_time": "2024-11-13T05:04:03.086253Z",
     "start_time": "2024-11-13T05:03:58.968987Z"
    }
   },
   "source": [
    "from typing import List\n",
    "from pydantic import Field\n",
    "from dslmodel import DSLModel\n",
    "\n",
    "\n",
    "class Participant(DSLModel):\n",
    "    \"\"\"Represents a participant in a meeting.\"\"\"\n",
    "    name: str = Field(\"{{ fake_name() }}\", description=\"Name of the participant.\")\n",
    "    role: str = Field(\"{{ fake_job() }}\", description=\"Role of the participant.\")\n",
    "    company: str = Field(\"{{ fake_bs() }}\")\n",
    "\n",
    "class Meeting(DSLModel):\n",
    "    \"\"\"Represents a meeting and its participants.\"\"\"\n",
    "    name: str = Field(..., description=\"Name of the meeting.\")\n",
    "    participants: List[Participant] = Field(..., description=\"List of participants.\")"
   ],
   "execution_count": 1,
   "outputs": []
  },
  {
   "metadata": {
    "ExecuteTime": {
     "end_time": "2024-11-13T05:04:03.117215Z",
     "start_time": "2024-11-13T05:04:03.087195Z"
    }
   },
   "cell_type": "code",
   "source": "person = Participant()",
   "id": "3557db30b135eb8c",
   "execution_count": 2,
   "outputs": []
  },
  {
   "metadata": {
    "ExecuteTime": {
     "end_time": "2024-11-13T05:04:03.120813Z",
     "start_time": "2024-11-13T05:04:03.117927Z"
    }
   },
   "cell_type": "code",
   "source": "person.to_yaml()",
   "id": "3fe8474c7e57c758",
   "execution_count": 3,
   "outputs": []
  },
  {
   "metadata": {
    "ExecuteTime": {
     "end_time": "2024-11-13T05:04:03.676113Z",
     "start_time": "2024-11-13T05:04:03.121739Z"
    }
   },
   "cell_type": "code",
   "source": [
    "from dslmodel import init_instant\n",
    "\n",
    "init_instant()\n",
    "\n",
    "mtg = Meeting.from_prompt(\"Example meeting\")"
   ],
   "id": "eadad25321c9d23f",
   "execution_count": 4,
   "outputs": []
  },
  {
   "metadata": {
    "ExecuteTime": {
     "end_time": "2024-11-13T05:04:03.679652Z",
     "start_time": "2024-11-13T05:04:03.677158Z"
    }
   },
   "cell_type": "code",
   "source": "mtg.to_toml()",
   "id": "e82dec9aacdc4975",
   "execution_count": 5,
   "outputs": []
  },
  {
   "metadata": {
    "ExecuteTime": {
     "end_time": "2024-11-13T05:04:03.979469Z",
     "start_time": "2024-11-13T05:04:03.680425Z"
    }
   },
   "cell_type": "code",
   "source": "mtg.save(file_format=\"toml\")",
   "id": "2eafb79bdf7c17d3",
   "execution_count": 6,
   "outputs": []
  },
  {
   "metadata": {
    "ExecuteTime": {
     "end_time": "2024-11-13T05:04:04.113581Z",
     "start_time": "2024-11-13T05:04:03.980245Z"
    }
   },
   "cell_type": "code",
   "source": [
    "mtg2 = Meeting.load(\"Example_meeting.toml\")\n",
    "mtg2"
   ],
   "id": "37e8244138a66a89",
   "execution_count": 7,
   "outputs": []
  },
  {
   "metadata": {},
   "cell_type": "code",
   "execution_count": null,
   "source": "",
   "id": "66810ff8c9cb7da0",
   "outputs": []
  }
 ],
 "metadata": {
  "kernelspec": {
   "display_name": "Python 3",
   "language": "python",
   "name": "python3"
  },
  "language_info": {
   "codemirror_mode": {
    "name": "ipython",
    "version": 2
   },
   "file_extension": ".py",
   "mimetype": "text/x-python",
   "name": "python",
   "nbconvert_exporter": "python",
   "pygments_lexer": "ipython2",
   "version": "2.7.6"
  }
 },
 "nbformat": 4,
 "nbformat_minor": 5
}
