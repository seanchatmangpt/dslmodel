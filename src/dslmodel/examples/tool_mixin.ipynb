{
 "cells": [
  {
   "cell_type": "markdown",
   "metadata": {},
   "source": [
    "# **Dynamic Tool Calling with Decorators and Function Introspection**\n",
    "\n",
    "In this notebook, we will explore how to create a simple system where functions can be registered as tools and dynamically invoked based on user input. We will leverage Python concepts like **decorators** and **function introspection** using the `inspect` module.\n",
    "\n",
    "### **Objectives**:\n",
    "- Learn how to use decorators to register functions as tools.\n",
    "- Understand how to extract function metadata (like parameters and docstrings) using Python's `inspect` module.\n",
    "- Dynamically invoke functions (tools) using their names and arguments."
   ],
   "id": "6b96326b22c2a6a9"
  },
  {
   "cell_type": "markdown",
   "metadata": {},
   "source": [
    "### **1. Introduction to Decorators**\n",
    "\n",
    "Decorators are a powerful feature in Python that allow you to modify or extend the behavior of functions or methods without changing their actual code.\n",
    "\n",
    "Let's start by reviewing how decorators work with a simple example."
   ],
   "id": "34d6dedd8703e698"
  },
  {
   "cell_type": "code",
   "metadata": {
    "ExecuteTime": {
     "end_time": "2024-10-05T01:21:32.251402Z",
     "start_time": "2024-10-05T01:21:32.247924Z"
    }
   },
   "source": [
    "def simple_decorator(func):\n",
    "    def wrapper(*args, **kwargs):\n",
    "        print(\"Before the function call\")\n",
    "        result = func(*args, **kwargs)\n",
    "        print(\"After the function call\")\n",
    "        return result\n",
    "    return wrapper\n",
    "\n",
    "@simple_decorator\n",
    "def greet(name):\n",
    "    print(f\"Hello, {name}!\")\n",
    "\n",
    "# Call the decorated function\n",
    "greet(\"Alice\")"
   ],
   "id": "f77faf02484863d7",
   "outputs": [
    {
     "name": "stdout",
     "output_type": "stream",
     "text": [
      "Before the function call\n",
      "Hello, Alice!\n",
      "After the function call\n"
     ]
    }
   ],
   "execution_count": 1
  },
  {
   "cell_type": "markdown",
   "metadata": {},
   "source": [
    "### **Explanation**:\n",
    "- The `@simple_decorator` modifies the behavior of `greet`. Before and after calling `greet`, additional print statements are executed."
   ],
   "id": "fa9915cf90190274"
  },
  {
   "cell_type": "markdown",
   "metadata": {},
   "source": [
    "---\n",
    "\n",
    "### **2. Registering Functions as Tools**\n",
    "\n",
    "We can use decorators to mark functions as special \"tools\". In our case, we want to register functions as tools so we can dynamically list and invoke them later.\n",
    "\n",
    "We'll create a `ToolMixin` class that manages tool registration and invocation."
   ],
   "id": "f7ee9a87d902b325"
  },
  {
   "cell_type": "code",
   "metadata": {
    "ExecuteTime": {
     "end_time": "2024-10-05T01:21:38.984484Z",
     "start_time": "2024-10-05T01:21:38.980184Z"
    }
   },
   "source": [
    "import inspect\n",
    "import functools\n",
    "from typing import Callable, Any, List, Dict\n",
    "\n",
    "# The main class to manage tool registration and invocation\n",
    "class ToolMixin:\n",
    "    \"\"\"\n",
    "    ToolMixin allows registering functions as tools with metadata such as docstring (description)\n",
    "    and input parameters.\n",
    "    \"\"\"\n",
    "    _tools: Dict[str, dict] = {}  # A class-level dictionary to store registered tools\n",
    "\n",
    "    @classmethod\n",
    "    def register_tool(cls, func: Callable):\n",
    "        \"\"\"\n",
    "        Registers a function as a tool using its docstring as a description.\n",
    "        \"\"\"\n",
    "        tool_name = func.__name__\n",
    "        # Extract the function's signature (parameter names) and docstring\n",
    "        sig = inspect.signature(func)\n",
    "        description = inspect.getdoc(func)  # Automatically fetches the function's docstring\n",
    "\n",
    "        # Store the function metadata\n",
    "        cls._tools[tool_name] = {\n",
    "            \"function\": func,\n",
    "            \"description\": description,\n",
    "            \"parameters\": sig.parameters\n",
    "        }\n",
    "\n",
    "    @classmethod\n",
    "    def get_tool(cls, name: str) -> Callable:\n",
    "        \"\"\"\n",
    "        Retrieves the tool (function) by name.\n",
    "        \"\"\"\n",
    "        if name in cls._tools:\n",
    "            return cls._tools[name][\"function\"]\n",
    "        raise ValueError(f\"Tool '{name}' not found.\")\n",
    "\n",
    "    @classmethod\n",
    "    def list_tools(cls) -> List[Dict[str, Any]]:\n",
    "        \"\"\"\n",
    "        Returns a list of all registered tools and their metadata (docstring and parameters).\n",
    "        \"\"\"\n",
    "        return [\n",
    "            {\"name\": name, \"description\": data[\"description\"], \"parameters\": data[\"parameters\"]}\n",
    "            for name, data in cls._tools.items()\n",
    "        ]\n",
    "\n",
    "    def invoke_tool(self, tool_name: str, **kwargs):\n",
    "        \"\"\"\n",
    "        Invokes a registered tool with the given keyword arguments.\n",
    "        \"\"\"\n",
    "        if tool_name in self._tools:\n",
    "            tool = self._tools[tool_name][\"function\"]\n",
    "            return tool(self, **kwargs)  # Call the tool function\n",
    "        raise ValueError(f\"Tool '{tool_name}' not found.\")"
   ],
   "id": "3c85b74d6b923e2e",
   "outputs": [],
   "execution_count": 2
  },
  {
   "cell_type": "markdown",
   "metadata": {},
   "source": [
    "---\n",
    "\n",
    "### **3. Using a Decorator to Register Tools**\n",
    "\n",
    "We can now create a `tool` decorator that marks functions as tools and registers them automatically with our `ToolMixin`."
   ],
   "id": "780e3e4f523ab4cb"
  },
  {
   "cell_type": "code",
   "metadata": {
    "ExecuteTime": {
     "end_time": "2024-10-05T01:21:42.653302Z",
     "start_time": "2024-10-05T01:21:42.650620Z"
    }
   },
   "source": [
    "def tool(func: Callable):\n",
    "    \"\"\"\n",
    "    A decorator that marks a method as a tool, registering it with metadata such as\n",
    "    docstring and parameter names.\n",
    "    \"\"\"\n",
    "    # Register the tool in the ToolMixin class\n",
    "    @functools.wraps(func)\n",
    "    def wrapper(self, *args, **kwargs):\n",
    "        return func(*args, **kwargs)\n",
    "    \n",
    "    ToolMixin.register_tool(func)  # Register the tool\n",
    "    return wrapper"
   ],
   "id": "f59d7cc447bb2299",
   "outputs": [],
   "execution_count": 3
  },
  {
   "cell_type": "markdown",
   "metadata": {},
   "source": [
    "---\n",
    "\n",
    "### **4. Defining Tools with the `tool` Decorator**\n",
    "\n",
    "We can now define tools in our `Assistant` class and register them using the `@tool` decorator."
   ],
   "id": "39b5db57e9033160"
  },
  {
   "cell_type": "code",
   "metadata": {
    "ExecuteTime": {
     "end_time": "2024-10-05T01:21:45.350212Z",
     "start_time": "2024-10-05T01:21:45.346782Z"
    }
   },
   "source": [
    "# Assistant class inheriting from ToolMixin to register and invoke tools\n",
    "class Assistant(ToolMixin):\n",
    "    \"\"\"\n",
    "    Assistant class that uses the ToolMixin to register and invoke tools.\n",
    "    \"\"\"\n",
    "\n",
    "    @tool\n",
    "    def get_current_temperature(self, location: str, unit: str) -> str:\n",
    "        \"\"\"\n",
    "        Get the current temperature in a specified location.\n",
    "        \"\"\"\n",
    "        return f\"Temperature in {location} is 72 {unit}\"\n",
    "\n",
    "    @tool\n",
    "    def get_rain_probability(self, location: str) -> str:\n",
    "        \"\"\"\n",
    "        Get the probability of rain for a given location.\n",
    "        \"\"\"\n",
    "        return f\"Probability of rain in {location} is 15%.\""
   ],
   "id": "79d8b24073a173c8",
   "outputs": [],
   "execution_count": 4
  },
  {
   "cell_type": "markdown",
   "metadata": {},
   "source": [
    "---\n",
    "\n",
    "### **5. Listing and Invoking Tools**\n",
    "\n",
    "Now that we have registered tools in our `Assistant` class, let's list the available tools and invoke them dynamically based on their names."
   ],
   "id": "9c7065248c1b099d"
  },
  {
   "cell_type": "code",
   "metadata": {
    "ExecuteTime": {
     "end_time": "2024-10-05T01:21:46.726608Z",
     "start_time": "2024-10-05T01:21:46.723662Z"
    }
   },
   "source": [
    "# Initialize the assistant\n",
    "assistant = Assistant()\n",
    "\n",
    "# List available tools\n",
    "print(\"Available Tools:\")\n",
    "for tool_info in assistant.list_tools():\n",
    "    print(f\"Tool: {tool_info['name']}\")\n",
    "    print(f\"  Description: {tool_info['description']}\")\n",
    "    print(f\"  Parameters: {tool_info['parameters']}\")\n",
    "    print()\n",
    "\n",
    "# Invoke tools dynamically\n",
    "result = assistant.invoke_tool(\"get_current_temperature\", location=\"New York\", unit=\"Fahrenheit\")\n",
    "print(f\"Result from 'get_current_temperature': {result}\")\n",
    "\n",
    "result = assistant.invoke_tool(\"get_rain_probability\", location=\"San Francisco\")\n",
    "print(f\"Result from 'get_rain_probability': {result}\")"
   ],
   "id": "31ffb27210c2f6eb",
   "outputs": [
    {
     "name": "stdout",
     "output_type": "stream",
     "text": [
      "Available Tools:\n",
      "Tool: get_current_temperature\n",
      "  Description: Get the current temperature in a specified location.\n",
      "  Parameters: OrderedDict({'self': <Parameter \"self\">, 'location': <Parameter \"location: str\">, 'unit': <Parameter \"unit: str\">})\n",
      "\n",
      "Tool: get_rain_probability\n",
      "  Description: Get the probability of rain for a given location.\n",
      "  Parameters: OrderedDict({'self': <Parameter \"self\">, 'location': <Parameter \"location: str\">})\n",
      "\n",
      "Result from 'get_current_temperature': Temperature in New York is 72 Fahrenheit\n",
      "Result from 'get_rain_probability': Probability of rain in San Francisco is 15%.\n"
     ]
    }
   ],
   "execution_count": 5
  },
  {
   "cell_type": "markdown",
   "metadata": {},
   "source": [
    "---\n",
    "\n",
    "### **6. Key Concepts Recap**\n",
    "\n",
    "- **Decorators**: We used decorators to register functions as tools dynamically. The `@tool` decorator adds metadata about the function without modifying its core logic.\n",
    "  \n",
    "- **Function Introspection**: Using the `inspect` module, we extracted metadata like the function signature and docstring, which provided us with details about the parameters and purpose of the tools.\n",
    "  \n",
    "- **Dynamic Function Invocation**: We dynamically invoked functions by looking them up based on their name. This allowed us to create a system where tools can be selected and executed at runtime."
   ],
   "id": "51281ef0f3db8933"
  },
  {
   "cell_type": "markdown",
   "metadata": {},
   "source": [
    "---\n",
    "\n",
    "### **7. Next Steps**\n",
    "\n",
    "You now have a foundation for building dynamic tool-based systems in Python. Here are a few ways to extend this:\n",
    "- **Add More Tools**: Register more tools and try invoking them with different arguments.\n",
    "- **Error Handling**: Add validation to check if the right arguments are passed to the tools.\n",
    "- **Advanced Features**: You can add categorization, logging, or other metadata to make your tool system even more robust."
   ],
   "id": "7156bc4935416c69"
  },
  {
   "cell_type": "markdown",
   "metadata": {},
   "source": [
    "---\n",
    "\n",
    "### **Conclusion**\n",
    "\n",
    "In this notebook, you learned how to:\n",
    "- Use **decorators** to register functions dynamically.\n",
    "- Extract function metadata using **introspection**.\n",
    "- Invoke functions dynamically based on their names.\n",
    "\n",
    "This technique can be very useful when building dynamic systems like tool-based assistants, workflow engines, or plugins for applications."
   ],
   "id": "2fbe9b9ff1221ddc"
  }
 ],
 "metadata": {
  "kernelspec": {
   "display_name": "Python 3",
   "language": "python",
   "name": "python3"
  },
  "language_info": {
   "codemirror_mode": {
    "name": "ipython",
    "version": 3
   },
   "file_extension": ".py",
   "mimetype": "text/x-python",
   "name": "python",
   "nbconvert_exporter": "python",
   "pygments_lexer": "ipython3",
   "version": "3.8.5"
  }
 },
 "nbformat": 4,
 "nbformat_minor": 5
}
