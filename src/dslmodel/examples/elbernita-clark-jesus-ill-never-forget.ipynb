{
 "cells": [
  {
   "cell_type": "code",
   "id": "initial_id",
   "metadata": {
    "collapsed": true,
    "ExecuteTime": {
     "end_time": "2024-10-27T03:16:32.354095Z",
     "start_time": "2024-10-27T03:16:28.181894Z"
    }
   },
   "source": "!pip install youtube2mp3",
   "outputs": [
    {
     "name": "stdout",
     "output_type": "stream",
     "text": [
      "Collecting youtube2mp3\r\n",
      "  Downloading youtube2mp3-2.0.7-py2.py3-none-any.whl.metadata (2.8 kB)\r\n",
      "Collecting yt-dlp>=2024.9.27 (from youtube2mp3)\r\n",
      "  Downloading yt_dlp-2024.10.22-py3-none-any.whl.metadata (171 kB)\r\n",
      "Collecting mutagen>=1.47.0 (from youtube2mp3)\r\n",
      "  Downloading mutagen-1.47.0-py3-none-any.whl.metadata (1.7 kB)\r\n",
      "Collecting brotli (from yt-dlp>=2024.9.27->youtube2mp3)\r\n",
      "  Downloading Brotli-1.1.0-cp312-cp312-macosx_10_13_universal2.whl.metadata (5.5 kB)\r\n",
      "Requirement already satisfied: certifi in /Users/sac/.pyenv/versions/3.12.2/lib/python3.12/site-packages (from yt-dlp>=2024.9.27->youtube2mp3) (2024.8.30)\r\n",
      "Collecting pycryptodomex (from yt-dlp>=2024.9.27->youtube2mp3)\r\n",
      "  Downloading pycryptodomex-3.21.0-cp36-abi3-macosx_10_9_universal2.whl.metadata (3.4 kB)\r\n",
      "Requirement already satisfied: requests<3,>=2.32.2 in /Users/sac/.pyenv/versions/3.12.2/lib/python3.12/site-packages (from yt-dlp>=2024.9.27->youtube2mp3) (2.32.3)\r\n",
      "Requirement already satisfied: urllib3<3,>=1.26.17 in /Users/sac/.pyenv/versions/3.12.2/lib/python3.12/site-packages (from yt-dlp>=2024.9.27->youtube2mp3) (2.2.3)\r\n",
      "Collecting websockets>=13.0 (from yt-dlp>=2024.9.27->youtube2mp3)\r\n",
      "  Using cached websockets-13.1-cp312-cp312-macosx_11_0_arm64.whl.metadata (6.8 kB)\r\n",
      "Requirement already satisfied: charset-normalizer<4,>=2 in /Users/sac/.pyenv/versions/3.12.2/lib/python3.12/site-packages (from requests<3,>=2.32.2->yt-dlp>=2024.9.27->youtube2mp3) (3.3.2)\r\n",
      "Requirement already satisfied: idna<4,>=2.5 in /Users/sac/.pyenv/versions/3.12.2/lib/python3.12/site-packages (from requests<3,>=2.32.2->yt-dlp>=2024.9.27->youtube2mp3) (3.10)\r\n",
      "Downloading youtube2mp3-2.0.7-py2.py3-none-any.whl (12 kB)\r\n",
      "Downloading mutagen-1.47.0-py3-none-any.whl (194 kB)\r\n",
      "Downloading yt_dlp-2024.10.22-py3-none-any.whl (3.2 MB)\r\n",
      "\u001B[2K   \u001B[90m━━━━━━━━━━━━━━━━━━━━━━━━━━━━━━━━━━━━━━━━\u001B[0m \u001B[32m3.2/3.2 MB\u001B[0m \u001B[31m56.4 MB/s\u001B[0m eta \u001B[36m0:00:00\u001B[0m\r\n",
      "\u001B[?25hUsing cached websockets-13.1-cp312-cp312-macosx_11_0_arm64.whl (155 kB)\r\n",
      "Downloading Brotli-1.1.0-cp312-cp312-macosx_10_13_universal2.whl (815 kB)\r\n",
      "\u001B[2K   \u001B[90m━━━━━━━━━━━━━━━━━━━━━━━━━━━━━━━━━━━━━━━━\u001B[0m \u001B[32m815.7/815.7 kB\u001B[0m \u001B[31m28.9 MB/s\u001B[0m eta \u001B[36m0:00:00\u001B[0m\r\n",
      "\u001B[?25hDownloading pycryptodomex-3.21.0-cp36-abi3-macosx_10_9_universal2.whl (2.5 MB)\r\n",
      "\u001B[2K   \u001B[90m━━━━━━━━━━━━━━━━━━━━━━━━━━━━━━━━━━━━━━━━\u001B[0m \u001B[32m2.5/2.5 MB\u001B[0m \u001B[31m54.1 MB/s\u001B[0m eta \u001B[36m0:00:00\u001B[0m\r\n",
      "\u001B[?25hInstalling collected packages: brotli, websockets, pycryptodomex, mutagen, yt-dlp, youtube2mp3\r\n",
      "  Attempting uninstall: websockets\r\n",
      "    Found existing installation: websockets 12.0\r\n",
      "    Uninstalling websockets-12.0:\r\n",
      "      Successfully uninstalled websockets-12.0\r\n",
      "\u001B[31mERROR: pip's dependency resolver does not currently take into account all the packages that are installed. This behaviour is the source of the following dependency conflicts.\r\n",
      "gradio-client 1.3.0 requires websockets<13.0,>=10.0, but you have websockets 13.1 which is incompatible.\u001B[0m\u001B[31m\r\n",
      "\u001B[0mSuccessfully installed brotli-1.1.0 mutagen-1.47.0 pycryptodomex-3.21.0 websockets-13.1 youtube2mp3-2.0.7 yt-dlp-2024.10.22\r\n"
     ]
    }
   ],
   "execution_count": 1
  },
  {
   "metadata": {},
   "cell_type": "code",
   "outputs": [],
   "execution_count": null,
   "source": "youtube2mp3",
   "id": "8ac4481aaf37bc8a"
  }
 ],
 "metadata": {
  "kernelspec": {
   "display_name": "Python 3",
   "language": "python",
   "name": "python3"
  },
  "language_info": {
   "codemirror_mode": {
    "name": "ipython",
    "version": 2
   },
   "file_extension": ".py",
   "mimetype": "text/x-python",
   "name": "python",
   "nbconvert_exporter": "python",
   "pygments_lexer": "ipython2",
   "version": "2.7.6"
  }
 },
 "nbformat": 4,
 "nbformat_minor": 5
}
