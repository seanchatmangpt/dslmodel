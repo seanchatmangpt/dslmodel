{
 "cells": [
  {
   "cell_type": "markdown",
   "id": "754d45484f9ae878",
   "metadata": {},
   "source": [
    "# Creating a Model for Jupyter Notebooks Using DSLModel\n",
    "\n",
    "This notebook walks through the process of building a model to handle `.ipynb` files in Python using a custom `DSLModel` class structure."
   ]
  },
  {
   "cell_type": "markdown",
   "id": "6237445eaf3e26a7",
   "metadata": {},
   "source": [
    "## Step 1: Understanding the Notebook Structure\n",
    "\n",
    "A Jupyter Notebook consists of several key components, such as metadata, cells, and outputs. These are broken down into different models:"
   ]
  },
  {
   "cell_type": "markdown",
   "id": "c6324f6188231493",
   "metadata": {},
   "source": [
    "### Components of a Notebook\n",
    "\n",
    "- **NotebookMetadataModel**: Contains information about the notebook's kernel and language.\n",
    "- **NotebookCellModel**: A base model representing different types of cells.\n",
    "  - **NotebookCodeCellModel**: A subclass representing code cells with fields for source code and outputs.\n",
    "  - **NotebookMarkdownCellModel**: A subclass representing markdown cells.\n",
    "  - **NotebookRawCellModel**: A subclass representing raw cells.\n",
    "- **NotebookOutputModel**: Represents the output produced by code cells.\n",
    "- **NotebookFileModel**: The root model representing the entire notebook."
   ]
  },
  {
   "cell_type": "markdown",
   "id": "5f94df3593dc2430",
   "metadata": {},
   "source": [
    "## Step 2: Code Implementation\n",
    "\n",
    "Below is the code implementation that defines the models for handling the notebook structure."
   ]
  },
  {
   "cell_type": "code",
   "id": "2e0bab7d780bfa2a",
   "metadata": {},
   "source": [
    "from dslmodel import DSLModel\n",
    "from typing import List, Optional, Union\n",
    "from pydantic import Field\n",
    "\n",
    "# Notebook metadata model\n",
    "class NotebookMetadataModel(DSLModel):\n",
    "    kernelspec: dict = Field(..., description=\"Information about the notebook's kernel.\")\n",
    "    language_info: dict = Field(..., description=\"Information about the notebook's programming language.\")\n",
    "\n",
    "# Notebook output model for code cells\n",
    "class NotebookOutputModel(DSLModel):\n",
    "    output_type: str = Field(..., description=\"The type of the output (e.g., stream, display_data, error).\")\n",
    "    text: Optional[List[str]] = Field(None, description=\"Text output for streams or errors.\")\n",
    "    data: Optional[dict] = Field(None, description=\"Data output (e.g., images, JSON).\")\n",
    "    name: Optional[str] = Field(None, description=\"For stream output, the name (e.g., 'stdout', 'stderr').\")\n",
    "    execution_count: Optional[int] = Field(None, description=\"Execution count if relevant.\")\n",
    "\n",
    "# Base model for a notebook cell\n",
    "class NotebookCellModel(DSLModel):\n",
    "    cell_type: str = Field(..., description=\"The type of the cell (e.g., code, markdown, raw).\")\n",
    "    metadata: Optional[dict] = Field({}, description=\"Cell-specific metadata.\")\n",
    "\n",
    "# Code cell model\n",
    "class NotebookCodeCellModel(NotebookCellModel):\n",
    "    cell_type: str = \"code\"\n",
    "    source: List[str] = Field(..., description=\"The source code inside the code cell.\")\n",
    "    execution_count: Optional[int] = Field(None, description=\"The execution count of the cell.\")\n",
    "    outputs: Optional[List[NotebookOutputModel]] = Field(None, description=\"Outputs produced by this code cell.\")\n",
    "\n",
    "# Markdown cell model\n",
    "class NotebookMarkdownCellModel(NotebookCellModel):\n",
    "    cell_type: str = \"markdown\"\n",
    "    source: List[str] = Field(..., description=\"Markdown text inside the cell.\")\n",
    "\n",
    "# Raw cell model\n",
    "class NotebookRawCellModel(NotebookCellModel):\n",
    "    cell_type: str = \"raw\"\n",
    "    source: List[str] = Field(..., description=\"Raw content inside the cell.\")\n",
    "\n",
    "# Root model for the entire notebook file\n",
    "class NotebookFileModel(DSLModel):\n",
    "    metadata: NotebookMetadataModel\n",
    "    cells: List[Union[NotebookCodeCellModel, NotebookMarkdownCellModel, NotebookRawCellModel]]\n",
    "\n",
    "    @classmethod\n",
    "    def from_ipynb_file(cls, file_path: str) -> \"NotebookFileModel\":\n",
    "        return cls.load(file_path, file_format=\"json\")\n",
    "\n",
    "    def to_ipynb_file(self, file_path: str) -> None:\n",
    "        self.save(file_path, file_format=\"json\")"
   ],
   "execution_count": null,
   "outputs": []
  },
  {
   "cell_type": "markdown",
   "id": "e55977f6312c16e4",
   "metadata": {},
   "source": [
    "## Step 3: Example Usage\n",
    "\n",
    "Here's an example of how to use the `NotebookFileModel` to load, modify, and save a Jupyter notebook."
   ]
  },
  {
   "cell_type": "code",
   "id": "f4862384556453a3",
   "metadata": {},
   "source": [
    "# Load a notebook from a file\n",
    "notebook = NotebookFileModel.from_ipynb_file(\"example_notebook.ipynb\")\n",
    "\n",
    "# Manipulate the notebook, e.g., add a new markdown cell\n",
    "new_markdown_cell = NotebookMarkdownCellModel(source=[\"# New Title\\n\", \"This is a new markdown cell.\"])\n",
    "notebook.cells.append(new_markdown_cell)\n",
    "\n",
    "# Save the modified notebook back to a file\n",
    "notebook.to_ipynb_file(\"modified_notebook.ipynb\")"
   ],
   "execution_count": null,
   "outputs": []
  },
  {
   "cell_type": "code",
   "id": "6ba23ebbf8c80f98",
   "metadata": {},
   "source": [
    "# Creating a new notebook programmatically\n",
    "metadata = NotebookMetadataModel(\n",
    "    kernelspec={\"name\": \"python3\", \"display_name\": \"Python 3\"},\n",
    "    language_info={\"name\": \"python\", \"version\": \"3.8\"}\n",
    ")\n",
    "\n",
    "code_cell = NotebookCodeCellModel(source=[\"print('Hello, world!')\"], execution_count=1)\n",
    "markdown_cell = NotebookMarkdownCellModel(source=[\"# This is a markdown cell\"])\n",
    "\n",
    "notebook = NotebookFileModel(metadata=metadata, cells=[code_cell, markdown_cell])\n",
    "\n",
    "# Serialize to an .ipynb file\n",
    "notebook.to_ipynb_file(\"example_notebook.ipynb\")\n"
   ],
   "execution_count": null,
   "outputs": []
  },
  {
   "cell_type": "code",
   "id": "50776582cf6f5db9",
   "metadata": {},
   "source": [
    "from dslmodel import init_instant\n",
    "\n",
    "init_instant()\n",
    "\n",
    "hello_world = NotebookCodeCellModel.from_prompt(\"A code cell that prints 'Hello, world!' in Python\")\n",
    "print(hello_world)"
   ],
   "execution_count": null,
   "outputs": []
  },
  {
   "cell_type": "code",
   "id": "fc8dbbf4d5c722db",
   "metadata": {},
   "source": [
    "elementary_cellular_automaton = NotebookCodeCellModel.from_prompt(\"A code cell that implements the elementary cellular automaton rule 30\")\n",
    "print(elementary_cellular_automaton)"
   ],
   "execution_count": null,
   "outputs": []
  },
  {
   "cell_type": "code",
   "id": "3d9f4c42237ee702",
   "metadata": {},
   "source": [
    "from dslmodel import init_text\n",
    "\n",
    "init_text()\n",
    "elementary_cellular_automaton2 = NotebookCodeCellModel.from_prompt(\"A code cell that implements the elementary cellular automaton rule 30\")\n",
    "print(elementary_cellular_automaton2)"
   ],
   "execution_count": null,
   "outputs": []
  },
  {
   "metadata": {},
   "cell_type": "code",
   "source": "",
   "id": "d481133e6722bff9",
   "execution_count": null,
   "outputs": []
  }
 ],
 "metadata": {
  "kernelspec": {
   "display_name": "Python 3",
   "language": "python",
   "name": "python3"
  },
  "language_info": {
   "name": "python",
   "version": "3.8"
  }
 },
 "nbformat": 4,
 "nbformat_minor": 5
}
