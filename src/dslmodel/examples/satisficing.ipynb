{
 "cells": [
  {
   "cell_type": "code",
   "id": "initial_id",
   "metadata": {
    "collapsed": true,
    "ExecuteTime": {
     "end_time": "2024-10-06T19:50:26.010461Z",
     "start_time": "2024-10-06T19:50:24.637194Z"
    }
   },
   "source": [
    "from dslmodel import DSLModel, init_instant\n",
    "from pydantic import Field\n",
    "from typing import List, Optional, Any\n",
    "import dspy"
   ],
   "execution_count": 3,
   "outputs": []
  },
  {
   "cell_type": "code",
   "id": "5ea26fc19d1e94a2",
   "metadata": {
    "ExecuteTime": {
     "end_time": "2024-10-08T03:18:42.355817Z",
     "start_time": "2024-10-08T03:18:42.347173Z"
    }
   },
   "source": [
    "class CriteriaModel(DSLModel):\n",
    "    \"\"\"A model representing a criterion in the decision process.\"\"\"\n",
    "    name: str = Field(..., description=\"The name of the criterion (e.g., cost, speed, quality).\")\n",
    "    weight: float = Field(..., description=\"The weight or importance of this criterion in the decision-making process.\")\n",
    "    threshold: float = Field(..., description=\"The minimum acceptable value for this criterion (satisficing threshold).\")\n",
    "\n",
    "\n",
    "class OptionModel(DSLModel):\n",
    "    \"\"\"A model representing an available option in the decision process.\"\"\"\n",
    "    name: str = Field(..., description=\"The name of the option (e.g., option A, solution B).\")\n",
    "    values: dict = Field(..., description=\"A dictionary mapping each criterion to its performance (e.g., {'cost': 50, 'quality': 80}).\")\n",
    "\n",
    "\n",
    "class SatisficeModel(DSLModel):\n",
    "    \"\"\"A model that encapsulates the satisficing decision-making process.\"\"\"\n",
    "    criteria: List[CriteriaModel] = Field(..., description=\"A list of criteria involved in the decision-making process.\")\n",
    "    options: List[OptionModel] = Field(..., description=\"A list of available options being considered.\")\n",
    "    satisficing_threshold: float = Field(..., description=\"Overall threshold for considering a decision as satisfactory.\")\n",
    "    \n",
    "    def evaluate(self) -> List[OptionModel]:\n",
    "        \"\"\"\n",
    "        Evaluate all options based on satisficing criteria.\n",
    "        \n",
    "        Returns a list of options that meet or exceed the satisficing thresholds.\n",
    "        \"\"\"\n",
    "        satisfice_results = []\n",
    "        \n",
    "        for option in self.options:\n",
    "            meets_criteria = True\n",
    "            for criterion in self.criteria:\n",
    "                if option.values.get(criterion.name, 0) < criterion.threshold:\n",
    "                    meets_criteria = False\n",
    "                    break\n",
    "            if meets_criteria:\n",
    "                satisfice_results.append(option)\n",
    "        \n",
    "        return satisfice_results\n",
    "\n",
    "    def explain(self) -> str:\n",
    "        \"\"\"Provide an explanation of the satisficing decision and why options were accepted or rejected.\"\"\"\n",
    "        evaluation = self.evaluate()\n",
    "\n",
    "        pred = dspy.Predict(\"satisfice_model, evaluation -> explanation\")\n",
    "        return pred(satisfice_model=str(self), evaluation=str(evaluation))\n"
   ],
   "execution_count": 6,
   "outputs": []
  },
  {
   "metadata": {
    "ExecuteTime": {
     "end_time": "2024-10-08T03:18:42.925949Z",
     "start_time": "2024-10-08T03:18:42.917993Z"
    }
   },
   "cell_type": "code",
   "source": [
    "\n",
    "# Example usage:\n",
    "\n",
    "criteria_list = [\n",
    "    CriteriaModel(name=\"cost\", weight=0.5, threshold=100),\n",
    "    CriteriaModel(name=\"quality\", weight=0.3, threshold=75),\n",
    "    CriteriaModel(name=\"speed\", weight=0.2, threshold=50)\n",
    "]\n",
    "\n",
    "option_list = [\n",
    "    OptionModel(name=\"Option A\", values={\"cost\": 90, \"quality\": 80, \"speed\": 55}),\n",
    "    OptionModel(name=\"Option B\", values={\"cost\": 110, \"quality\": 85, \"speed\": 60}),\n",
    "    OptionModel(name=\"Option C\", values={\"cost\": 105, \"quality\": 70, \"speed\": 45})\n",
    "]\n",
    "\n",
    "init_instant()\n",
    "satisfice = SatisficeModel(criteria=criteria_list, options=option_list, satisficing_threshold=50)\n",
    "satisfice_results = satisfice.evaluate()\n",
    "print(satisfice.explain())\n"
   ],
   "id": "7027abe878060c4b",
   "execution_count": 7,
   "outputs": []
  },
  {
   "metadata": {},
   "cell_type": "code",
   "execution_count": null,
   "source": "",
   "id": "d1bc526ef8d8192b",
   "outputs": []
  }
 ],
 "metadata": {
  "kernelspec": {
   "display_name": "Python 3",
   "language": "python",
   "name": "python3"
  },
  "language_info": {
   "codemirror_mode": {
    "name": "ipython",
    "version": 2
   },
   "file_extension": ".py",
   "mimetype": "text/x-python",
   "name": "python",
   "nbconvert_exporter": "python",
   "pygments_lexer": "ipython2",
   "version": "2.7.6"
  }
 },
 "nbformat": 4,
 "nbformat_minor": 5
}
