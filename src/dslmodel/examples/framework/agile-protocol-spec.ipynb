{
 "cells": [
  {
   "cell_type": "code",
   "id": "b9dd912ff04501cd",
   "metadata": {
    "collapsed": true,
    "ExecuteTime": {
     "end_time": "2024-10-08T18:06:25.780916Z",
     "start_time": "2024-10-08T18:06:25.778652Z"
    }
   },
   "source": [
    "meeting_template = \"\"\"Fortune 10 Board Meeting about {{ fake_bs() }} \n",
    "with {% for participant in participants %}{{ participant }}{% if not loop.last %}, {% endif %}{% endfor %}.\n",
    "\n",
    "MAKE SURE ALL FIELDS ARE VERBOSE WITH RELEVANT EXAMPLE TEXT\n",
    "\"\"\""
   ],
   "execution_count": 1,
   "outputs": []
  },
  {
   "metadata": {
    "ExecuteTime": {
     "end_time": "2024-10-08T18:06:29.658970Z",
     "start_time": "2024-10-08T18:06:25.781917Z"
    }
   },
   "cell_type": "code",
   "source": [
    "from dslmodel.utils.model_tools import run_dsls\n",
    "from dslmodel.examples.aps_models import Participant, Meeting\n",
    "\n",
    "def main():\n",
    "    \"\"\"Main function\"\"\"\n",
    "\n",
    "    participants = [Participant() for _ in range(20)]\n",
    "\n",
    "    # Output the generated participants\n",
    "    for i, participant in enumerate(participants):\n",
    "        print(f\"Participant {i+1}: {participant}\")\n",
    "\n",
    "    instance = Meeting.from_prompt(meeting_template, participants=participants)\n",
    "    print(instance.to_yaml())\n",
    "\n",
    "\n",
    "def run_participants_concurrently():\n",
    "    \"\"\"Create 5 participants concurrently using the run_dsls function.\"\"\"\n",
    "    # Prepare tasks for creating 5 different participants concurrently\n",
    "    from dslmodel.template import render\n",
    "\n",
    "    tasks = [\n",
    "        (Participant, render(\"Generate participant {{fake_name()}}, {{ fake_job() }} for the board meeting. \"\n",
    "                             \"Start time {{ fake_time() }}\")) for i in range(5)\n",
    "    ]\n",
    "\n",
    "    # Run tasks concurrently\n",
    "    results = run_dsls(tasks, max_workers=5)\n",
    "\n",
    "    # Output the generated participants\n",
    "    for i, result in enumerate(results):\n",
    "        print(f\"Participant {i+1}: {result}\")\n",
    "\n",
    "\n",
    "if __name__ == '__main__':\n",
    "    from dslmodel.utils.dspy_tools import init_text, init_instant\n",
    "    # init_text()\n",
    "    init_instant()\n",
    "    run_participants_concurrently()\n",
    "    # main()"
   ],
   "id": "initial_id",
   "execution_count": 2,
   "outputs": []
  },
  {
   "metadata": {},
   "cell_type": "code",
   "execution_count": null,
   "source": "",
   "id": "4fb7ff65dec37b37",
   "outputs": []
  }
 ],
 "metadata": {
  "kernelspec": {
   "display_name": "Python 3",
   "language": "python",
   "name": "python3"
  },
  "language_info": {
   "codemirror_mode": {
    "name": "ipython",
    "version": 2
   },
   "file_extension": ".py",
   "mimetype": "text/x-python",
   "name": "python",
   "nbconvert_exporter": "python",
   "pygments_lexer": "ipython2",
   "version": "2.7.6"
  }
 },
 "nbformat": 4,
 "nbformat_minor": 5
}
