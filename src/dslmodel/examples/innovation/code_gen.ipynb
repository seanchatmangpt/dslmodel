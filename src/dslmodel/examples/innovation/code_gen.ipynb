{
 "cells": [
  {
   "cell_type": "code",
   "execution_count": 2,
   "id": "initial_id",
   "metadata": {
    "ExecuteTime": {
     "end_time": "2024-11-05T23:50:28.541128Z",
     "start_time": "2024-11-05T23:50:27.741541Z"
    },
    "collapsed": true
   },
   "source": [
    "from typing import Type\n",
    "\n",
    "from dslmodel.generators import gen_int, gen_list, gen_str, gen_bool, gen_dict, gen_float\n",
    "\n",
    "\n",
    "def gen(type_: Type, prompt: str):\n",
    "    if type_ == int:\n",
    "        return gen_int(prompt)\n",
    "    elif type_ == str:\n",
    "        return gen_str(prompt)\n",
    "    elif type_ == bool:\n",
    "        return gen_bool(prompt)\n",
    "    elif type_ == list:\n",
    "        return gen_list(prompt)\n",
    "    elif type_ == dict:\n",
    "        return gen_dict(prompt)\n",
    "    elif type_ == float:\n",
    "        return gen_float(prompt)\n",
    "    # Type is a pydantic model or subclass of pydantic model\n",
    "    elif issubclass(type_, BaseModel):\n",
    "        return gen_pydantic(type_, prompt)\n",
    "\n",
    "\n",
    "gen(str, \"What does hello world mean?\")"
   ],
   "outputs": []
  },
  {
   "cell_type": "code",
   "execution_count": null,
   "id": "1904648570916143",
   "metadata": {},
   "source": [],
   "outputs": []
  }
 ],
 "metadata": {
  "kernelspec": {
   "display_name": "Python 3",
   "language": "python",
   "name": "python3"
  },
  "language_info": {
   "codemirror_mode": {
    "name": "ipython",
    "version": 2
   },
   "file_extension": ".py",
   "mimetype": "text/x-python",
   "name": "python",
   "nbconvert_exporter": "python",
   "pygments_lexer": "ipython2",
   "version": "2.7.6"
  }
 },
 "nbformat": 4,
 "nbformat_minor": 5
}
