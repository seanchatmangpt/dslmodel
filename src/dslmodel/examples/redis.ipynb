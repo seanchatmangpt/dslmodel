{
 "cells": [
  {
   "metadata": {},
   "cell_type": "code",
   "outputs": [],
   "execution_count": null,
   "source": "",
   "id": "f203293d43edc89"
  },
  {
   "cell_type": "code",
   "id": "initial_id",
   "metadata": {
    "collapsed": true,
    "ExecuteTime": {
     "end_time": "2024-10-28T03:18:28.428150Z",
     "start_time": "2024-10-28T03:18:26.980094Z"
    }
   },
   "source": "!pip install redis nest_asyncio",
   "outputs": [
    {
     "name": "stdout",
     "output_type": "stream",
     "text": [
      "Requirement already satisfied: redis in /Users/sac/.pyenv/versions/3.12.2/lib/python3.12/site-packages (5.2.0)\r\n",
      "Requirement already satisfied: nest_asyncio in /Users/sac/.pyenv/versions/3.12.2/lib/python3.12/site-packages (1.6.0)\r\n"
     ]
    }
   ],
   "execution_count": 3
  },
  {
   "metadata": {
    "ExecuteTime": {
     "end_time": "2024-10-28T03:18:40.116408Z",
     "start_time": "2024-10-28T03:18:40.050680Z"
    }
   },
   "cell_type": "code",
   "source": [
    "import nest_asyncio\n",
    "import httpx\n",
    "import asyncio\n",
    "\n",
    "# Allow nested asyncio.run() in Jupyter\n",
    "nest_asyncio.apply()\n",
    "\n",
    "# Define base URL of the Nuxt API\n",
    "BASE_URL = \"http://localhost:3000/api\"\n",
    "\n",
    "\n",
    "# Function to save a file to Nuxt API (stored in Redis)\n",
    "async def save_file_to_nuxt(filename, content):\n",
    "    async with httpx.AsyncClient() as client:\n",
    "        response = await client.post(f\"{BASE_URL}/save-file\", json={\"filename\": filename, \"content\": content})\n",
    "        if response.status_code == 200:\n",
    "            print(\"File saved successfully:\", response.json())\n",
    "        else:\n",
    "            print(\"Failed to save file:\", response.text)\n",
    "\n",
    "\n",
    "# Function to get a file from Nuxt API\n",
    "async def get_file_from_nuxt(filename):\n",
    "    async with httpx.AsyncClient() as client:\n",
    "        response = await client.get(f\"{BASE_URL}/get-file\", params={\"filename\": filename})\n",
    "        if response.status_code == 200:\n",
    "            data = response.json()\n",
    "            print(f\"Retrieved file content: {data.get('content')}\")\n",
    "        else:\n",
    "            print(\"Failed to retrieve file:\", response.text)\n",
    "\n",
    "\n",
    "# Usage example with asyncio\n",
    "filename = \"example.txt\"\n",
    "content = \"Hello from Python via Nuxt!\"\n",
    "\n",
    "# Run the functions within an existing event loop in Jupyter\n",
    "await save_file_to_nuxt(filename, content)\n",
    "await get_file_from_nuxt(filename)\n"
   ],
   "id": "856403ed163faf2b",
   "outputs": [
    {
     "name": "stdout",
     "output_type": "stream",
     "text": [
      "File saved successfully: {'message': 'File example.txt saved to Redis', 'content': 'Hello from Python via Nuxt!'}\n",
      "Retrieved file content: Hello from Python via Nuxt!\n"
     ]
    }
   ],
   "execution_count": 5
  },
  {
   "metadata": {
    "ExecuteTime": {
     "end_time": "2024-10-28T03:19:22.534019Z",
     "start_time": "2024-10-28T03:19:22.497470Z"
    }
   },
   "cell_type": "code",
   "source": [
    "import redis\n",
    "\n",
    "# Connect to Redis\n",
    "client = redis.Redis(host='localhost', port=6379, db=0)\n",
    "\n",
    "# Define a key and value\n",
    "filename = 'example.txt'\n",
    "new_content = 'Updated content from Python'\n",
    "\n",
    "# Save the new content to Redis\n",
    "client.set(f'nuxt-shared:{filename}', new_content)\n",
    "print(f\"File '{filename}' updated in Redis with content: {new_content}\")\n"
   ],
   "id": "1dcfa87f8692f0a8",
   "outputs": [
    {
     "name": "stdout",
     "output_type": "stream",
     "text": [
      "File 'example.txt' updated in Redis with content: Updated content from Python\n"
     ]
    }
   ],
   "execution_count": 6
  },
  {
   "metadata": {
    "ExecuteTime": {
     "end_time": "2024-10-28T03:19:33.535389Z",
     "start_time": "2024-10-28T03:19:33.512903Z"
    }
   },
   "cell_type": "code",
   "source": [
    "import httpx\n",
    "import asyncio\n",
    "import nest_asyncio\n",
    "\n",
    "# Enable nested async in Jupyter\n",
    "nest_asyncio.apply()\n",
    "\n",
    "# Define base URL of the Nuxt API\n",
    "BASE_URL = \"http://localhost:3000/api\"\n",
    "\n",
    "\n",
    "# Function to get a file from Nuxt API\n",
    "async def get_file_from_nuxt(filename):\n",
    "    async with httpx.AsyncClient() as client:\n",
    "        response = await client.get(f\"{BASE_URL}/get-file\", params={\"filename\": filename})\n",
    "        if response.status_code == 200:\n",
    "            data = response.json()\n",
    "            print(f\"Retrieved file content from Nuxt: {data.get('content')}\")\n",
    "        else:\n",
    "            print(\"Failed to retrieve file:\", response.text)\n",
    "\n",
    "\n",
    "# Retrieve the file content via Nuxt API\n",
    "await get_file_from_nuxt(filename)\n"
   ],
   "id": "4aabf73555aa78d6",
   "outputs": [
    {
     "name": "stdout",
     "output_type": "stream",
     "text": [
      "Retrieved file content from Nuxt: Updated content from Python\n"
     ]
    }
   ],
   "execution_count": 7
  },
  {
   "metadata": {},
   "cell_type": "code",
   "outputs": [],
   "execution_count": null,
   "source": "",
   "id": "77441efb86079be8"
  }
 ],
 "metadata": {
  "kernelspec": {
   "display_name": "Python 3",
   "language": "python",
   "name": "python3"
  },
  "language_info": {
   "codemirror_mode": {
    "name": "ipython",
    "version": 2
   },
   "file_extension": ".py",
   "mimetype": "text/x-python",
   "name": "python",
   "nbconvert_exporter": "python",
   "pygments_lexer": "ipython2",
   "version": "2.7.6"
  }
 },
 "nbformat": 4,
 "nbformat_minor": 5
}
