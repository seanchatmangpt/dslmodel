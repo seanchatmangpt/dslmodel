{
 "cells": [
  {
   "metadata": {
    "ExecuteTime": {
     "end_time": "2024-10-18T01:13:09.543554Z",
     "start_time": "2024-10-18T01:13:08.513097Z"
    }
   },
   "cell_type": "code",
   "source": [
    "from pydantic import Field\n",
    "\n",
    "from dslmodel import DSLModel, init_instant\n",
    "from typing import List, Type\n",
    "from typing import Optional\n",
    "\n",
    "class Task(DSLModel):\n",
    "    \"\"\"\n",
    "    Represents a task within a work session.\n",
    "    \"\"\"\n",
    "    name: str = Field(..., description=\"The name of the task.\")\n",
    "    description: Optional[str] = Field(None, description=\"A brief description of the task.\")\n",
    "    duration_minutes: int = Field(..., description=\"Estimated duration to complete the task.\")\n",
    "    status: str = Field(\"Pending\", description=\"Current status of the task (e.g., Pending, In Progress, Completed).\")\n",
    "\n",
    "\n",
    "class SMARTGoal(DSLModel):\n",
    "    \"\"\"\n",
    "    Represents a SMART (Specific, Measurable, Achievable, Relevant, Time-bound) goal.\n",
    "    \"\"\"\n",
    "    title: str = Field(..., description=\"The title of the SMART goal.\")\n",
    "    specific: str = Field(..., description=\"Specific details of the goal.\")\n",
    "    measurable: str = Field(..., description=\"Metrics to measure the goal's progress.\")\n",
    "    achievable: str = Field(..., description=\"Criteria that make the goal achievable.\")\n",
    "    relevant: str = Field(..., description=\"Relevance of the goal to broader objectives.\")\n",
    "    time_bound: str = Field(..., description=\"Time frame to achieve the goal.\")\n"
   ],
   "id": "ad377114a577a967",
   "execution_count": 1,
   "outputs": []
  },
  {
   "metadata": {
    "ExecuteTime": {
     "end_time": "2024-10-18T01:13:09.575522Z",
     "start_time": "2024-10-18T01:13:09.544585Z"
    }
   },
   "cell_type": "code",
   "source": [
    "from dslmodel import from_prompt_chain\n",
    "\n",
    "# Define the initial prompt\n",
    "initial_prompt = \"Grocery shopping for milk, cheese, and bread.\"\n",
    "\n",
    "# Define the list of models in the desired sequence\n",
    "models_chain = [SMARTGoal, Task]\n",
    "\n",
    "init_instant()\n",
    "\n",
    "# Execute the from_prompt_chain function\n",
    "chain_results = from_prompt_chain(initial_prompt, models_chain)\n",
    "\n",
    "# Access and print the results\n",
    "for idx, result in enumerate(chain_results):\n",
    "    if result:\n",
    "        print(f\"Result {idx + 1} ({result.__class__.__name__}): {result}\")\n",
    "    else:\n",
    "        print(f\"Result {idx + 1}: Failed to instantiate the model.\")\n"
   ],
   "id": "ff7830b4843ffe54",
   "execution_count": 2,
   "outputs": []
  },
  {
   "metadata": {
    "ExecuteTime": {
     "end_time": "2024-10-18T01:13:10.174745Z",
     "start_time": "2024-10-18T01:13:09.576088Z"
    }
   },
   "cell_type": "code",
   "source": [
    "from dslmodel import DSLModel, from_prompt_chain\n",
    "from typing import List\n",
    "from pydantic import Field\n",
    "\n",
    "class Task(DSLModel):\n",
    "    name: str = Field(..., description=\"Name of the task.\")\n",
    "    description: str = Field(..., description=\"Description of the task.\")\n",
    "\n",
    "class SequentialWorkflow(DSLModel):\n",
    "    tasks: List[Task] = Field(..., description=\"List of tasks in sequence.\")\n",
    "\n",
    "# Define the models and initial prompt\n",
    "initial_prompt = \"Plan a product launch sequence.\"\n",
    "models_chain = [Task, Task, Task]\n",
    "\n",
    "# Use from_prompt_chain to create a sequence of tasks\n",
    "workflow_result = from_prompt_chain(initial_prompt, models_chain)\n",
    "print(\"Sequential Workflow:\", workflow_result)\n"
   ],
   "id": "6f280f270f09a37b",
   "execution_count": 3,
   "outputs": []
  },
  {
   "metadata": {
    "ExecuteTime": {
     "end_time": "2024-10-18T01:48:05.903912Z",
     "start_time": "2024-10-18T01:48:03.870289Z"
    }
   },
   "cell_type": "code",
   "source": [
    "from dslmodel import from_prompt_chain, init_instant, init_text, DSLModel, Field\n",
    "\n",
    "init_text()\n",
    "\n",
    "class InitialDraft(DSLModel):\n",
    "    draft: str = Field(..., description=\"The initial draft content.\")\n",
    "\n",
    "class Feedback(DSLModel):\n",
    "    suggestions: str = Field(..., description=\"Feedback for improving the draft.\")\n",
    "\n",
    "class RefinedDraft(DSLModel):\n",
    "    improved_draft: str = Field(..., description=\"The refined version of the draft.\")\n",
    "\n",
    "class IterationCycle(DSLModel):\n",
    "    initial: InitialDraft = Field(..., description=\"Initial draft of the document.\")\n",
    "    feedback: Feedback = Field(..., description=\"Feedback on the initial draft.\")\n",
    "    refined: RefinedDraft = Field(..., description=\"Refined draft after feedback.\")\n",
    "\n",
    "initial_prompt = \"Write a draft for a blog post on AI ethics.\"\n",
    "models_chain = [InitialDraft, Feedback, RefinedDraft]\n",
    "\n",
    "# Use from_prompt_chain to refine a draft iteratively\n",
    "iteration_result = from_prompt_chain(initial_prompt, models_chain)\n",
    "print(\"Iteration Cycle:\", iteration_result)\n"
   ],
   "id": "e4bb9cb093919050",
   "execution_count": 4,
   "outputs": []
  },
  {
   "metadata": {
    "ExecuteTime": {
     "end_time": "2024-10-18T01:48:43.276234Z",
     "start_time": "2024-10-18T01:48:41.579471Z"
    }
   },
   "cell_type": "code",
   "source": [
    "class Goal(DSLModel):\n",
    "    title: str = Field(..., description=\"Title of the goal.\")\n",
    "    specific: str = Field(..., description=\"Specifics of the goal.\")\n",
    "\n",
    "class Step(DSLModel):\n",
    "    action: str = Field(..., description=\"Action to achieve the goal.\")\n",
    "\n",
    "class Resource(DSLModel):\n",
    "    name: str = Field(..., description=\"Resource needed for the step.\")\n",
    "\n",
    "class GoalPlanning(DSLModel):\n",
    "    goal: Goal = Field(..., description=\"The overarching goal.\")\n",
    "    steps: list[Step] = Field(..., description=\"Steps to achieve the goal.\")\n",
    "    resources: list[Resource] = Field(..., description=\"Resources required.\")\n",
    "\n",
    "initial_prompt = \"Plan for launching a new product in the market.\"\n",
    "models_chain = [Goal, Step, Resource]\n",
    "\n",
    "# Generate goal, steps, and resources using from_prompt_chain\n",
    "planning_result = from_prompt_chain(initial_prompt, models_chain)\n",
    "print(\"Goal Planning:\", planning_result)\n"
   ],
   "id": "78f34077495e383",
   "execution_count": 6,
   "outputs": []
  },
  {
   "metadata": {},
   "cell_type": "code",
   "execution_count": null,
   "source": "",
   "id": "6bf5cb45dddba5b0",
   "outputs": []
  }
 ],
 "metadata": {
  "kernelspec": {
   "display_name": "Python 3",
   "language": "python",
   "name": "python3"
  },
  "language_info": {
   "codemirror_mode": {
    "name": "ipython",
    "version": 2
   },
   "file_extension": ".py",
   "mimetype": "text/x-python",
   "name": "python",
   "nbconvert_exporter": "python",
   "pygments_lexer": "ipython2",
   "version": "2.7.6"
  }
 },
 "nbformat": 4,
 "nbformat_minor": 5
}
