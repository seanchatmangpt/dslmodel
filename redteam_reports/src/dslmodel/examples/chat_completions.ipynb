{
 "cells": [
  {
   "cell_type": "code",
   "execution_count": null,
   "id": "initial_id",
   "metadata": {
    "collapsed": true
   },
   "source": [
    "from typing import Optional, List\n",
    "from pydantic import Field\n",
    "from dslmodel import DSLModel, init_instant\n",
    "init_instant()\n",
    "\n"
   ],
   "outputs": []
  },
  {
   "cell_type": "code",
   "execution_count": 1,
   "id": "8ac9cf6efadb650a",
   "metadata": {
    "ExecuteTime": {
     "end_time": "2024-10-06T00:21:49.463530Z",
     "start_time": "2024-10-06T00:21:49.388768Z"
    }
   },
   "source": [
    "class Message(DSLModel):\n",
    "    content: str = Field(..., description=\"The content of the message\")\n",
    "    role: str = Field(..., description=\"The role of the sender (e.g., 'assistant', 'user', 'system')\")\n",
    "    name: Optional[str] = Field(default=None, description=\"The name of the sender (if applicable)\")\n",
    "    \n",
    "\n",
    "class Completion(DSLModel):\n",
    "    messages: List[Message] = Field(..., description=\"A list of messages comprising the completion\")"
   ],
   "outputs": []
  },
  {
   "cell_type": "code",
   "execution_count": 2,
   "id": "9a6fbe13cca0cf90",
   "metadata": {
    "ExecuteTime": {
     "end_time": "2024-10-06T00:24:20.504264Z",
     "start_time": "2024-10-06T00:24:20.495473Z"
    }
   },
   "source": [
    "import dspy\n",
    "from dslmodel import DSLModel, init_instant\n",
    "from pydantic import Field\n",
    "from typing import List, Optional, Dict\n",
    "import openai\n",
    "\n",
    "# Initialize the DSLModel environments\n",
    "init_instant()\n",
    "\n",
    "# Set OpenAI API key\n",
    "openai.api_key = \"your-api-key\"\n",
    "\n",
    "\n",
    "# Define the Message model\n",
    "class Message(DSLModel):\n",
    "    content: str = Field(..., description=\"The content of the message\")\n",
    "    role: str = Field(..., description=\"The role of the sender (e.g., 'assistant', 'user', 'system')\")\n",
    "    name: Optional[str] = Field(default=None, description=\"The name of the sender (if applicable)\")\n",
    "\n",
    "\n",
    "# Define the ToolFunction model\n",
    "class ToolFunction(DSLModel):\n",
    "    name: str = Field(..., description=\"The name of the tool (function)\")\n",
    "    description: str = Field(..., description=\"The description of the tool\")\n",
    "    parameters: Dict[str, Dict] = Field(..., description=\"The parameters required by the tool\")\n",
    "\n",
    "\n",
    "# Define the Tool model\n",
    "class Tool(DSLModel):\n",
    "    type: str = Field(\"function\", description=\"The type of the tool\")\n",
    "    function: ToolFunction = Field(..., description=\"The function details for the tool\")\n",
    "\n",
    "\n",
    "# Define the tool for getting the delivery date\n",
    "tool_data = {\n",
    "    \"type\": \"function\",\n",
    "    \"function\": {\n",
    "        \"name\": \"get_delivery_date\",\n",
    "        \"description\": \"Get the delivery date for a customer's order. Call this whenever you need to know the delivery date.\",\n",
    "        \"parameters\": {\n",
    "            \"order_id\": {\n",
    "                \"type\": \"string\",\n",
    "                \"description\": \"The customer's order ID.\"\n",
    "            }\n",
    "        }\n",
    "    }\n",
    "}\n",
    "\n",
    "tool = Tool(**tool_data)\n",
    "\n",
    "# Define the system and user messages\n",
    "messages_data = [\n",
    "    {\"role\": \"system\",\n",
    "     \"content\": \"You are a helpful customer support assistant. Use the supplied tools to assist the user.\"},\n",
    "    {\"role\": \"user\", \"content\": \"Hi, can you tell me the delivery date for my order?\"}\n",
    "]\n",
    "\n",
    "# Create Message instances using from_prompt\n",
    "messages = [Message(**msg) for msg in messages_data]\n",
    "\n",
    "print(tool, messages)"
   ],
   "outputs": []
  },
  {
   "cell_type": "code",
   "execution_count": 4,
   "id": "b44c67d662ddb8f9",
   "metadata": {
    "ExecuteTime": {
     "end_time": "2024-10-06T00:29:58.063504Z",
     "start_time": "2024-10-06T00:29:57.623548Z"
    }
   },
   "source": [
    "example = \"\"\"from pydantic import BaseModel\n",
    "from openai import OpenAI\n",
    "\n",
    "client = OpenAI()\n",
    "\n",
    "class CalendarEvent(BaseModel):\n",
    "    name: str\n",
    "    date: str\n",
    "    participants: list[str]\n",
    "\n",
    "completion = client.beta.chat.completions.parse(\n",
    "    model=\"gpt-4o-2024-08-06\",\n",
    "    messages=[\n",
    "        {\"role\": \"system\", \"content\": \"Extract the event information.\"},\n",
    "        {\"role\": \"user\", \"content\": \"Alice and Bob are going to a science fair on Friday.\"},\n",
    "    ],\n",
    "    response_format=CalendarEvent,\n",
    ")\n",
    "\n",
    "event = completion.choices[0].message.parsed\n",
    "\"\"\"\n",
    "\n",
    "# Our DSLModel version of the above\n",
    "from typing import TypeVar, Type\n",
    "T = TypeVar(\"T\", bound=DSLModel)\n",
    "\n",
    "\n",
    "class CalendarEvent(DSLModel):\n",
    "    name: str\n",
    "    date: str\n",
    "    participants: list[str]\n",
    "\n",
    "\n",
    "class Completions(DSLModel):\n",
    "    @classmethod\n",
    "    def parse(cls, messages: list[Message], response_format: Type[T]) -> T:\n",
    "        return response_format.from_prompt(messages)\n",
    "    \n",
    "\n",
    "completion = Completions.parse(example, CalendarEvent)\n",
    "print(completion)"
   ],
   "outputs": []
  },
  {
   "cell_type": "code",
   "execution_count": 6,
   "id": "f665d406",
   "metadata": {
    "ExecuteTime": {
     "end_time": "2024-10-06T00:30:41.871541Z",
     "start_time": "2024-10-06T00:30:41.824039Z"
    }
   },
   "source": [
    "completion = CalendarEvent.from_prompt(example)\n",
    "print(completion)"
   ],
   "outputs": []
  },
  {
   "cell_type": "code",
   "id": "6e52e9ec7fb9bb5e",
   "metadata": {
    "ExecuteTime": {
     "end_time": "2024-10-06T00:36:37.211664Z",
     "start_time": "2024-10-06T00:36:37.165281Z"
    }
   },
   "source": [
    "class GetDeliveryDate(DSLModel):\n",
    "    order_id: str\n",
    "    \n",
    "msgs = \"\"\"messages.append({\"role\": \"system\", \"content\": \"You are a helpful customer support assistant. Use the supplied tools to assist the user.\"})\n",
    "messages.append({\"role\": \"user\", \"content\": \"Hi, can you tell me the delivery date for my order #12345?\"}) \n",
    "\"\"\" \n",
    "\n",
    "date = GetDeliveryDate.from_prompt(msgs)"
   ],
   "execution_count": 9,
   "outputs": []
  },
  {
   "cell_type": "code",
   "id": "36ad901ea7d18c61",
   "metadata": {
    "ExecuteTime": {
     "end_time": "2024-10-06T00:37:24.147963Z",
     "start_time": "2024-10-06T00:37:24.145093Z"
    }
   },
   "source": "print(date.to_toml())",
   "execution_count": 14,
   "outputs": []
  },
  {
   "metadata": {},
   "cell_type": "code",
   "execution_count": null,
   "source": "",
   "id": "16c0a39f791473c5",
   "outputs": []
  }
 ],
 "metadata": {
  "kernelspec": {
   "display_name": "Python 3",
   "language": "python",
   "name": "python3"
  },
  "language_info": {
   "codemirror_mode": {
    "name": "ipython",
    "version": 2
   },
   "file_extension": ".py",
   "mimetype": "text/x-python",
   "name": "python",
   "nbconvert_exporter": "python",
   "pygments_lexer": "ipython2",
   "version": "2.7.6"
  }
 },
 "nbformat": 4,
 "nbformat_minor": 5
}
