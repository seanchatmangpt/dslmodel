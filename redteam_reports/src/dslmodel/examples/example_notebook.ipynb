{
 "metadata": {
  "kernelspec": {
   "name": "python3",
   "display_name": "Python 3 (ipykernel)",
   "language": "python"
  },
  "language_info": {
   "name": "python",
   "version": "3.8"
  }
 },
 "cells": [
  {
   "cell_type": "code",
   "metadata": {
    "ExecuteTime": {
     "end_time": "2024-10-05T22:22:45.946698Z",
     "start_time": "2024-10-05T22:22:45.944411Z"
    }
   },
   "source": [
    "print('Hello, world!')"
   ],
   "id": "60515038013c15a0",
   "outputs": [
    {
     "name": "stdout",
     "output_type": "stream",
     "text": [
      "Hello, world!\n"
     ]
    }
   ],
   "execution_count": 1
  },
  {
   "cell_type": "markdown",
   "metadata": {},
   "source": [
    "# This is a markdown cell"
   ],
   "id": "3283a9996adc554"
  }
 ]
}
