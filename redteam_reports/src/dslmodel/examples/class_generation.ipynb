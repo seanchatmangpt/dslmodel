{
 "cells": [
  {
   "cell_type": "code",
   "execution_count": 8,
   "id": "initial_id",
   "metadata": {
    "ExecuteTime": {
     "end_time": "2024-10-04T21:37:28.758553Z",
     "start_time": "2024-10-04T21:37:28.755012Z"
    },
    "collapsed": true,
    "jupyter": {
     "outputs_hidden": true
    }
   },
   "source": [
    "# Import necessary utilities and functions\n",
    "from dslmodel.utils.dspy_tools import init_instant\n",
    "from dslmodel.generators import gen_list\n",
    "from dslmodel.utils.model_tools import run_dsls\n",
    "from dslmodel.generators.gen_dslmodel_class import DSLModelClassTemplateSpecificationModel, FieldTemplateSpecificationModel, class_template_str, write_pydantic_class_to_file\n",
    "from dslmodel.template import render\n",
    "from dslmodel.utils.str_tools import pythonic_str"
   ],
   "outputs": []
  },
  {
   "cell_type": "code",
   "execution_count": 3,
   "id": "754fd1717da6dc85",
   "metadata": {
    "ExecuteTime": {
     "end_time": "2024-10-04T21:35:20.988680Z",
     "start_time": "2024-10-04T21:35:20.984028Z"
    }
   },
   "source": [
    "# Initialize the necessary environments\n",
    "init_instant()\n",
    "\n",
    "# Set the model prompt\n",
    "model_prompt = (\"I need a verbose contact model named ContactModel from the friend of a friend ontology with 20 fields\")\n",
    "\n",
    "# Step 1: Generate field list from the prompt\n",
    "fields = gen_list(f\"{model_prompt}\\nOnly list the field names.\")\n",
    "print(fields)"
   ],
   "outputs": []
  },
  {
   "cell_type": "code",
   "execution_count": 5,
   "id": "69f84ef30ad20091",
   "metadata": {
    "ExecuteTime": {
     "end_time": "2024-10-04T21:35:41.020762Z",
     "start_time": "2024-10-04T21:35:39.772325Z"
    }
   },
   "source": [
    "# %%python\n",
    "# Step 2: Generate field descriptions using run_dsls\n",
    "tasks = [\n",
    "    (FieldTemplateSpecificationModel, f\"Generate a field named {field} with a useful description\")\n",
    "    for field in fields\n",
    "]\n",
    "results = run_dsls(tasks, 10)\n",
    "print(results)"
   ],
   "outputs": []
  },
  {
   "cell_type": "code",
   "execution_count": 6,
   "id": "24237c2761c69624",
   "metadata": {
    "ExecuteTime": {
     "end_time": "2024-10-04T21:36:26.644070Z",
     "start_time": "2024-10-04T21:36:26.589411Z"
    }
   },
   "source": [
    "# Step 3: Instantiate DSLModelClassTemplateSpecificationModel from the prompt\n",
    "model_inst = DSLModelClassTemplateSpecificationModel.from_prompt(model_prompt, True)\n",
    "\n",
    "# Step 4: Prepare the template data\n",
    "template_data = {**model_inst.model_dump(), \"fields\": results}\n",
    "\n",
    "# Step 5: Render the Pydantic class from the specification template\n",
    "rendered_class_str = render(class_template_str, model=template_data)\n",
    "print(rendered_class_str)"
   ],
   "outputs": []
  },
  {
   "cell_type": "code",
   "execution_count": null,
   "id": "4a906a828ca97d5",
   "metadata": {
    "ExecuteTime": {
     "end_time": "2024-10-04T21:42:13.467720Z",
     "start_time": "2024-10-04T21:42:13.464439Z"
    }
   },
   "source": [
    "# Step 6: Write the rendered class to a Python file\n",
    "filename = f\"{pythonic_str(model_inst.class_name)}.py\"\n",
    "write_pydantic_class_to_file(rendered_class_str, filename)\n",
    "print(filename)"
   ],
   "outputs": []
  },
  {
   "cell_type": "code",
   "execution_count": 12,
   "id": "9941e9c144531cb3",
   "metadata": {
    "ExecuteTime": {
     "end_time": "2024-10-04T21:45:51.527128Z",
     "start_time": "2024-10-04T21:45:51.523890Z"
    }
   },
   "source": [
    "from pathlib import Path\n",
    "togaf_context = Path(\"togaf-context.md\").read_text()\n",
    "print(togaf_context)"
   ],
   "outputs": []
  },
  {
   "cell_type": "code",
   "execution_count": 13,
   "id": "3ab208142f0cb9",
   "metadata": {
    "ExecuteTime": {
     "end_time": "2024-10-04T21:45:58.707338Z",
     "start_time": "2024-10-04T21:45:56.760693Z"
    }
   },
   "source": [
    "classes = gen_list(f\"{togaf_context}\\n\\nCreate a list of all classes required\")\n",
    "print(classes)"
   ],
   "outputs": []
  },
  {
   "cell_type": "code",
   "execution_count": 15,
   "id": "b330abd233acaa0c",
   "metadata": {
    "ExecuteTime": {
     "end_time": "2024-10-04T21:50:10.886862Z",
     "start_time": "2024-10-04T21:50:10.109300Z"
    }
   },
   "source": [
    "import dspy\n",
    "togaf_summary = dspy.Predict(\"togaf -> togaf_summary\")(togaf=togaf_context).togaf_summary\n",
    "print(togaf_summary)"
   ],
   "outputs": []
  },
  {
   "cell_type": "code",
   "execution_count": 16,
   "id": "11e2b9aa8030b709",
   "metadata": {
    "ExecuteTime": {
     "end_time": "2024-10-04T21:50:49.340860Z",
     "start_time": "2024-10-04T21:50:48.688613Z"
    }
   },
   "source": [
    "curr_class = classes[0]\n",
    "fields = gen_list(f\"{togaf_summary}\\nOnly list the field names for the {curr_class} of the TOGAF Python Framework\")\n",
    "print(fields)"
   ],
   "outputs": []
  },
  {
   "cell_type": "code",
   "execution_count": 17,
   "id": "507aef2aa22bc5a4",
   "metadata": {
    "ExecuteTime": {
     "end_time": "2024-10-04T21:51:28.487756Z",
     "start_time": "2024-10-04T21:51:26.387516Z"
    }
   },
   "source": [
    "# Step 2: Generate field descriptions using run_dsls\n",
    "tasks = [\n",
    "    (FieldTemplateSpecificationModel, f\"Generate a field named {field} with a useful description\")\n",
    "    for field in fields\n",
    "]\n",
    "results = run_dsls(tasks, 10)\n",
    "print(results)"
   ],
   "outputs": []
  },
  {
   "cell_type": "code",
   "execution_count": 20,
   "id": "cd5851048a047cf",
   "metadata": {
    "ExecuteTime": {
     "end_time": "2024-10-04T21:53:21.360254Z",
     "start_time": "2024-10-04T21:53:20.665342Z"
    }
   },
   "source": [
    "# Step 3: Instantiate DSLModelClassTemplateSpecificationModel from the prompt\n",
    "model_inst = DSLModelClassTemplateSpecificationModel.from_prompt(togaf_summary, True)\n",
    "\n",
    "# Step 4: Prepare the template data\n",
    "template_data = {**model_inst.model_dump(), \"fields\": results}\n",
    "\n",
    "# Step 5: Render the Pydantic class from the specification template\n",
    "rendered_class_str = render(class_template_str, model=template_data)\n",
    "print(rendered_class_str)"
   ],
   "outputs": []
  },
  {
   "cell_type": "code",
   "execution_count": 21,
   "id": "468418100dbaf78c",
   "metadata": {
    "ExecuteTime": {
     "end_time": "2024-10-04T21:53:26.030170Z",
     "start_time": "2024-10-04T21:53:26.026919Z"
    }
   },
   "source": [
    "# Step 6: Write the rendered class to a Python file\n",
    "filename = f\"togaf/{pythonic_str(model_inst.class_name)}.py\"\n",
    "write_pydantic_class_to_file(rendered_class_str, filename)\n",
    "print(filename)"
   ],
   "outputs": []
  }
 ],
 "metadata": {
  "kernelspec": {
   "display_name": "Python 3 (ipykernel)",
   "language": "python",
   "name": "python3"
  },
  "language_info": {
   "codemirror_mode": {
    "name": "ipython",
    "version": 3
   },
   "file_extension": ".py",
   "mimetype": "text/x-python",
   "name": "python",
   "nbconvert_exporter": "python",
   "pygments_lexer": "ipython3",
   "version": "3.12.5"
  }
 },
 "nbformat": 4,
 "nbformat_minor": 5
}
